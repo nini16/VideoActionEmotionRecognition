{
  "nbformat": 4,
  "nbformat_minor": 0,
  "metadata": {
    "kernelspec": {
      "display_name": "Python 3",
      "language": "python",
      "name": "python3"
    },
    "language_info": {
      "codemirror_mode": {
        "name": "ipython",
        "version": 3
      },
      "file_extension": ".py",
      "mimetype": "text/x-python",
      "name": "python",
      "nbconvert_exporter": "python",
      "pygments_lexer": "ipython3",
      "version": "3.6.8"
    },
    "colab": {
      "name": "demoApplyToVideo.ipynb",
      "provenance": [],
      "collapsed_sections": [],
      "toc_visible": true
    },
    "accelerator": "GPU"
  },
  "cells": [
    {
      "cell_type": "markdown",
      "metadata": {
        "id": "oqA1avG4nsxF"
      },
      "source": [
        "Demo to detect Reading in sample video"
      ]
    },
    {
      "cell_type": "code",
      "metadata": {
        "id": "H5pzA2qj8Uf-",
        "colab": {
          "base_uri": "https://localhost:8080/"
        },
        "outputId": "27afbbeb-38ca-402b-9608-17dffc161a86"
      },
      "source": [
        "import os\n",
        "from moviepy.editor import VideoFileClip, CompositeVideoClip\n",
        "import json\n",
        "import numpy as np\n",
        "import matplotlib.pyplot as plt\n",
        "from tqdm import tqdm\n",
        "import math\n",
        "\n",
        "import keras\n",
        "from keras.models import load_model\n",
        "import numpy as np\n",
        "from sklearn.metrics import accuracy_score"
      ],
      "execution_count": 1,
      "outputs": [
        {
          "output_type": "stream",
          "text": [
            "Imageio: 'ffmpeg-linux64-v3.3.1' was not found on your computer; downloading it now.\n",
            "Try 1. Download from https://github.com/imageio/imageio-binaries/raw/master/ffmpeg/ffmpeg-linux64-v3.3.1 (43.8 MB)\n",
            "Downloading: 8192/45929032 bytes (0.0%)\b\b\b\b\b\b\b\b\b\b\b\b\b\b\b\b\b\b\b\b\b\b\b\b\b\b3629056/45929032 bytes (7.9%)\b\b\b\b\b\b\b\b\b\b\b\b\b\b\b\b\b\b\b\b\b\b\b\b\b\b\b\b\b7520256/45929032 bytes (16.4%)\b\b\b\b\b\b\b\b\b\b\b\b\b\b\b\b\b\b\b\b\b\b\b\b\b\b\b\b\b\b11689984/45929032 bytes (25.5%)\b\b\b\b\b\b\b\b\b\b\b\b\b\b\b\b\b\b\b\b\b\b\b\b\b\b\b\b\b\b\b15523840/45929032 bytes (33.8%)\b\b\b\b\b\b\b\b\b\b\b\b\b\b\b\b\b\b\b\b\b\b\b\b\b\b\b\b\b\b\b19431424/45929032 bytes (42.3%)\b\b\b\b\b\b\b\b\b\b\b\b\b\b\b\b\b\b\b\b\b\b\b\b\b\b\b\b\b\b\b23486464/45929032 bytes (51.1%)\b\b\b\b\b\b\b\b\b\b\b\b\b\b\b\b\b\b\b\b\b\b\b\b\b\b\b\b\b\b\b27492352/45929032 bytes (59.9%)\b\b\b\b\b\b\b\b\b\b\b\b\b\b\b\b\b\b\b\b\b\b\b\b\b\b\b\b\b\b\b31629312/45929032 bytes (68.9%)\b\b\b\b\b\b\b\b\b\b\b\b\b\b\b\b\b\b\b\b\b\b\b\b\b\b\b\b\b\b\b35536896/45929032 bytes (77.4%)\b\b\b\b\b\b\b\b\b\b\b\b\b\b\b\b\b\b\b\b\b\b\b\b\b\b\b\b\b\b\b39436288/45929032 bytes (85.9%)\b\b\b\b\b\b\b\b\b\b\b\b\b\b\b\b\b\b\b\b\b\b\b\b\b\b\b\b\b\b\b43393024/45929032 bytes (94.5%)\b\b\b\b\b\b\b\b\b\b\b\b\b\b\b\b\b\b\b\b\b\b\b\b\b\b\b\b\b\b\b45929032/45929032 bytes (100.0%)\n",
            "  Done\n",
            "File saved as /root/.imageio/ffmpeg/ffmpeg-linux64-v3.3.1.\n"
          ],
          "name": "stdout"
        }
      ]
    },
    {
      "cell_type": "code",
      "metadata": {
        "colab": {
          "base_uri": "https://localhost:8080/"
        },
        "id": "Aj0aI2iv_BLw",
        "outputId": "94f911e9-6c81-42a8-c7c4-b7221a7812a1"
      },
      "source": [
        "# mount google drive\n",
        "from google.colab import drive\n",
        "drive.mount('/content/drive/')\n",
        "# drive.flush_and_unmount()"
      ],
      "execution_count": 2,
      "outputs": [
        {
          "output_type": "stream",
          "text": [
            "Mounted at /content/drive/\n"
          ],
          "name": "stdout"
        }
      ]
    },
    {
      "cell_type": "code",
      "metadata": {
        "id": "cO0loo7S-fCx"
      },
      "source": [
        "# All helper functions\n",
        "\n",
        "def ExtractFrames(file_path, pos=[0,0.05,0.1,0.15,.02,.25,.30,.35,.40,.45,.50,.55,.60,.65,.70,.75,.80,.85,.9,.95]):\n",
        "    # Extracts frames from file_path at the positions (relative between 0 and 1) in pos\n",
        "    \n",
        "    import os\n",
        "    \n",
        "    if not len(pos):\n",
        "        print(\"[ExtractFrames]: Invalid positions\")\n",
        "        return None\n",
        "    \n",
        "    if not os.path.isfile(file_path) :\n",
        "        print(\"[ExtractFrames]: Invalid file path\")\n",
        "        return None\n",
        "    \n",
        "    import cv2\n",
        "    \n",
        "    # container for frames\n",
        "    arr = np.empty((len(pos),224,224,3))\n",
        "    \n",
        "    cap = cv2.VideoCapture(file_path)\n",
        "    total_frames = cap.get(cv2.CAP_PROP_FRAME_COUNT)\n",
        "    \n",
        "    for k,i in enumerate(pos):\n",
        "        # get frame number\n",
        "        position = int(i * total_frames)\n",
        "        \n",
        "        # set frame pointer at i and extract frame\n",
        "        cap.set(cv2.CAP_PROP_POS_FRAMES, i)\n",
        "        ret, frame = cap.read()\n",
        "        \n",
        "        # preprocessing\n",
        "        frame = cv2.resize(frame, (224,224))\n",
        "        frame = frame * 1/255.\n",
        "        frame = np.float32(frame)\n",
        "        frame = cv2.cvtColor(frame, cv2.COLOR_BGR2RGB)\n",
        "        \n",
        "        # insert in container\n",
        "        arr[k] = frame\n",
        "        \n",
        "    # cleanup\n",
        "    cap.set(cv2.CAP_PROP_POS_FRAMES, 0)\n",
        "    cap.release()\n",
        "    \n",
        "    return arr\n",
        "\n",
        "def addJSONEntry(vid, a, b, fname, action, confidence):\n",
        "    # Adds new entry for 2 second clip to valid file\n",
        "    \n",
        "    if not os.path.isfile(fname) :\n",
        "        print(\"[addJSONEntry]: Invalid file path\")\n",
        "        return\n",
        "    \n",
        "    # hardcoded\n",
        "    entry = {\"videoId\": vid, \"type\": \"segment\", \"startTime\": a, \"endTime\": b, \"observer\": \"CSCE636Spring2021-nini16-demo\", \"isHuman\": True, \"observation\": {\"label\": action, \"labelConfidence\": str(confidence)}}\n",
        "    with open(fname, 'r') as f:\n",
        "        data = json.load(f)\n",
        "    data.append(entry)\n",
        "    with open(fname, 'w') as f:\n",
        "        json.dump(data, f, indent=2)\n",
        "\n",
        "def predict(model, videopath):\n",
        "    # pass video to model for prediction\n",
        "    region_clip = ExtractFrames(videopath)\n",
        "    region_clip = np.expand_dims(region_clip, axis=0)\n",
        "    pred = model(region_clip).numpy()\n",
        "\n",
        "    index_max = np.argmax(pred, axis=1)\n",
        "\n",
        "    # the action we are trying to detect is represented by index 0\n",
        "    # Hence. we take the inverse of index_max to get a 1 for the detected action\n",
        "    return (int(not index_max), pred[0][index_max][0])\n",
        "\n",
        "\n",
        "def Make_Region(path, vid, output, model, action):\n",
        "    # extract a 2 second clip from video starting from each time in times\n",
        "    if output == \"\" or output==None:\n",
        "        print(\"[Make_Region]: Please specify a file path\")\n",
        "        return\n",
        "    \n",
        "    full_vid = VideoFileClip(path)\n",
        "    vid_end_time = math.floor(full_vid.duration)\n",
        "    times = list(range(0, vid_end_time, 2))\n",
        "\n",
        "    for time in times:\n",
        "        a = time\n",
        "        if time == times[-1]:\n",
        "            if vid_end_time < (a + 2):\n",
        "                break\n",
        "            else:\n",
        "                b = vid_end_time\n",
        "        else:\n",
        "            b = a+2\n",
        "        clip = VideoFileClip(path).subclip(a,b) # mp4 or mkv\n",
        "        video = CompositeVideoClip([clip])\n",
        "        # Write the result to a file (many options available !)\n",
        "        pathto = os.path.join(output, \"{}_time_{}-{}.mp4\".format(vid, a, b))\n",
        "        video.write_videofile(pathto)\n",
        "        clip.close()\n",
        "\n",
        "        result = predict(model, pathto)\n",
        "        print(\"###########################################################\")\n",
        "        print(\"prediction: {}\".format(result))\n",
        "        print(\"###########################################################\")\n",
        "        if result[0]:\n",
        "            addJSONEntry(vid, a, b, \"ResultOfDetection.json\", \"Reading\", result[1])"
      ],
      "execution_count": 59,
      "outputs": []
    },
    {
      "cell_type": "code",
      "metadata": {
        "id": "nozn0bg7-fCy"
      },
      "source": [
        "# Load our already trained model\n",
        "model = load_model(r\"/content/drive/MyDrive/CSCE636/v6/new_model_V6_lr_0.0005.h5\")"
      ],
      "execution_count": 72,
      "outputs": []
    },
    {
      "cell_type": "code",
      "metadata": {
        "id": "VFF9HSLanZEO"
      },
      "source": [
        "# delete directory and json file if it exists\n",
        "!rm -rf clips\n",
        "!rm ResultOfDetection.json"
      ],
      "execution_count": 70,
      "outputs": []
    },
    {
      "cell_type": "code",
      "metadata": {
        "id": "lUFUTH0pnEw_"
      },
      "source": [
        "# create JSON file and directory to hold clips\n",
        "!mkdir clips\n",
        "!touch ResultOfDetection.json\n",
        "!echo \"[]\" > ResultOfDetection.json"
      ],
      "execution_count": 73,
      "outputs": []
    },
    {
      "cell_type": "code",
      "metadata": {
        "id": "wv1kWaOxkXbs"
      },
      "source": [
        ""
      ],
      "execution_count": 31,
      "outputs": []
    },
    {
      "cell_type": "code",
      "metadata": {
        "colab": {
          "base_uri": "https://localhost:8080/"
        },
        "id": "VhOyhZfENhPN",
        "outputId": "abd7082c-924d-42af-a610-d3a505846fdd"
      },
      "source": [
        "Make_Region(\"/content/drive/MyDrive/CSCE636/v10/BYlSjcgZl7Y.mp4\", \"BYlSjcgZl7Y\", \"/content/clips\", model, \"Reading\")"
      ],
      "execution_count": 74,
      "outputs": [
        {
          "output_type": "stream",
          "text": [
            "[MoviePy] >>>> Building video /content/clips/BYlSjcgZl7Y_time_0-2.mp4\n",
            "[MoviePy] Writing audio in BYlSjcgZl7Y_time_0-2TEMP_MPY_wvf_snd.mp3\n"
          ],
          "name": "stdout"
        },
        {
          "output_type": "stream",
          "text": [
            "\n",
            "\n",
            "100%|██████████| 45/45 [00:00<00:00, 1037.96it/s]"
          ],
          "name": "stderr"
        },
        {
          "output_type": "stream",
          "text": [
            "[MoviePy] Done.\n",
            "[MoviePy] Writing video /content/clips/BYlSjcgZl7Y_time_0-2.mp4\n"
          ],
          "name": "stdout"
        },
        {
          "output_type": "stream",
          "text": [
            "\n",
            "\n",
            "\n",
            "  0%|          | 0/60 [00:00<?, ?it/s]\u001b[A\u001b[A\n",
            "\n",
            " 28%|██▊       | 17/60 [00:00<00:00, 167.15it/s]\u001b[A\u001b[A\n",
            "\n",
            " 55%|█████▌    | 33/60 [00:00<00:00, 163.38it/s]\u001b[A\u001b[A\n",
            "\n",
            " 80%|████████  | 48/60 [00:00<00:00, 156.56it/s]\u001b[A\u001b[A\n",
            "\n",
            "100%|██████████| 60/60 [00:00<00:00, 121.09it/s]\n"
          ],
          "name": "stderr"
        },
        {
          "output_type": "stream",
          "text": [
            "[MoviePy] Done.\n",
            "[MoviePy] >>>> Video ready: /content/clips/BYlSjcgZl7Y_time_0-2.mp4 \n",
            "\n",
            "###########################################################\n",
            "prediction: (1, 0.9993)\n",
            "###########################################################\n",
            "[MoviePy] >>>> Building video /content/clips/BYlSjcgZl7Y_time_2-4.mp4\n",
            "[MoviePy] Writing audio in BYlSjcgZl7Y_time_2-4TEMP_MPY_wvf_snd.mp3\n"
          ],
          "name": "stdout"
        },
        {
          "output_type": "stream",
          "text": [
            "\n",
            "\n",
            "100%|██████████| 45/45 [00:00<00:00, 865.99it/s]"
          ],
          "name": "stderr"
        },
        {
          "output_type": "stream",
          "text": [
            "[MoviePy] Done.\n",
            "[MoviePy] Writing video /content/clips/BYlSjcgZl7Y_time_2-4.mp4\n"
          ],
          "name": "stdout"
        },
        {
          "output_type": "stream",
          "text": [
            "\n",
            "\n",
            "\n",
            "  0%|          | 0/60 [00:00<?, ?it/s]\u001b[A\u001b[A\n",
            "\n",
            " 32%|███▏      | 19/60 [00:00<00:00, 181.87it/s]\u001b[A\u001b[A\n",
            "\n",
            " 58%|█████▊    | 35/60 [00:00<00:00, 174.40it/s]\u001b[A\u001b[A\n",
            "\n",
            "100%|██████████| 60/60 [00:00<00:00, 124.42it/s]\n"
          ],
          "name": "stderr"
        },
        {
          "output_type": "stream",
          "text": [
            "[MoviePy] Done.\n",
            "[MoviePy] >>>> Video ready: /content/clips/BYlSjcgZl7Y_time_2-4.mp4 \n",
            "\n",
            "###########################################################\n",
            "prediction: (1, 0.99919766)\n",
            "###########################################################\n",
            "[MoviePy] >>>> Building video /content/clips/BYlSjcgZl7Y_time_4-6.mp4\n",
            "[MoviePy] Writing audio in BYlSjcgZl7Y_time_4-6TEMP_MPY_wvf_snd.mp3\n"
          ],
          "name": "stdout"
        },
        {
          "output_type": "stream",
          "text": [
            "\n",
            "\n",
            "100%|██████████| 45/45 [00:00<00:00, 883.75it/s]"
          ],
          "name": "stderr"
        },
        {
          "output_type": "stream",
          "text": [
            "[MoviePy] Done.\n",
            "[MoviePy] Writing video /content/clips/BYlSjcgZl7Y_time_4-6.mp4\n"
          ],
          "name": "stdout"
        },
        {
          "output_type": "stream",
          "text": [
            "\n",
            "\n",
            "\n",
            "  0%|          | 0/60 [00:00<?, ?it/s]\u001b[A\u001b[A\n",
            "\n",
            " 27%|██▋       | 16/60 [00:00<00:00, 153.28it/s]\u001b[A\u001b[A\n",
            "\n",
            " 55%|█████▌    | 33/60 [00:00<00:00, 156.32it/s]\u001b[A\u001b[A\n",
            "\n",
            "100%|██████████| 60/60 [00:00<00:00, 127.31it/s]\n"
          ],
          "name": "stderr"
        },
        {
          "output_type": "stream",
          "text": [
            "[MoviePy] Done.\n",
            "[MoviePy] >>>> Video ready: /content/clips/BYlSjcgZl7Y_time_4-6.mp4 \n",
            "\n",
            "###########################################################\n",
            "prediction: (1, 0.99933535)\n",
            "###########################################################\n",
            "[MoviePy] >>>> Building video /content/clips/BYlSjcgZl7Y_time_6-8.mp4\n",
            "[MoviePy] Writing audio in BYlSjcgZl7Y_time_6-8TEMP_MPY_wvf_snd.mp3\n"
          ],
          "name": "stdout"
        },
        {
          "output_type": "stream",
          "text": [
            "\n",
            "\n",
            "100%|██████████| 45/45 [00:00<00:00, 902.12it/s]"
          ],
          "name": "stderr"
        },
        {
          "output_type": "stream",
          "text": [
            "[MoviePy] Done.\n",
            "[MoviePy] Writing video /content/clips/BYlSjcgZl7Y_time_6-8.mp4\n"
          ],
          "name": "stdout"
        },
        {
          "output_type": "stream",
          "text": [
            "\n",
            "\n",
            "\n",
            "  0%|          | 0/60 [00:00<?, ?it/s]\u001b[A\u001b[A\n",
            "\n",
            " 28%|██▊       | 17/60 [00:00<00:00, 168.42it/s]\u001b[A\u001b[A\n",
            "\n",
            " 57%|█████▋    | 34/60 [00:00<00:00, 168.32it/s]\u001b[A\u001b[A\n",
            "\n",
            "100%|██████████| 60/60 [00:00<00:00, 126.13it/s]\n"
          ],
          "name": "stderr"
        },
        {
          "output_type": "stream",
          "text": [
            "[MoviePy] Done.\n",
            "[MoviePy] >>>> Video ready: /content/clips/BYlSjcgZl7Y_time_6-8.mp4 \n",
            "\n",
            "###########################################################\n",
            "prediction: (1, 0.9990772)\n",
            "###########################################################\n",
            "[MoviePy] >>>> Building video /content/clips/BYlSjcgZl7Y_time_8-10.mp4\n",
            "[MoviePy] Writing audio in BYlSjcgZl7Y_time_8-10TEMP_MPY_wvf_snd.mp3\n"
          ],
          "name": "stdout"
        },
        {
          "output_type": "stream",
          "text": [
            "\n",
            "\n",
            "100%|██████████| 45/45 [00:00<00:00, 861.84it/s]"
          ],
          "name": "stderr"
        },
        {
          "output_type": "stream",
          "text": [
            "[MoviePy] Done.\n",
            "[MoviePy] Writing video /content/clips/BYlSjcgZl7Y_time_8-10.mp4\n"
          ],
          "name": "stdout"
        },
        {
          "output_type": "stream",
          "text": [
            "\n",
            "\n",
            "\n",
            "  0%|          | 0/60 [00:00<?, ?it/s]\u001b[A\u001b[A\n",
            "\n",
            " 22%|██▏       | 13/60 [00:00<00:00, 128.90it/s]\u001b[A\u001b[A\n",
            "\n",
            " 47%|████▋     | 28/60 [00:00<00:00, 130.93it/s]\u001b[A\u001b[A\n",
            "\n",
            " 70%|███████   | 42/60 [00:00<00:00, 132.65it/s]\u001b[A\u001b[A\n",
            "\n",
            "100%|██████████| 60/60 [00:00<00:00, 114.57it/s]\n"
          ],
          "name": "stderr"
        },
        {
          "output_type": "stream",
          "text": [
            "[MoviePy] Done.\n",
            "[MoviePy] >>>> Video ready: /content/clips/BYlSjcgZl7Y_time_8-10.mp4 \n",
            "\n",
            "###########################################################\n",
            "prediction: (1, 0.99959546)\n",
            "###########################################################\n",
            "[MoviePy] >>>> Building video /content/clips/BYlSjcgZl7Y_time_10-12.mp4\n",
            "[MoviePy] Writing audio in BYlSjcgZl7Y_time_10-12TEMP_MPY_wvf_snd.mp3\n"
          ],
          "name": "stdout"
        },
        {
          "output_type": "stream",
          "text": [
            "\n",
            "\n",
            "100%|██████████| 45/45 [00:00<00:00, 818.36it/s]"
          ],
          "name": "stderr"
        },
        {
          "output_type": "stream",
          "text": [
            "[MoviePy] Done.\n",
            "[MoviePy] Writing video /content/clips/BYlSjcgZl7Y_time_10-12.mp4\n"
          ],
          "name": "stdout"
        },
        {
          "output_type": "stream",
          "text": [
            "\n",
            "\n",
            "\n",
            "  0%|          | 0/60 [00:00<?, ?it/s]\u001b[A\u001b[A\n",
            "\n",
            " 28%|██▊       | 17/60 [00:00<00:00, 165.02it/s]\u001b[A\u001b[A\n",
            "\n",
            " 58%|█████▊    | 35/60 [00:00<00:00, 168.78it/s]\u001b[A\u001b[A\n",
            "\n",
            "100%|██████████| 60/60 [00:00<00:00, 124.27it/s]\n"
          ],
          "name": "stderr"
        },
        {
          "output_type": "stream",
          "text": [
            "[MoviePy] Done.\n",
            "[MoviePy] >>>> Video ready: /content/clips/BYlSjcgZl7Y_time_10-12.mp4 \n",
            "\n",
            "###########################################################\n",
            "prediction: (1, 0.9973907)\n",
            "###########################################################\n",
            "[MoviePy] >>>> Building video /content/clips/BYlSjcgZl7Y_time_12-14.mp4\n",
            "[MoviePy] Writing audio in BYlSjcgZl7Y_time_12-14TEMP_MPY_wvf_snd.mp3\n"
          ],
          "name": "stdout"
        },
        {
          "output_type": "stream",
          "text": [
            "\n",
            "\n",
            "100%|██████████| 45/45 [00:00<00:00, 681.41it/s]"
          ],
          "name": "stderr"
        },
        {
          "output_type": "stream",
          "text": [
            "[MoviePy] Done.\n",
            "[MoviePy] Writing video /content/clips/BYlSjcgZl7Y_time_12-14.mp4\n"
          ],
          "name": "stdout"
        },
        {
          "output_type": "stream",
          "text": [
            "\n",
            "\n",
            "\n",
            "  0%|          | 0/60 [00:00<?, ?it/s]\u001b[A\u001b[A\n",
            "\n",
            " 33%|███▎      | 20/60 [00:00<00:00, 193.18it/s]\u001b[A\u001b[A\n",
            "\n",
            " 63%|██████▎   | 38/60 [00:00<00:00, 186.50it/s]\u001b[A\u001b[A\n",
            "\n",
            "100%|██████████| 60/60 [00:00<00:00, 131.17it/s]\n"
          ],
          "name": "stderr"
        },
        {
          "output_type": "stream",
          "text": [
            "[MoviePy] Done.\n",
            "[MoviePy] >>>> Video ready: /content/clips/BYlSjcgZl7Y_time_12-14.mp4 \n",
            "\n",
            "###########################################################\n",
            "prediction: (1, 0.9984118)\n",
            "###########################################################\n",
            "[MoviePy] >>>> Building video /content/clips/BYlSjcgZl7Y_time_14-16.mp4\n",
            "[MoviePy] Writing audio in BYlSjcgZl7Y_time_14-16TEMP_MPY_wvf_snd.mp3\n"
          ],
          "name": "stdout"
        },
        {
          "output_type": "stream",
          "text": [
            "\n",
            "\n",
            "100%|██████████| 45/45 [00:00<00:00, 676.54it/s]"
          ],
          "name": "stderr"
        },
        {
          "output_type": "stream",
          "text": [
            "[MoviePy] Done.\n",
            "[MoviePy] Writing video /content/clips/BYlSjcgZl7Y_time_14-16.mp4\n"
          ],
          "name": "stdout"
        },
        {
          "output_type": "stream",
          "text": [
            "\n",
            "\n",
            "\n",
            "  0%|          | 0/60 [00:00<?, ?it/s]\u001b[A\u001b[A\n",
            "\n",
            " 28%|██▊       | 17/60 [00:00<00:00, 161.30it/s]\u001b[A\u001b[A\n",
            "\n",
            " 58%|█████▊    | 35/60 [00:00<00:00, 165.10it/s]\u001b[A\u001b[A\n",
            "\n",
            "100%|██████████| 60/60 [00:00<00:00, 131.17it/s]\n"
          ],
          "name": "stderr"
        },
        {
          "output_type": "stream",
          "text": [
            "[MoviePy] Done.\n",
            "[MoviePy] >>>> Video ready: /content/clips/BYlSjcgZl7Y_time_14-16.mp4 \n",
            "\n",
            "###########################################################\n",
            "prediction: (1, 0.99911696)\n",
            "###########################################################\n",
            "[MoviePy] >>>> Building video /content/clips/BYlSjcgZl7Y_time_16-18.mp4\n",
            "[MoviePy] Writing audio in BYlSjcgZl7Y_time_16-18TEMP_MPY_wvf_snd.mp3\n"
          ],
          "name": "stdout"
        },
        {
          "output_type": "stream",
          "text": [
            "\n",
            "\n",
            "100%|██████████| 45/45 [00:00<00:00, 629.51it/s]"
          ],
          "name": "stderr"
        },
        {
          "output_type": "stream",
          "text": [
            "[MoviePy] Done.\n",
            "[MoviePy] Writing video /content/clips/BYlSjcgZl7Y_time_16-18.mp4\n"
          ],
          "name": "stdout"
        },
        {
          "output_type": "stream",
          "text": [
            "\n",
            "\n",
            "\n",
            "  0%|          | 0/60 [00:00<?, ?it/s]\u001b[A\u001b[A\n",
            "\n",
            " 30%|███       | 18/60 [00:00<00:00, 176.91it/s]\u001b[A\u001b[A\n",
            "\n",
            " 60%|██████    | 36/60 [00:00<00:00, 176.19it/s]\u001b[A\u001b[A\n",
            "\n",
            "100%|██████████| 60/60 [00:00<00:00, 138.53it/s]\n"
          ],
          "name": "stderr"
        },
        {
          "output_type": "stream",
          "text": [
            "[MoviePy] Done.\n",
            "[MoviePy] >>>> Video ready: /content/clips/BYlSjcgZl7Y_time_16-18.mp4 \n",
            "\n",
            "###########################################################\n",
            "prediction: (1, 0.99899143)\n",
            "###########################################################\n",
            "[MoviePy] >>>> Building video /content/clips/BYlSjcgZl7Y_time_18-20.mp4\n",
            "[MoviePy] Writing audio in BYlSjcgZl7Y_time_18-20TEMP_MPY_wvf_snd.mp3\n"
          ],
          "name": "stdout"
        },
        {
          "output_type": "stream",
          "text": [
            "\n",
            "\n",
            "100%|██████████| 45/45 [00:00<00:00, 649.75it/s]"
          ],
          "name": "stderr"
        },
        {
          "output_type": "stream",
          "text": [
            "[MoviePy] Done.\n",
            "[MoviePy] Writing video /content/clips/BYlSjcgZl7Y_time_18-20.mp4\n"
          ],
          "name": "stdout"
        },
        {
          "output_type": "stream",
          "text": [
            "\n",
            "\n",
            "\n",
            "  0%|          | 0/60 [00:00<?, ?it/s]\u001b[A\u001b[A\n",
            "\n",
            " 33%|███▎      | 20/60 [00:00<00:00, 198.36it/s]\u001b[A\u001b[A\n",
            "\n",
            " 65%|██████▌   | 39/60 [00:00<00:00, 193.71it/s]\u001b[A\u001b[A\n",
            "\n",
            "100%|██████████| 60/60 [00:00<00:00, 138.33it/s]\n"
          ],
          "name": "stderr"
        },
        {
          "output_type": "stream",
          "text": [
            "[MoviePy] Done.\n",
            "[MoviePy] >>>> Video ready: /content/clips/BYlSjcgZl7Y_time_18-20.mp4 \n",
            "\n",
            "###########################################################\n",
            "prediction: (1, 0.9994055)\n",
            "###########################################################\n",
            "[MoviePy] >>>> Building video /content/clips/BYlSjcgZl7Y_time_20-22.mp4\n",
            "[MoviePy] Writing audio in BYlSjcgZl7Y_time_20-22TEMP_MPY_wvf_snd.mp3\n"
          ],
          "name": "stdout"
        },
        {
          "output_type": "stream",
          "text": [
            "\n",
            "\n",
            "100%|██████████| 45/45 [00:00<00:00, 573.85it/s]"
          ],
          "name": "stderr"
        },
        {
          "output_type": "stream",
          "text": [
            "[MoviePy] Done.\n",
            "[MoviePy] Writing video /content/clips/BYlSjcgZl7Y_time_20-22.mp4\n"
          ],
          "name": "stdout"
        },
        {
          "output_type": "stream",
          "text": [
            "\n",
            "\n",
            "\n",
            "  0%|          | 0/60 [00:00<?, ?it/s]\u001b[A\u001b[A\n",
            "\n",
            " 30%|███       | 18/60 [00:00<00:00, 177.28it/s]\u001b[A\u001b[A\n",
            "\n",
            " 62%|██████▏   | 37/60 [00:00<00:00, 180.25it/s]\u001b[A\u001b[A\n",
            "\n",
            "100%|██████████| 60/60 [00:00<00:00, 139.48it/s]\n"
          ],
          "name": "stderr"
        },
        {
          "output_type": "stream",
          "text": [
            "[MoviePy] Done.\n",
            "[MoviePy] >>>> Video ready: /content/clips/BYlSjcgZl7Y_time_20-22.mp4 \n",
            "\n",
            "###########################################################\n",
            "prediction: (1, 0.99968255)\n",
            "###########################################################\n",
            "[MoviePy] >>>> Building video /content/clips/BYlSjcgZl7Y_time_22-24.mp4\n",
            "[MoviePy] Writing audio in BYlSjcgZl7Y_time_22-24TEMP_MPY_wvf_snd.mp3\n"
          ],
          "name": "stdout"
        },
        {
          "output_type": "stream",
          "text": [
            "\n",
            "\n",
            "100%|██████████| 45/45 [00:00<00:00, 585.93it/s]"
          ],
          "name": "stderr"
        },
        {
          "output_type": "stream",
          "text": [
            "[MoviePy] Done.\n",
            "[MoviePy] Writing video /content/clips/BYlSjcgZl7Y_time_22-24.mp4\n"
          ],
          "name": "stdout"
        },
        {
          "output_type": "stream",
          "text": [
            "\n",
            "\n",
            "\n",
            "  0%|          | 0/60 [00:00<?, ?it/s]\u001b[A\u001b[A\n",
            "\n",
            " 28%|██▊       | 17/60 [00:00<00:00, 169.65it/s]\u001b[A\u001b[A\n",
            "\n",
            " 57%|█████▋    | 34/60 [00:00<00:00, 169.00it/s]\u001b[A\u001b[A\n",
            "\n",
            "100%|██████████| 60/60 [00:00<00:00, 131.23it/s]\n"
          ],
          "name": "stderr"
        },
        {
          "output_type": "stream",
          "text": [
            "[MoviePy] Done.\n",
            "[MoviePy] >>>> Video ready: /content/clips/BYlSjcgZl7Y_time_22-24.mp4 \n",
            "\n",
            "###########################################################\n",
            "prediction: (1, 0.9994374)\n",
            "###########################################################\n",
            "[MoviePy] >>>> Building video /content/clips/BYlSjcgZl7Y_time_24-26.mp4\n",
            "[MoviePy] Writing audio in BYlSjcgZl7Y_time_24-26TEMP_MPY_wvf_snd.mp3\n"
          ],
          "name": "stdout"
        },
        {
          "output_type": "stream",
          "text": [
            "\n",
            "\n",
            "100%|██████████| 45/45 [00:00<00:00, 560.78it/s]"
          ],
          "name": "stderr"
        },
        {
          "output_type": "stream",
          "text": [
            "[MoviePy] Done.\n",
            "[MoviePy] Writing video /content/clips/BYlSjcgZl7Y_time_24-26.mp4\n"
          ],
          "name": "stdout"
        },
        {
          "output_type": "stream",
          "text": [
            "\n",
            "\n",
            "\n",
            "  0%|          | 0/60 [00:00<?, ?it/s]\u001b[A\u001b[A\n",
            "\n",
            " 28%|██▊       | 17/60 [00:00<00:00, 165.23it/s]\u001b[A\u001b[A\n",
            "\n",
            " 57%|█████▋    | 34/60 [00:00<00:00, 165.79it/s]\u001b[A\u001b[A\n",
            "\n",
            "100%|██████████| 60/60 [00:00<00:00, 127.41it/s]\n"
          ],
          "name": "stderr"
        },
        {
          "output_type": "stream",
          "text": [
            "[MoviePy] Done.\n",
            "[MoviePy] >>>> Video ready: /content/clips/BYlSjcgZl7Y_time_24-26.mp4 \n",
            "\n",
            "###########################################################\n",
            "prediction: (1, 0.9996617)\n",
            "###########################################################\n",
            "[MoviePy] >>>> Building video /content/clips/BYlSjcgZl7Y_time_26-28.mp4\n",
            "[MoviePy] Writing audio in BYlSjcgZl7Y_time_26-28TEMP_MPY_wvf_snd.mp3\n"
          ],
          "name": "stdout"
        },
        {
          "output_type": "stream",
          "text": [
            "\n",
            "\n",
            "100%|██████████| 45/45 [00:00<00:00, 495.82it/s]"
          ],
          "name": "stderr"
        },
        {
          "output_type": "stream",
          "text": [
            "[MoviePy] Done.\n",
            "[MoviePy] Writing video /content/clips/BYlSjcgZl7Y_time_26-28.mp4\n"
          ],
          "name": "stdout"
        },
        {
          "output_type": "stream",
          "text": [
            "\n",
            "\n",
            "\n",
            "  0%|          | 0/60 [00:00<?, ?it/s]\u001b[A\u001b[A\n",
            "\n",
            " 30%|███       | 18/60 [00:00<00:00, 179.70it/s]\u001b[A\u001b[A\n",
            "\n",
            " 57%|█████▋    | 34/60 [00:00<00:00, 171.24it/s]\u001b[A\u001b[A\n",
            "\n",
            "100%|██████████| 60/60 [00:00<00:00, 133.61it/s]\n"
          ],
          "name": "stderr"
        },
        {
          "output_type": "stream",
          "text": [
            "[MoviePy] Done.\n",
            "[MoviePy] >>>> Video ready: /content/clips/BYlSjcgZl7Y_time_26-28.mp4 \n",
            "\n",
            "###########################################################\n",
            "prediction: (1, 0.99969506)\n",
            "###########################################################\n",
            "[MoviePy] >>>> Building video /content/clips/BYlSjcgZl7Y_time_28-30.mp4\n",
            "[MoviePy] Writing audio in BYlSjcgZl7Y_time_28-30TEMP_MPY_wvf_snd.mp3\n"
          ],
          "name": "stdout"
        },
        {
          "output_type": "stream",
          "text": [
            "\n",
            "\n",
            "100%|██████████| 45/45 [00:00<00:00, 505.13it/s]"
          ],
          "name": "stderr"
        },
        {
          "output_type": "stream",
          "text": [
            "[MoviePy] Done.\n",
            "[MoviePy] Writing video /content/clips/BYlSjcgZl7Y_time_28-30.mp4\n"
          ],
          "name": "stdout"
        },
        {
          "output_type": "stream",
          "text": [
            "\n",
            "\n",
            "\n",
            "  0%|          | 0/60 [00:00<?, ?it/s]\u001b[A\u001b[A\n",
            "\n",
            " 30%|███       | 18/60 [00:00<00:00, 176.19it/s]\u001b[A\u001b[A\n",
            "\n",
            " 60%|██████    | 36/60 [00:00<00:00, 175.30it/s]\u001b[A\u001b[A\n",
            "\n",
            "100%|██████████| 60/60 [00:00<00:00, 124.61it/s]\n"
          ],
          "name": "stderr"
        },
        {
          "output_type": "stream",
          "text": [
            "[MoviePy] Done.\n",
            "[MoviePy] >>>> Video ready: /content/clips/BYlSjcgZl7Y_time_28-30.mp4 \n",
            "\n",
            "###########################################################\n",
            "prediction: (1, 0.9997062)\n",
            "###########################################################\n",
            "[MoviePy] >>>> Building video /content/clips/BYlSjcgZl7Y_time_30-32.mp4\n",
            "[MoviePy] Writing audio in BYlSjcgZl7Y_time_30-32TEMP_MPY_wvf_snd.mp3\n"
          ],
          "name": "stdout"
        },
        {
          "output_type": "stream",
          "text": [
            "\n",
            "\n",
            "  0%|          | 0/45 [00:00<?, ?it/s]\u001b[A\u001b[A\n",
            "\n",
            "100%|██████████| 45/45 [00:00<00:00, 298.76it/s]"
          ],
          "name": "stderr"
        },
        {
          "output_type": "stream",
          "text": [
            "[MoviePy] Done.\n",
            "[MoviePy] Writing video /content/clips/BYlSjcgZl7Y_time_30-32.mp4\n"
          ],
          "name": "stdout"
        },
        {
          "output_type": "stream",
          "text": [
            "\n",
            "\n",
            "\n",
            "  0%|          | 0/60 [00:00<?, ?it/s]\u001b[A\u001b[A\n",
            "\n",
            " 28%|██▊       | 17/60 [00:00<00:00, 164.42it/s]\u001b[A\u001b[A\n",
            "\n",
            " 58%|█████▊    | 35/60 [00:00<00:00, 166.66it/s]\u001b[A\u001b[A\n",
            "\n",
            "100%|██████████| 60/60 [00:00<00:00, 135.76it/s]\n"
          ],
          "name": "stderr"
        },
        {
          "output_type": "stream",
          "text": [
            "[MoviePy] Done.\n",
            "[MoviePy] >>>> Video ready: /content/clips/BYlSjcgZl7Y_time_30-32.mp4 \n",
            "\n",
            "###########################################################\n",
            "prediction: (1, 0.9993285)\n",
            "###########################################################\n",
            "[MoviePy] >>>> Building video /content/clips/BYlSjcgZl7Y_time_32-34.mp4\n",
            "[MoviePy] Writing audio in BYlSjcgZl7Y_time_32-34TEMP_MPY_wvf_snd.mp3\n"
          ],
          "name": "stdout"
        },
        {
          "output_type": "stream",
          "text": [
            "\n",
            "\n",
            "  0%|          | 0/45 [00:00<?, ?it/s]\u001b[A\u001b[A\n",
            "\n",
            "100%|██████████| 45/45 [00:00<00:00, 292.65it/s]"
          ],
          "name": "stderr"
        },
        {
          "output_type": "stream",
          "text": [
            "[MoviePy] Done.\n",
            "[MoviePy] Writing video /content/clips/BYlSjcgZl7Y_time_32-34.mp4\n"
          ],
          "name": "stdout"
        },
        {
          "output_type": "stream",
          "text": [
            "\n",
            "\n",
            "\n",
            "  0%|          | 0/60 [00:00<?, ?it/s]\u001b[A\u001b[A\n",
            "\n",
            " 30%|███       | 18/60 [00:00<00:00, 179.06it/s]\u001b[A\u001b[A\n",
            "\n",
            " 58%|█████▊    | 35/60 [00:00<00:00, 174.50it/s]\u001b[A\u001b[A\n",
            "\n",
            "100%|██████████| 60/60 [00:00<00:00, 135.45it/s]\n"
          ],
          "name": "stderr"
        },
        {
          "output_type": "stream",
          "text": [
            "[MoviePy] Done.\n",
            "[MoviePy] >>>> Video ready: /content/clips/BYlSjcgZl7Y_time_32-34.mp4 \n",
            "\n",
            "###########################################################\n",
            "prediction: (1, 0.9996106)\n",
            "###########################################################\n",
            "[MoviePy] >>>> Building video /content/clips/BYlSjcgZl7Y_time_34-36.mp4\n",
            "[MoviePy] Writing audio in BYlSjcgZl7Y_time_34-36TEMP_MPY_wvf_snd.mp3\n"
          ],
          "name": "stdout"
        },
        {
          "output_type": "stream",
          "text": [
            "\n",
            "\n",
            "  0%|          | 0/45 [00:00<?, ?it/s]\u001b[A\u001b[A\n",
            "\n",
            "100%|██████████| 45/45 [00:00<00:00, 298.86it/s]"
          ],
          "name": "stderr"
        },
        {
          "output_type": "stream",
          "text": [
            "[MoviePy] Done.\n",
            "[MoviePy] Writing video /content/clips/BYlSjcgZl7Y_time_34-36.mp4\n"
          ],
          "name": "stdout"
        },
        {
          "output_type": "stream",
          "text": [
            "\n",
            "\n",
            "\n",
            "  0%|          | 0/60 [00:00<?, ?it/s]\u001b[A\u001b[A\n",
            "\n",
            " 28%|██▊       | 17/60 [00:00<00:00, 169.82it/s]\u001b[A\u001b[A\n",
            "\n",
            " 60%|██████    | 36/60 [00:00<00:00, 174.19it/s]\u001b[A\u001b[A\n",
            "\n",
            "100%|██████████| 60/60 [00:00<00:00, 138.17it/s]\n"
          ],
          "name": "stderr"
        },
        {
          "output_type": "stream",
          "text": [
            "[MoviePy] Done.\n",
            "[MoviePy] >>>> Video ready: /content/clips/BYlSjcgZl7Y_time_34-36.mp4 \n",
            "\n",
            "###########################################################\n",
            "prediction: (1, 0.99969375)\n",
            "###########################################################\n",
            "[MoviePy] >>>> Building video /content/clips/BYlSjcgZl7Y_time_36-38.mp4\n",
            "[MoviePy] Writing audio in BYlSjcgZl7Y_time_36-38TEMP_MPY_wvf_snd.mp3\n"
          ],
          "name": "stdout"
        },
        {
          "output_type": "stream",
          "text": [
            "\n",
            "\n",
            "  0%|          | 0/45 [00:00<?, ?it/s]\u001b[A\u001b[A\n",
            "\n",
            "100%|██████████| 45/45 [00:00<00:00, 287.01it/s]"
          ],
          "name": "stderr"
        },
        {
          "output_type": "stream",
          "text": [
            "[MoviePy] Done.\n",
            "[MoviePy] Writing video /content/clips/BYlSjcgZl7Y_time_36-38.mp4\n"
          ],
          "name": "stdout"
        },
        {
          "output_type": "stream",
          "text": [
            "\n",
            "\n",
            "\n",
            "  0%|          | 0/60 [00:00<?, ?it/s]\u001b[A\u001b[A\n",
            "\n",
            " 28%|██▊       | 17/60 [00:00<00:00, 168.19it/s]\u001b[A\u001b[A\n",
            "\n",
            " 55%|█████▌    | 33/60 [00:00<00:00, 163.42it/s]\u001b[A\u001b[A\n",
            "\n",
            "100%|██████████| 60/60 [00:00<00:00, 124.74it/s]\n"
          ],
          "name": "stderr"
        },
        {
          "output_type": "stream",
          "text": [
            "[MoviePy] Done.\n",
            "[MoviePy] >>>> Video ready: /content/clips/BYlSjcgZl7Y_time_36-38.mp4 \n",
            "\n",
            "###########################################################\n",
            "prediction: (1, 0.99958104)\n",
            "###########################################################\n",
            "[MoviePy] >>>> Building video /content/clips/BYlSjcgZl7Y_time_38-40.mp4\n",
            "[MoviePy] Writing audio in BYlSjcgZl7Y_time_38-40TEMP_MPY_wvf_snd.mp3\n"
          ],
          "name": "stdout"
        },
        {
          "output_type": "stream",
          "text": [
            "\n",
            "\n",
            "  0%|          | 0/45 [00:00<?, ?it/s]\u001b[A\u001b[A\n",
            "\n",
            "100%|██████████| 45/45 [00:00<00:00, 302.50it/s]"
          ],
          "name": "stderr"
        },
        {
          "output_type": "stream",
          "text": [
            "[MoviePy] Done.\n",
            "[MoviePy] Writing video /content/clips/BYlSjcgZl7Y_time_38-40.mp4\n"
          ],
          "name": "stdout"
        },
        {
          "output_type": "stream",
          "text": [
            "\n",
            "\n",
            "\n",
            "  0%|          | 0/60 [00:00<?, ?it/s]\u001b[A\u001b[A\n",
            "\n",
            " 28%|██▊       | 17/60 [00:00<00:00, 168.08it/s]\u001b[A\u001b[A\n",
            "\n",
            " 58%|█████▊    | 35/60 [00:00<00:00, 169.58it/s]\u001b[A\u001b[A\n",
            "\n",
            "100%|██████████| 60/60 [00:00<00:00, 132.91it/s]\n"
          ],
          "name": "stderr"
        },
        {
          "output_type": "stream",
          "text": [
            "[MoviePy] Done.\n",
            "[MoviePy] >>>> Video ready: /content/clips/BYlSjcgZl7Y_time_38-40.mp4 \n",
            "\n",
            "###########################################################\n",
            "prediction: (1, 0.9994479)\n",
            "###########################################################\n",
            "[MoviePy] >>>> Building video /content/clips/BYlSjcgZl7Y_time_40-42.mp4\n",
            "[MoviePy] Writing audio in BYlSjcgZl7Y_time_40-42TEMP_MPY_wvf_snd.mp3\n"
          ],
          "name": "stdout"
        },
        {
          "output_type": "stream",
          "text": [
            "\n",
            "\n",
            "  0%|          | 0/45 [00:00<?, ?it/s]\u001b[A\u001b[A\n",
            "\n",
            "100%|██████████| 45/45 [00:00<00:00, 293.98it/s]"
          ],
          "name": "stderr"
        },
        {
          "output_type": "stream",
          "text": [
            "[MoviePy] Done.\n",
            "[MoviePy] Writing video /content/clips/BYlSjcgZl7Y_time_40-42.mp4\n"
          ],
          "name": "stdout"
        },
        {
          "output_type": "stream",
          "text": [
            "\n",
            "\n",
            "\n",
            "  0%|          | 0/60 [00:00<?, ?it/s]\u001b[A\u001b[A\n",
            "\n",
            " 28%|██▊       | 17/60 [00:00<00:00, 160.82it/s]\u001b[A\u001b[A\n",
            "\n",
            " 60%|██████    | 36/60 [00:00<00:00, 166.54it/s]\u001b[A\u001b[A\n",
            "\n",
            "100%|██████████| 60/60 [00:00<00:00, 127.64it/s]\n"
          ],
          "name": "stderr"
        },
        {
          "output_type": "stream",
          "text": [
            "[MoviePy] Done.\n",
            "[MoviePy] >>>> Video ready: /content/clips/BYlSjcgZl7Y_time_40-42.mp4 \n",
            "\n",
            "###########################################################\n",
            "prediction: (1, 0.999718)\n",
            "###########################################################\n",
            "[MoviePy] >>>> Building video /content/clips/BYlSjcgZl7Y_time_42-44.mp4\n",
            "[MoviePy] Writing audio in BYlSjcgZl7Y_time_42-44TEMP_MPY_wvf_snd.mp3\n"
          ],
          "name": "stdout"
        },
        {
          "output_type": "stream",
          "text": [
            "\n",
            "\n",
            "  0%|          | 0/45 [00:00<?, ?it/s]\u001b[A\u001b[A\n",
            "\n",
            "100%|██████████| 45/45 [00:00<00:00, 266.72it/s]"
          ],
          "name": "stderr"
        },
        {
          "output_type": "stream",
          "text": [
            "[MoviePy] Done.\n",
            "[MoviePy] Writing video /content/clips/BYlSjcgZl7Y_time_42-44.mp4\n"
          ],
          "name": "stdout"
        },
        {
          "output_type": "stream",
          "text": [
            "\n",
            "\n",
            "\n",
            "  0%|          | 0/60 [00:00<?, ?it/s]\u001b[A\u001b[A\n",
            "\n",
            " 30%|███       | 18/60 [00:00<00:00, 172.58it/s]\u001b[A\u001b[A\n",
            "\n",
            " 57%|█████▋    | 34/60 [00:00<00:00, 167.19it/s]\u001b[A\u001b[A\n",
            "\n",
            "100%|██████████| 60/60 [00:00<00:00, 130.21it/s]\n"
          ],
          "name": "stderr"
        },
        {
          "output_type": "stream",
          "text": [
            "[MoviePy] Done.\n",
            "[MoviePy] >>>> Video ready: /content/clips/BYlSjcgZl7Y_time_42-44.mp4 \n",
            "\n",
            "###########################################################\n",
            "prediction: (1, 0.99917346)\n",
            "###########################################################\n",
            "[MoviePy] >>>> Building video /content/clips/BYlSjcgZl7Y_time_44-46.mp4\n",
            "[MoviePy] Writing audio in BYlSjcgZl7Y_time_44-46TEMP_MPY_wvf_snd.mp3\n"
          ],
          "name": "stdout"
        },
        {
          "output_type": "stream",
          "text": [
            "\n",
            "\n",
            "  0%|          | 0/45 [00:00<?, ?it/s]\u001b[A\u001b[A\n",
            "\n",
            "100%|██████████| 45/45 [00:00<00:00, 290.20it/s]"
          ],
          "name": "stderr"
        },
        {
          "output_type": "stream",
          "text": [
            "[MoviePy] Done.\n",
            "[MoviePy] Writing video /content/clips/BYlSjcgZl7Y_time_44-46.mp4\n"
          ],
          "name": "stdout"
        },
        {
          "output_type": "stream",
          "text": [
            "\n",
            "\n",
            "\n",
            "  0%|          | 0/60 [00:00<?, ?it/s]\u001b[A\u001b[A\n",
            "\n",
            " 28%|██▊       | 17/60 [00:00<00:00, 162.22it/s]\u001b[A\u001b[A\n",
            "\n",
            " 53%|█████▎    | 32/60 [00:00<00:00, 157.08it/s]\u001b[A\u001b[A\n",
            "\n",
            " 82%|████████▏ | 49/60 [00:00<00:00, 158.74it/s]\u001b[A\u001b[A\n",
            "\n",
            "100%|██████████| 60/60 [00:00<00:00, 120.79it/s]\n"
          ],
          "name": "stderr"
        },
        {
          "output_type": "stream",
          "text": [
            "[MoviePy] Done.\n",
            "[MoviePy] >>>> Video ready: /content/clips/BYlSjcgZl7Y_time_44-46.mp4 \n",
            "\n",
            "###########################################################\n",
            "prediction: (1, 0.9997235)\n",
            "###########################################################\n",
            "[MoviePy] >>>> Building video /content/clips/BYlSjcgZl7Y_time_46-48.mp4\n",
            "[MoviePy] Writing audio in BYlSjcgZl7Y_time_46-48TEMP_MPY_wvf_snd.mp3\n"
          ],
          "name": "stdout"
        },
        {
          "output_type": "stream",
          "text": [
            "\n",
            "\n",
            "  0%|          | 0/45 [00:00<?, ?it/s]\u001b[A\u001b[A\n",
            "\n",
            "100%|██████████| 45/45 [00:00<00:00, 283.55it/s]"
          ],
          "name": "stderr"
        },
        {
          "output_type": "stream",
          "text": [
            "[MoviePy] Done.\n",
            "[MoviePy] Writing video /content/clips/BYlSjcgZl7Y_time_46-48.mp4\n"
          ],
          "name": "stdout"
        },
        {
          "output_type": "stream",
          "text": [
            "\n",
            "\n",
            "\n",
            "  0%|          | 0/60 [00:00<?, ?it/s]\u001b[A\u001b[A\n",
            "\n",
            " 30%|███       | 18/60 [00:00<00:00, 172.55it/s]\u001b[A\u001b[A\n",
            "\n",
            " 58%|█████▊    | 35/60 [00:00<00:00, 170.82it/s]\u001b[A\u001b[A\n",
            "\n",
            "100%|██████████| 60/60 [00:00<00:00, 128.26it/s]\n"
          ],
          "name": "stderr"
        },
        {
          "output_type": "stream",
          "text": [
            "[MoviePy] Done.\n",
            "[MoviePy] >>>> Video ready: /content/clips/BYlSjcgZl7Y_time_46-48.mp4 \n",
            "\n",
            "###########################################################\n",
            "prediction: (1, 0.99871683)\n",
            "###########################################################\n",
            "[MoviePy] >>>> Building video /content/clips/BYlSjcgZl7Y_time_48-50.mp4\n",
            "[MoviePy] Writing audio in BYlSjcgZl7Y_time_48-50TEMP_MPY_wvf_snd.mp3\n"
          ],
          "name": "stdout"
        },
        {
          "output_type": "stream",
          "text": [
            "\n",
            "\n",
            "  0%|          | 0/45 [00:00<?, ?it/s]\u001b[A\u001b[A\n",
            "\n",
            "100%|██████████| 45/45 [00:00<00:00, 285.34it/s]"
          ],
          "name": "stderr"
        },
        {
          "output_type": "stream",
          "text": [
            "[MoviePy] Done.\n",
            "[MoviePy] Writing video /content/clips/BYlSjcgZl7Y_time_48-50.mp4\n"
          ],
          "name": "stdout"
        },
        {
          "output_type": "stream",
          "text": [
            "\n",
            "\n",
            "\n",
            "  0%|          | 0/60 [00:00<?, ?it/s]\u001b[A\u001b[A\n",
            "\n",
            " 30%|███       | 18/60 [00:00<00:00, 179.86it/s]\u001b[A\u001b[A\n",
            "\n",
            " 57%|█████▋    | 34/60 [00:00<00:00, 170.40it/s]\u001b[A\u001b[A\n",
            "\n",
            "100%|██████████| 60/60 [00:00<00:00, 130.63it/s]\n"
          ],
          "name": "stderr"
        },
        {
          "output_type": "stream",
          "text": [
            "[MoviePy] Done.\n",
            "[MoviePy] >>>> Video ready: /content/clips/BYlSjcgZl7Y_time_48-50.mp4 \n",
            "\n",
            "###########################################################\n",
            "prediction: (1, 0.9997775)\n",
            "###########################################################\n",
            "[MoviePy] >>>> Building video /content/clips/BYlSjcgZl7Y_time_50-52.mp4\n",
            "[MoviePy] Writing audio in BYlSjcgZl7Y_time_50-52TEMP_MPY_wvf_snd.mp3\n"
          ],
          "name": "stdout"
        },
        {
          "output_type": "stream",
          "text": [
            "\n",
            "\n",
            "  0%|          | 0/45 [00:00<?, ?it/s]\u001b[A\u001b[A\n",
            "\n",
            "100%|██████████| 45/45 [00:00<00:00, 286.29it/s]"
          ],
          "name": "stderr"
        },
        {
          "output_type": "stream",
          "text": [
            "[MoviePy] Done.\n",
            "[MoviePy] Writing video /content/clips/BYlSjcgZl7Y_time_50-52.mp4\n"
          ],
          "name": "stdout"
        },
        {
          "output_type": "stream",
          "text": [
            "\n",
            "\n",
            "\n",
            "  0%|          | 0/60 [00:00<?, ?it/s]\u001b[A\u001b[A\n",
            "\n",
            " 30%|███       | 18/60 [00:00<00:00, 173.77it/s]\u001b[A\u001b[A\n",
            "\n",
            " 65%|██████▌   | 39/60 [00:00<00:00, 182.77it/s]\u001b[A\u001b[A\n",
            "\n",
            "100%|██████████| 60/60 [00:00<00:00, 142.50it/s]\n"
          ],
          "name": "stderr"
        },
        {
          "output_type": "stream",
          "text": [
            "[MoviePy] Done.\n",
            "[MoviePy] >>>> Video ready: /content/clips/BYlSjcgZl7Y_time_50-52.mp4 \n",
            "\n",
            "###########################################################\n",
            "prediction: (1, 0.99950063)\n",
            "###########################################################\n",
            "[MoviePy] >>>> Building video /content/clips/BYlSjcgZl7Y_time_52-54.mp4\n",
            "[MoviePy] Writing audio in BYlSjcgZl7Y_time_52-54TEMP_MPY_wvf_snd.mp3\n"
          ],
          "name": "stdout"
        },
        {
          "output_type": "stream",
          "text": [
            "\n",
            "\n",
            "  0%|          | 0/45 [00:00<?, ?it/s]\u001b[A\u001b[A\n",
            "\n",
            "100%|██████████| 45/45 [00:00<00:00, 307.83it/s]"
          ],
          "name": "stderr"
        },
        {
          "output_type": "stream",
          "text": [
            "[MoviePy] Done.\n",
            "[MoviePy] Writing video /content/clips/BYlSjcgZl7Y_time_52-54.mp4\n"
          ],
          "name": "stdout"
        },
        {
          "output_type": "stream",
          "text": [
            "\n",
            "\n",
            "\n",
            "  0%|          | 0/60 [00:00<?, ?it/s]\u001b[A\u001b[A\n",
            "\n",
            " 32%|███▏      | 19/60 [00:00<00:00, 188.10it/s]\u001b[A\u001b[A\n",
            "\n",
            " 60%|██████    | 36/60 [00:00<00:00, 179.93it/s]\u001b[A\u001b[A\n",
            "\n",
            "100%|██████████| 60/60 [00:00<00:00, 142.27it/s]\n"
          ],
          "name": "stderr"
        },
        {
          "output_type": "stream",
          "text": [
            "[MoviePy] Done.\n",
            "[MoviePy] >>>> Video ready: /content/clips/BYlSjcgZl7Y_time_52-54.mp4 \n",
            "\n",
            "###########################################################\n",
            "prediction: (1, 0.9996424)\n",
            "###########################################################\n",
            "[MoviePy] >>>> Building video /content/clips/BYlSjcgZl7Y_time_54-56.mp4\n",
            "[MoviePy] Writing audio in BYlSjcgZl7Y_time_54-56TEMP_MPY_wvf_snd.mp3\n"
          ],
          "name": "stdout"
        },
        {
          "output_type": "stream",
          "text": [
            "\n",
            "\n",
            "  0%|          | 0/45 [00:00<?, ?it/s]\u001b[A\u001b[A\n",
            "\n",
            "100%|██████████| 45/45 [00:00<00:00, 290.31it/s]"
          ],
          "name": "stderr"
        },
        {
          "output_type": "stream",
          "text": [
            "[MoviePy] Done.\n",
            "[MoviePy] Writing video /content/clips/BYlSjcgZl7Y_time_54-56.mp4\n"
          ],
          "name": "stdout"
        },
        {
          "output_type": "stream",
          "text": [
            "\n",
            "\n",
            "\n",
            "  0%|          | 0/60 [00:00<?, ?it/s]\u001b[A\u001b[A\n",
            "\n",
            " 28%|██▊       | 17/60 [00:00<00:00, 165.56it/s]\u001b[A\u001b[A\n",
            "\n",
            " 57%|█████▋    | 34/60 [00:00<00:00, 166.49it/s]\u001b[A\u001b[A\n",
            "\n",
            " 82%|████████▏ | 49/60 [00:00<00:00, 159.69it/s]\u001b[A\u001b[A\n",
            "\n",
            "100%|██████████| 60/60 [00:00<00:00, 126.74it/s]\n"
          ],
          "name": "stderr"
        },
        {
          "output_type": "stream",
          "text": [
            "[MoviePy] Done.\n",
            "[MoviePy] >>>> Video ready: /content/clips/BYlSjcgZl7Y_time_54-56.mp4 \n",
            "\n",
            "###########################################################\n",
            "prediction: (1, 0.9997577)\n",
            "###########################################################\n",
            "[MoviePy] >>>> Building video /content/clips/BYlSjcgZl7Y_time_56-58.mp4\n",
            "[MoviePy] Writing audio in BYlSjcgZl7Y_time_56-58TEMP_MPY_wvf_snd.mp3\n"
          ],
          "name": "stdout"
        },
        {
          "output_type": "stream",
          "text": [
            "\n",
            "\n",
            "  0%|          | 0/45 [00:00<?, ?it/s]\u001b[A\u001b[A\n",
            "\n",
            "100%|██████████| 45/45 [00:00<00:00, 290.23it/s]"
          ],
          "name": "stderr"
        },
        {
          "output_type": "stream",
          "text": [
            "[MoviePy] Done.\n",
            "[MoviePy] Writing video /content/clips/BYlSjcgZl7Y_time_56-58.mp4\n"
          ],
          "name": "stdout"
        },
        {
          "output_type": "stream",
          "text": [
            "\n",
            "\n",
            "\n",
            "  0%|          | 0/60 [00:00<?, ?it/s]\u001b[A\u001b[A\n",
            "\n",
            " 27%|██▋       | 16/60 [00:00<00:00, 156.48it/s]\u001b[A\u001b[A\n",
            "\n",
            " 53%|█████▎    | 32/60 [00:00<00:00, 155.92it/s]\u001b[A\u001b[A\n",
            "\n",
            "100%|██████████| 60/60 [00:00<00:00, 127.89it/s]\n"
          ],
          "name": "stderr"
        },
        {
          "output_type": "stream",
          "text": [
            "[MoviePy] Done.\n",
            "[MoviePy] >>>> Video ready: /content/clips/BYlSjcgZl7Y_time_56-58.mp4 \n",
            "\n",
            "###########################################################\n",
            "prediction: (1, 0.9996594)\n",
            "###########################################################\n",
            "[MoviePy] >>>> Building video /content/clips/BYlSjcgZl7Y_time_58-60.mp4\n",
            "[MoviePy] Writing audio in BYlSjcgZl7Y_time_58-60TEMP_MPY_wvf_snd.mp3\n"
          ],
          "name": "stdout"
        },
        {
          "output_type": "stream",
          "text": [
            "\n",
            "\n",
            "  0%|          | 0/45 [00:00<?, ?it/s]\u001b[A\u001b[A\n",
            "\n",
            "100%|██████████| 45/45 [00:00<00:00, 282.61it/s]"
          ],
          "name": "stderr"
        },
        {
          "output_type": "stream",
          "text": [
            "[MoviePy] Done.\n",
            "[MoviePy] Writing video /content/clips/BYlSjcgZl7Y_time_58-60.mp4\n"
          ],
          "name": "stdout"
        },
        {
          "output_type": "stream",
          "text": [
            "\n",
            "\n",
            "\n",
            "  0%|          | 0/60 [00:00<?, ?it/s]\u001b[A\u001b[A\n",
            "\n",
            " 28%|██▊       | 17/60 [00:00<00:00, 163.15it/s]\u001b[A\u001b[A\n",
            "\n",
            " 57%|█████▋    | 34/60 [00:00<00:00, 164.79it/s]\u001b[A\u001b[A\n",
            "\n",
            "100%|██████████| 60/60 [00:00<00:00, 135.44it/s]\n"
          ],
          "name": "stderr"
        },
        {
          "output_type": "stream",
          "text": [
            "[MoviePy] Done.\n",
            "[MoviePy] >>>> Video ready: /content/clips/BYlSjcgZl7Y_time_58-60.mp4 \n",
            "\n",
            "###########################################################\n",
            "prediction: (1, 0.99963677)\n",
            "###########################################################\n",
            "[MoviePy] >>>> Building video /content/clips/BYlSjcgZl7Y_time_60-62.mp4\n",
            "[MoviePy] Writing audio in BYlSjcgZl7Y_time_60-62TEMP_MPY_wvf_snd.mp3\n"
          ],
          "name": "stdout"
        },
        {
          "output_type": "stream",
          "text": [
            "\n",
            "\n",
            "  0%|          | 0/45 [00:00<?, ?it/s]\u001b[A\u001b[A\n",
            "\n",
            "100%|██████████| 45/45 [00:00<00:00, 298.96it/s]"
          ],
          "name": "stderr"
        },
        {
          "output_type": "stream",
          "text": [
            "[MoviePy] Done.\n",
            "[MoviePy] Writing video /content/clips/BYlSjcgZl7Y_time_60-62.mp4\n"
          ],
          "name": "stdout"
        },
        {
          "output_type": "stream",
          "text": [
            "\n",
            "\n",
            "\n",
            "  0%|          | 0/60 [00:00<?, ?it/s]\u001b[A\u001b[A\n",
            "\n",
            " 32%|███▏      | 19/60 [00:00<00:00, 187.45it/s]\u001b[A\u001b[A\n",
            "\n",
            " 58%|█████▊    | 35/60 [00:00<00:00, 178.17it/s]\u001b[A\u001b[A\n",
            "\n",
            "100%|██████████| 60/60 [00:00<00:00, 133.55it/s]\n"
          ],
          "name": "stderr"
        },
        {
          "output_type": "stream",
          "text": [
            "[MoviePy] Done.\n",
            "[MoviePy] >>>> Video ready: /content/clips/BYlSjcgZl7Y_time_60-62.mp4 \n",
            "\n",
            "###########################################################\n",
            "prediction: (1, 0.9997805)\n",
            "###########################################################\n",
            "[MoviePy] >>>> Building video /content/clips/BYlSjcgZl7Y_time_62-64.mp4\n",
            "[MoviePy] Writing audio in BYlSjcgZl7Y_time_62-64TEMP_MPY_wvf_snd.mp3\n"
          ],
          "name": "stdout"
        },
        {
          "output_type": "stream",
          "text": [
            "\n",
            "\n",
            "  0%|          | 0/45 [00:00<?, ?it/s]\u001b[A\u001b[A\n",
            "\n",
            "100%|██████████| 45/45 [00:00<00:00, 289.32it/s]"
          ],
          "name": "stderr"
        },
        {
          "output_type": "stream",
          "text": [
            "[MoviePy] Done.\n",
            "[MoviePy] Writing video /content/clips/BYlSjcgZl7Y_time_62-64.mp4\n"
          ],
          "name": "stdout"
        },
        {
          "output_type": "stream",
          "text": [
            "\n",
            "\n",
            "\n",
            "  0%|          | 0/60 [00:00<?, ?it/s]\u001b[A\u001b[A\n",
            "\n",
            " 32%|███▏      | 19/60 [00:00<00:00, 181.62it/s]\u001b[A\u001b[A\n",
            "\n",
            " 62%|██████▏   | 37/60 [00:00<00:00, 178.99it/s]\u001b[A\u001b[A\n",
            "\n",
            "100%|██████████| 60/60 [00:00<00:00, 138.17it/s]\n"
          ],
          "name": "stderr"
        },
        {
          "output_type": "stream",
          "text": [
            "[MoviePy] Done.\n",
            "[MoviePy] >>>> Video ready: /content/clips/BYlSjcgZl7Y_time_62-64.mp4 \n",
            "\n",
            "###########################################################\n",
            "prediction: (1, 0.99968266)\n",
            "###########################################################\n",
            "[MoviePy] >>>> Building video /content/clips/BYlSjcgZl7Y_time_64-66.mp4\n",
            "[MoviePy] Writing audio in BYlSjcgZl7Y_time_64-66TEMP_MPY_wvf_snd.mp3\n"
          ],
          "name": "stdout"
        },
        {
          "output_type": "stream",
          "text": [
            "\n",
            "\n",
            "  0%|          | 0/45 [00:00<?, ?it/s]\u001b[A\u001b[A\n",
            "\n",
            "100%|██████████| 45/45 [00:00<00:00, 304.69it/s]"
          ],
          "name": "stderr"
        },
        {
          "output_type": "stream",
          "text": [
            "[MoviePy] Done.\n",
            "[MoviePy] Writing video /content/clips/BYlSjcgZl7Y_time_64-66.mp4\n"
          ],
          "name": "stdout"
        },
        {
          "output_type": "stream",
          "text": [
            "\n",
            "\n",
            "\n",
            "  0%|          | 0/60 [00:00<?, ?it/s]\u001b[A\u001b[A\n",
            "\n",
            " 28%|██▊       | 17/60 [00:00<00:00, 162.01it/s]\u001b[A\u001b[A\n",
            "\n",
            " 57%|█████▋    | 34/60 [00:00<00:00, 163.16it/s]\u001b[A\u001b[A\n",
            "\n",
            "100%|██████████| 60/60 [00:00<00:00, 134.59it/s]\n"
          ],
          "name": "stderr"
        },
        {
          "output_type": "stream",
          "text": [
            "[MoviePy] Done.\n",
            "[MoviePy] >>>> Video ready: /content/clips/BYlSjcgZl7Y_time_64-66.mp4 \n",
            "\n",
            "###########################################################\n",
            "prediction: (1, 0.9997199)\n",
            "###########################################################\n",
            "[MoviePy] >>>> Building video /content/clips/BYlSjcgZl7Y_time_66-68.mp4\n",
            "[MoviePy] Writing audio in BYlSjcgZl7Y_time_66-68TEMP_MPY_wvf_snd.mp3\n"
          ],
          "name": "stdout"
        },
        {
          "output_type": "stream",
          "text": [
            "\n",
            "\n",
            "  0%|          | 0/45 [00:00<?, ?it/s]\u001b[A\u001b[A\n",
            "\n",
            "100%|██████████| 45/45 [00:00<00:00, 294.10it/s]"
          ],
          "name": "stderr"
        },
        {
          "output_type": "stream",
          "text": [
            "[MoviePy] Done.\n",
            "[MoviePy] Writing video /content/clips/BYlSjcgZl7Y_time_66-68.mp4\n"
          ],
          "name": "stdout"
        },
        {
          "output_type": "stream",
          "text": [
            "\n",
            "\n",
            "\n",
            "  0%|          | 0/60 [00:00<?, ?it/s]\u001b[A\u001b[A\n",
            "\n",
            " 28%|██▊       | 17/60 [00:00<00:00, 169.34it/s]\u001b[A\u001b[A\n",
            "\n",
            " 55%|█████▌    | 33/60 [00:00<00:00, 165.24it/s]\u001b[A\u001b[A\n",
            "\n",
            " 82%|████████▏ | 49/60 [00:00<00:00, 163.28it/s]\u001b[A\u001b[A\n",
            "\n",
            "100%|██████████| 60/60 [00:00<00:00, 118.33it/s]\n"
          ],
          "name": "stderr"
        },
        {
          "output_type": "stream",
          "text": [
            "[MoviePy] Done.\n",
            "[MoviePy] >>>> Video ready: /content/clips/BYlSjcgZl7Y_time_66-68.mp4 \n",
            "\n",
            "###########################################################\n",
            "prediction: (1, 0.9996401)\n",
            "###########################################################\n",
            "[MoviePy] >>>> Building video /content/clips/BYlSjcgZl7Y_time_68-70.mp4\n",
            "[MoviePy] Writing audio in BYlSjcgZl7Y_time_68-70TEMP_MPY_wvf_snd.mp3\n"
          ],
          "name": "stdout"
        },
        {
          "output_type": "stream",
          "text": [
            "\n",
            "\n",
            "  0%|          | 0/45 [00:00<?, ?it/s]\u001b[A\u001b[A\n",
            "\n",
            "100%|██████████| 45/45 [00:00<00:00, 273.63it/s]"
          ],
          "name": "stderr"
        },
        {
          "output_type": "stream",
          "text": [
            "[MoviePy] Done.\n",
            "[MoviePy] Writing video /content/clips/BYlSjcgZl7Y_time_68-70.mp4\n"
          ],
          "name": "stdout"
        },
        {
          "output_type": "stream",
          "text": [
            "\n",
            "\n",
            "\n",
            "  0%|          | 0/60 [00:00<?, ?it/s]\u001b[A\u001b[A\n",
            "\n",
            " 27%|██▋       | 16/60 [00:00<00:00, 152.97it/s]\u001b[A\u001b[A\n",
            "\n",
            " 55%|█████▌    | 33/60 [00:00<00:00, 156.26it/s]\u001b[A\u001b[A\n",
            "\n",
            "100%|██████████| 60/60 [00:00<00:00, 124.86it/s]\n"
          ],
          "name": "stderr"
        },
        {
          "output_type": "stream",
          "text": [
            "[MoviePy] Done.\n",
            "[MoviePy] >>>> Video ready: /content/clips/BYlSjcgZl7Y_time_68-70.mp4 \n",
            "\n",
            "###########################################################\n",
            "prediction: (1, 0.9996964)\n",
            "###########################################################\n",
            "[MoviePy] >>>> Building video /content/clips/BYlSjcgZl7Y_time_70-72.mp4\n",
            "[MoviePy] Writing audio in BYlSjcgZl7Y_time_70-72TEMP_MPY_wvf_snd.mp3\n"
          ],
          "name": "stdout"
        },
        {
          "output_type": "stream",
          "text": [
            "\n",
            "\n",
            "  0%|          | 0/45 [00:00<?, ?it/s]\u001b[A\u001b[A\n",
            "\n",
            "100%|██████████| 45/45 [00:00<00:00, 287.11it/s]"
          ],
          "name": "stderr"
        },
        {
          "output_type": "stream",
          "text": [
            "[MoviePy] Done.\n",
            "[MoviePy] Writing video /content/clips/BYlSjcgZl7Y_time_70-72.mp4\n"
          ],
          "name": "stdout"
        },
        {
          "output_type": "stream",
          "text": [
            "\n",
            "\n",
            "\n",
            "  0%|          | 0/60 [00:00<?, ?it/s]\u001b[A\u001b[A\n",
            "\n",
            " 28%|██▊       | 17/60 [00:00<00:00, 163.34it/s]\u001b[A\u001b[A\n",
            "\n",
            " 58%|█████▊    | 35/60 [00:00<00:00, 166.29it/s]\u001b[A\u001b[A\n",
            "\n",
            "100%|██████████| 60/60 [00:00<00:00, 128.96it/s]\n"
          ],
          "name": "stderr"
        },
        {
          "output_type": "stream",
          "text": [
            "[MoviePy] Done.\n",
            "[MoviePy] >>>> Video ready: /content/clips/BYlSjcgZl7Y_time_70-72.mp4 \n",
            "\n",
            "###########################################################\n",
            "prediction: (1, 0.99977404)\n",
            "###########################################################\n",
            "[MoviePy] >>>> Building video /content/clips/BYlSjcgZl7Y_time_72-74.mp4\n",
            "[MoviePy] Writing audio in BYlSjcgZl7Y_time_72-74TEMP_MPY_wvf_snd.mp3\n"
          ],
          "name": "stdout"
        },
        {
          "output_type": "stream",
          "text": [
            "\n",
            "\n",
            "  0%|          | 0/45 [00:00<?, ?it/s]\u001b[A\u001b[A\n",
            "\n",
            "100%|██████████| 45/45 [00:00<00:00, 287.15it/s]"
          ],
          "name": "stderr"
        },
        {
          "output_type": "stream",
          "text": [
            "[MoviePy] Done.\n",
            "[MoviePy] Writing video /content/clips/BYlSjcgZl7Y_time_72-74.mp4\n"
          ],
          "name": "stdout"
        },
        {
          "output_type": "stream",
          "text": [
            "\n",
            "\n",
            "\n",
            "  0%|          | 0/60 [00:00<?, ?it/s]\u001b[A\u001b[A\n",
            "\n",
            " 30%|███       | 18/60 [00:00<00:00, 171.97it/s]\u001b[A\u001b[A\n",
            "\n",
            " 62%|██████▏   | 37/60 [00:00<00:00, 175.56it/s]\u001b[A\u001b[A\n",
            "\n",
            "100%|██████████| 60/60 [00:00<00:00, 141.93it/s]\n"
          ],
          "name": "stderr"
        },
        {
          "output_type": "stream",
          "text": [
            "[MoviePy] Done.\n",
            "[MoviePy] >>>> Video ready: /content/clips/BYlSjcgZl7Y_time_72-74.mp4 \n",
            "\n",
            "###########################################################\n",
            "prediction: (1, 0.9996742)\n",
            "###########################################################\n",
            "[MoviePy] >>>> Building video /content/clips/BYlSjcgZl7Y_time_74-76.mp4\n",
            "[MoviePy] Writing audio in BYlSjcgZl7Y_time_74-76TEMP_MPY_wvf_snd.mp3\n"
          ],
          "name": "stdout"
        },
        {
          "output_type": "stream",
          "text": [
            "\n",
            "\n",
            "  0%|          | 0/45 [00:00<?, ?it/s]\u001b[A\u001b[A\n",
            "\n",
            "100%|██████████| 45/45 [00:00<00:00, 287.76it/s]"
          ],
          "name": "stderr"
        },
        {
          "output_type": "stream",
          "text": [
            "[MoviePy] Done.\n",
            "[MoviePy] Writing video /content/clips/BYlSjcgZl7Y_time_74-76.mp4\n"
          ],
          "name": "stdout"
        },
        {
          "output_type": "stream",
          "text": [
            "\n",
            "\n",
            "\n",
            "  0%|          | 0/60 [00:00<?, ?it/s]\u001b[A\u001b[A\n",
            "\n",
            " 27%|██▋       | 16/60 [00:00<00:00, 155.46it/s]\u001b[A\u001b[A\n",
            "\n",
            " 55%|█████▌    | 33/60 [00:00<00:00, 159.12it/s]\u001b[A\u001b[A\n",
            "\n",
            "100%|██████████| 60/60 [00:00<00:00, 129.15it/s]\n"
          ],
          "name": "stderr"
        },
        {
          "output_type": "stream",
          "text": [
            "[MoviePy] Done.\n",
            "[MoviePy] >>>> Video ready: /content/clips/BYlSjcgZl7Y_time_74-76.mp4 \n",
            "\n",
            "###########################################################\n",
            "prediction: (1, 0.99964523)\n",
            "###########################################################\n",
            "[MoviePy] >>>> Building video /content/clips/BYlSjcgZl7Y_time_76-78.mp4\n",
            "[MoviePy] Writing audio in BYlSjcgZl7Y_time_76-78TEMP_MPY_wvf_snd.mp3\n"
          ],
          "name": "stdout"
        },
        {
          "output_type": "stream",
          "text": [
            "\n",
            "\n",
            "  0%|          | 0/45 [00:00<?, ?it/s]\u001b[A\u001b[A\n",
            "\n",
            "100%|██████████| 45/45 [00:00<00:00, 289.34it/s]"
          ],
          "name": "stderr"
        },
        {
          "output_type": "stream",
          "text": [
            "[MoviePy] Done.\n",
            "[MoviePy] Writing video /content/clips/BYlSjcgZl7Y_time_76-78.mp4\n"
          ],
          "name": "stdout"
        },
        {
          "output_type": "stream",
          "text": [
            "\n",
            "\n",
            "\n",
            "  0%|          | 0/60 [00:00<?, ?it/s]\u001b[A\u001b[A\n",
            "\n",
            " 28%|██▊       | 17/60 [00:00<00:00, 167.32it/s]\u001b[A\u001b[A\n",
            "\n",
            " 62%|██████▏   | 37/60 [00:00<00:00, 174.46it/s]\u001b[A\u001b[A\n",
            "\n",
            "100%|██████████| 60/60 [00:00<00:00, 135.10it/s]\n"
          ],
          "name": "stderr"
        },
        {
          "output_type": "stream",
          "text": [
            "[MoviePy] Done.\n",
            "[MoviePy] >>>> Video ready: /content/clips/BYlSjcgZl7Y_time_76-78.mp4 \n",
            "\n",
            "###########################################################\n",
            "prediction: (1, 0.99971765)\n",
            "###########################################################\n",
            "[MoviePy] >>>> Building video /content/clips/BYlSjcgZl7Y_time_78-80.mp4\n",
            "[MoviePy] Writing audio in BYlSjcgZl7Y_time_78-80TEMP_MPY_wvf_snd.mp3\n"
          ],
          "name": "stdout"
        },
        {
          "output_type": "stream",
          "text": [
            "\n",
            "\n",
            "  0%|          | 0/45 [00:00<?, ?it/s]\u001b[A\u001b[A\n",
            "\n",
            "100%|██████████| 45/45 [00:00<00:00, 283.28it/s]"
          ],
          "name": "stderr"
        },
        {
          "output_type": "stream",
          "text": [
            "[MoviePy] Done.\n",
            "[MoviePy] Writing video /content/clips/BYlSjcgZl7Y_time_78-80.mp4\n"
          ],
          "name": "stdout"
        },
        {
          "output_type": "stream",
          "text": [
            "\n",
            "\n",
            "\n",
            "  0%|          | 0/60 [00:00<?, ?it/s]\u001b[A\u001b[A\n",
            "\n",
            " 30%|███       | 18/60 [00:00<00:00, 173.92it/s]\u001b[A\u001b[A\n",
            "\n",
            " 62%|██████▏   | 37/60 [00:00<00:00, 176.99it/s]\u001b[A\u001b[A\n",
            "\n",
            "100%|██████████| 60/60 [00:00<00:00, 131.17it/s]\n"
          ],
          "name": "stderr"
        },
        {
          "output_type": "stream",
          "text": [
            "[MoviePy] Done.\n",
            "[MoviePy] >>>> Video ready: /content/clips/BYlSjcgZl7Y_time_78-80.mp4 \n",
            "\n",
            "###########################################################\n",
            "prediction: (1, 0.99967265)\n",
            "###########################################################\n",
            "[MoviePy] >>>> Building video /content/clips/BYlSjcgZl7Y_time_80-82.mp4\n",
            "[MoviePy] Writing audio in BYlSjcgZl7Y_time_80-82TEMP_MPY_wvf_snd.mp3\n"
          ],
          "name": "stdout"
        },
        {
          "output_type": "stream",
          "text": [
            "\n",
            "\n",
            "  0%|          | 0/45 [00:00<?, ?it/s]\u001b[A\u001b[A\n",
            "\n",
            "100%|██████████| 45/45 [00:00<00:00, 276.93it/s]"
          ],
          "name": "stderr"
        },
        {
          "output_type": "stream",
          "text": [
            "[MoviePy] Done.\n",
            "[MoviePy] Writing video /content/clips/BYlSjcgZl7Y_time_80-82.mp4\n"
          ],
          "name": "stdout"
        },
        {
          "output_type": "stream",
          "text": [
            "\n",
            "\n",
            "\n",
            "  0%|          | 0/60 [00:00<?, ?it/s]\u001b[A\u001b[A\n",
            "\n",
            " 30%|███       | 18/60 [00:00<00:00, 174.02it/s]\u001b[A\u001b[A\n",
            "\n",
            " 55%|█████▌    | 33/60 [00:00<00:00, 165.16it/s]\u001b[A\u001b[A\n",
            "\n",
            " 82%|████████▏ | 49/60 [00:00<00:00, 162.39it/s]\u001b[A\u001b[A\n",
            "\n",
            "100%|██████████| 60/60 [00:00<00:00, 121.06it/s]\n"
          ],
          "name": "stderr"
        },
        {
          "output_type": "stream",
          "text": [
            "[MoviePy] Done.\n",
            "[MoviePy] >>>> Video ready: /content/clips/BYlSjcgZl7Y_time_80-82.mp4 \n",
            "\n",
            "###########################################################\n",
            "prediction: (1, 0.99977976)\n",
            "###########################################################\n",
            "[MoviePy] >>>> Building video /content/clips/BYlSjcgZl7Y_time_82-84.mp4\n",
            "[MoviePy] Writing audio in BYlSjcgZl7Y_time_82-84TEMP_MPY_wvf_snd.mp3\n"
          ],
          "name": "stdout"
        },
        {
          "output_type": "stream",
          "text": [
            "\n",
            "\n",
            "  0%|          | 0/45 [00:00<?, ?it/s]\u001b[A\u001b[A\n",
            "\n",
            "100%|██████████| 45/45 [00:00<00:00, 287.28it/s]"
          ],
          "name": "stderr"
        },
        {
          "output_type": "stream",
          "text": [
            "[MoviePy] Done.\n",
            "[MoviePy] Writing video /content/clips/BYlSjcgZl7Y_time_82-84.mp4\n"
          ],
          "name": "stdout"
        },
        {
          "output_type": "stream",
          "text": [
            "\n",
            "\n",
            "\n",
            "  0%|          | 0/60 [00:00<?, ?it/s]\u001b[A\u001b[A\n",
            "\n",
            " 30%|███       | 18/60 [00:00<00:00, 173.05it/s]\u001b[A\u001b[A\n",
            "\n",
            " 58%|█████▊    | 35/60 [00:00<00:00, 168.07it/s]\u001b[A\u001b[A\n",
            "\n",
            "100%|██████████| 60/60 [00:00<00:00, 129.14it/s]\n"
          ],
          "name": "stderr"
        },
        {
          "output_type": "stream",
          "text": [
            "[MoviePy] Done.\n",
            "[MoviePy] >>>> Video ready: /content/clips/BYlSjcgZl7Y_time_82-84.mp4 \n",
            "\n",
            "###########################################################\n",
            "prediction: (1, 0.9994758)\n",
            "###########################################################\n",
            "[MoviePy] >>>> Building video /content/clips/BYlSjcgZl7Y_time_84-86.mp4\n",
            "[MoviePy] Writing audio in BYlSjcgZl7Y_time_84-86TEMP_MPY_wvf_snd.mp3\n"
          ],
          "name": "stdout"
        },
        {
          "output_type": "stream",
          "text": [
            "\n",
            "\n",
            "  0%|          | 0/45 [00:00<?, ?it/s]\u001b[A\u001b[A\n",
            "\n",
            "100%|██████████| 45/45 [00:00<00:00, 264.70it/s]"
          ],
          "name": "stderr"
        },
        {
          "output_type": "stream",
          "text": [
            "[MoviePy] Done.\n",
            "[MoviePy] Writing video /content/clips/BYlSjcgZl7Y_time_84-86.mp4\n"
          ],
          "name": "stdout"
        },
        {
          "output_type": "stream",
          "text": [
            "\n",
            "\n",
            "\n",
            "  0%|          | 0/60 [00:00<?, ?it/s]\u001b[A\u001b[A\n",
            "\n",
            " 32%|███▏      | 19/60 [00:00<00:00, 182.19it/s]\u001b[A\u001b[A\n",
            "\n",
            " 58%|█████▊    | 35/60 [00:00<00:00, 174.65it/s]\u001b[A\u001b[A\n",
            "\n",
            "100%|██████████| 60/60 [00:00<00:00, 133.83it/s]\n"
          ],
          "name": "stderr"
        },
        {
          "output_type": "stream",
          "text": [
            "[MoviePy] Done.\n",
            "[MoviePy] >>>> Video ready: /content/clips/BYlSjcgZl7Y_time_84-86.mp4 \n",
            "\n",
            "###########################################################\n",
            "prediction: (1, 0.9997397)\n",
            "###########################################################\n",
            "[MoviePy] >>>> Building video /content/clips/BYlSjcgZl7Y_time_86-88.mp4\n",
            "[MoviePy] Writing audio in BYlSjcgZl7Y_time_86-88TEMP_MPY_wvf_snd.mp3\n"
          ],
          "name": "stdout"
        },
        {
          "output_type": "stream",
          "text": [
            "\n",
            "\n",
            "  0%|          | 0/45 [00:00<?, ?it/s]\u001b[A\u001b[A\n",
            "\n",
            "100%|██████████| 45/45 [00:00<00:00, 284.55it/s]"
          ],
          "name": "stderr"
        },
        {
          "output_type": "stream",
          "text": [
            "[MoviePy] Done.\n",
            "[MoviePy] Writing video /content/clips/BYlSjcgZl7Y_time_86-88.mp4\n"
          ],
          "name": "stdout"
        },
        {
          "output_type": "stream",
          "text": [
            "\n",
            "\n",
            "\n",
            "  0%|          | 0/60 [00:00<?, ?it/s]\u001b[A\u001b[A\n",
            "\n",
            " 30%|███       | 18/60 [00:00<00:00, 174.90it/s]\u001b[A\u001b[A\n",
            "\n",
            " 60%|██████    | 36/60 [00:00<00:00, 174.64it/s]\u001b[A\u001b[A\n",
            "\n",
            "100%|██████████| 60/60 [00:00<00:00, 135.52it/s]\n"
          ],
          "name": "stderr"
        },
        {
          "output_type": "stream",
          "text": [
            "[MoviePy] Done.\n",
            "[MoviePy] >>>> Video ready: /content/clips/BYlSjcgZl7Y_time_86-88.mp4 \n",
            "\n",
            "###########################################################\n",
            "prediction: (1, 0.9997243)\n",
            "###########################################################\n",
            "[MoviePy] >>>> Building video /content/clips/BYlSjcgZl7Y_time_88-90.mp4\n",
            "[MoviePy] Writing audio in BYlSjcgZl7Y_time_88-90TEMP_MPY_wvf_snd.mp3\n"
          ],
          "name": "stdout"
        },
        {
          "output_type": "stream",
          "text": [
            "\n",
            "\n",
            "  0%|          | 0/45 [00:00<?, ?it/s]\u001b[A\u001b[A\n",
            "\n",
            "100%|██████████| 45/45 [00:00<00:00, 280.72it/s]"
          ],
          "name": "stderr"
        },
        {
          "output_type": "stream",
          "text": [
            "[MoviePy] Done.\n",
            "[MoviePy] Writing video /content/clips/BYlSjcgZl7Y_time_88-90.mp4\n"
          ],
          "name": "stdout"
        },
        {
          "output_type": "stream",
          "text": [
            "\n",
            "\n",
            "\n",
            "  0%|          | 0/60 [00:00<?, ?it/s]\u001b[A\u001b[A\n",
            "\n",
            " 27%|██▋       | 16/60 [00:00<00:00, 157.05it/s]\u001b[A\u001b[A\n",
            "\n",
            " 53%|█████▎    | 32/60 [00:00<00:00, 156.81it/s]\u001b[A\u001b[A\n",
            "\n",
            " 82%|████████▏ | 49/60 [00:00<00:00, 159.62it/s]\u001b[A\u001b[A\n",
            "\n",
            "100%|██████████| 60/60 [00:00<00:00, 126.83it/s]\n"
          ],
          "name": "stderr"
        },
        {
          "output_type": "stream",
          "text": [
            "[MoviePy] Done.\n",
            "[MoviePy] >>>> Video ready: /content/clips/BYlSjcgZl7Y_time_88-90.mp4 \n",
            "\n",
            "###########################################################\n",
            "prediction: (1, 0.9997403)\n",
            "###########################################################\n",
            "[MoviePy] >>>> Building video /content/clips/BYlSjcgZl7Y_time_90-92.mp4\n",
            "[MoviePy] Writing audio in BYlSjcgZl7Y_time_90-92TEMP_MPY_wvf_snd.mp3\n"
          ],
          "name": "stdout"
        },
        {
          "output_type": "stream",
          "text": [
            "\n",
            "\n",
            "  0%|          | 0/45 [00:00<?, ?it/s]\u001b[A\u001b[A\n",
            "\n",
            "100%|██████████| 45/45 [00:00<00:00, 306.38it/s]"
          ],
          "name": "stderr"
        },
        {
          "output_type": "stream",
          "text": [
            "[MoviePy] Done.\n",
            "[MoviePy] Writing video /content/clips/BYlSjcgZl7Y_time_90-92.mp4\n"
          ],
          "name": "stdout"
        },
        {
          "output_type": "stream",
          "text": [
            "\n",
            "\n",
            "\n",
            "  0%|          | 0/60 [00:00<?, ?it/s]\u001b[A\u001b[A\n",
            "\n",
            " 30%|███       | 18/60 [00:00<00:00, 179.85it/s]\u001b[A\u001b[A\n",
            "\n",
            " 58%|█████▊    | 35/60 [00:00<00:00, 175.93it/s]\u001b[A\u001b[A\n",
            "\n",
            "100%|██████████| 60/60 [00:00<00:00, 131.26it/s]\n"
          ],
          "name": "stderr"
        },
        {
          "output_type": "stream",
          "text": [
            "[MoviePy] Done.\n",
            "[MoviePy] >>>> Video ready: /content/clips/BYlSjcgZl7Y_time_90-92.mp4 \n",
            "\n",
            "###########################################################\n",
            "prediction: (1, 0.99968386)\n",
            "###########################################################\n",
            "[MoviePy] >>>> Building video /content/clips/BYlSjcgZl7Y_time_92-94.mp4\n",
            "[MoviePy] Writing audio in BYlSjcgZl7Y_time_92-94TEMP_MPY_wvf_snd.mp3\n"
          ],
          "name": "stdout"
        },
        {
          "output_type": "stream",
          "text": [
            "\n",
            "\n",
            "  0%|          | 0/45 [00:00<?, ?it/s]\u001b[A\u001b[A\n",
            "\n",
            "100%|██████████| 45/45 [00:00<00:00, 280.84it/s]"
          ],
          "name": "stderr"
        },
        {
          "output_type": "stream",
          "text": [
            "[MoviePy] Done.\n",
            "[MoviePy] Writing video /content/clips/BYlSjcgZl7Y_time_92-94.mp4\n"
          ],
          "name": "stdout"
        },
        {
          "output_type": "stream",
          "text": [
            "\n",
            "\n",
            "\n",
            "  0%|          | 0/60 [00:00<?, ?it/s]\u001b[A\u001b[A\n",
            "\n",
            " 30%|███       | 18/60 [00:00<00:00, 172.75it/s]\u001b[A\u001b[A\n",
            "\n",
            " 55%|█████▌    | 33/60 [00:00<00:00, 163.05it/s]\u001b[A\u001b[A\n",
            "\n",
            " 82%|████████▏ | 49/60 [00:00<00:00, 160.33it/s]\u001b[A\u001b[A\n",
            "\n",
            "100%|██████████| 60/60 [00:00<00:00, 121.20it/s]\n"
          ],
          "name": "stderr"
        },
        {
          "output_type": "stream",
          "text": [
            "[MoviePy] Done.\n",
            "[MoviePy] >>>> Video ready: /content/clips/BYlSjcgZl7Y_time_92-94.mp4 \n",
            "\n",
            "###########################################################\n",
            "prediction: (1, 0.9995943)\n",
            "###########################################################\n",
            "[MoviePy] >>>> Building video /content/clips/BYlSjcgZl7Y_time_94-96.mp4\n",
            "[MoviePy] Writing audio in BYlSjcgZl7Y_time_94-96TEMP_MPY_wvf_snd.mp3\n"
          ],
          "name": "stdout"
        },
        {
          "output_type": "stream",
          "text": [
            "\n",
            "\n",
            "  0%|          | 0/45 [00:00<?, ?it/s]\u001b[A\u001b[A\n",
            "\n",
            "100%|██████████| 45/45 [00:00<00:00, 285.56it/s]"
          ],
          "name": "stderr"
        },
        {
          "output_type": "stream",
          "text": [
            "[MoviePy] Done.\n",
            "[MoviePy] Writing video /content/clips/BYlSjcgZl7Y_time_94-96.mp4\n"
          ],
          "name": "stdout"
        },
        {
          "output_type": "stream",
          "text": [
            "\n",
            "\n",
            "\n",
            "  0%|          | 0/60 [00:00<?, ?it/s]\u001b[A\u001b[A\n",
            "\n",
            " 30%|███       | 18/60 [00:00<00:00, 178.72it/s]\u001b[A\u001b[A\n",
            "\n",
            " 60%|██████    | 36/60 [00:00<00:00, 178.17it/s]\u001b[A\u001b[A\n",
            "\n",
            "100%|██████████| 60/60 [00:00<00:00, 132.52it/s]\n"
          ],
          "name": "stderr"
        },
        {
          "output_type": "stream",
          "text": [
            "[MoviePy] Done.\n",
            "[MoviePy] >>>> Video ready: /content/clips/BYlSjcgZl7Y_time_94-96.mp4 \n",
            "\n",
            "###########################################################\n",
            "prediction: (1, 0.99940383)\n",
            "###########################################################\n",
            "[MoviePy] >>>> Building video /content/clips/BYlSjcgZl7Y_time_96-98.mp4\n",
            "[MoviePy] Writing audio in BYlSjcgZl7Y_time_96-98TEMP_MPY_wvf_snd.mp3\n"
          ],
          "name": "stdout"
        },
        {
          "output_type": "stream",
          "text": [
            "\n",
            "\n",
            "  0%|          | 0/45 [00:00<?, ?it/s]\u001b[A\u001b[A\n",
            "\n",
            "100%|██████████| 45/45 [00:00<00:00, 276.65it/s]"
          ],
          "name": "stderr"
        },
        {
          "output_type": "stream",
          "text": [
            "[MoviePy] Done.\n",
            "[MoviePy] Writing video /content/clips/BYlSjcgZl7Y_time_96-98.mp4\n"
          ],
          "name": "stdout"
        },
        {
          "output_type": "stream",
          "text": [
            "\n",
            "\n",
            "\n",
            "  0%|          | 0/60 [00:00<?, ?it/s]\u001b[A\u001b[A\n",
            "\n",
            " 30%|███       | 18/60 [00:00<00:00, 173.49it/s]\u001b[A\u001b[A\n",
            "\n",
            " 58%|█████▊    | 35/60 [00:00<00:00, 169.46it/s]\u001b[A\u001b[A\n",
            "\n",
            "100%|██████████| 60/60 [00:00<00:00, 121.19it/s]\n"
          ],
          "name": "stderr"
        },
        {
          "output_type": "stream",
          "text": [
            "[MoviePy] Done.\n",
            "[MoviePy] >>>> Video ready: /content/clips/BYlSjcgZl7Y_time_96-98.mp4 \n",
            "\n",
            "###########################################################\n",
            "prediction: (1, 0.9987645)\n",
            "###########################################################\n",
            "[MoviePy] >>>> Building video /content/clips/BYlSjcgZl7Y_time_98-100.mp4\n",
            "[MoviePy] Writing audio in BYlSjcgZl7Y_time_98-100TEMP_MPY_wvf_snd.mp3\n"
          ],
          "name": "stdout"
        },
        {
          "output_type": "stream",
          "text": [
            "\n",
            "\n",
            "  0%|          | 0/45 [00:00<?, ?it/s]\u001b[A\u001b[A\n",
            "\n",
            "100%|██████████| 45/45 [00:00<00:00, 288.63it/s]"
          ],
          "name": "stderr"
        },
        {
          "output_type": "stream",
          "text": [
            "[MoviePy] Done.\n",
            "[MoviePy] Writing video /content/clips/BYlSjcgZl7Y_time_98-100.mp4\n"
          ],
          "name": "stdout"
        },
        {
          "output_type": "stream",
          "text": [
            "\n",
            "\n",
            "\n",
            "  0%|          | 0/60 [00:00<?, ?it/s]\u001b[A\u001b[A\n",
            "\n",
            " 32%|███▏      | 19/60 [00:00<00:00, 189.34it/s]\u001b[A\u001b[A\n",
            "\n",
            " 58%|█████▊    | 35/60 [00:00<00:00, 178.25it/s]\u001b[A\u001b[A\n",
            "\n",
            "100%|██████████| 60/60 [00:00<00:00, 139.31it/s]\n"
          ],
          "name": "stderr"
        },
        {
          "output_type": "stream",
          "text": [
            "[MoviePy] Done.\n",
            "[MoviePy] >>>> Video ready: /content/clips/BYlSjcgZl7Y_time_98-100.mp4 \n",
            "\n",
            "###########################################################\n",
            "prediction: (1, 0.99973077)\n",
            "###########################################################\n",
            "[MoviePy] >>>> Building video /content/clips/BYlSjcgZl7Y_time_100-102.mp4\n",
            "[MoviePy] Writing audio in BYlSjcgZl7Y_time_100-102TEMP_MPY_wvf_snd.mp3\n"
          ],
          "name": "stdout"
        },
        {
          "output_type": "stream",
          "text": [
            "\n",
            "\n",
            "  0%|          | 0/45 [00:00<?, ?it/s]\u001b[A\u001b[A\n",
            "\n",
            "100%|██████████| 45/45 [00:00<00:00, 284.87it/s]"
          ],
          "name": "stderr"
        },
        {
          "output_type": "stream",
          "text": [
            "[MoviePy] Done.\n",
            "[MoviePy] Writing video /content/clips/BYlSjcgZl7Y_time_100-102.mp4\n"
          ],
          "name": "stdout"
        },
        {
          "output_type": "stream",
          "text": [
            "\n",
            "\n",
            "\n",
            "  0%|          | 0/60 [00:00<?, ?it/s]\u001b[A\u001b[A\n",
            "\n",
            " 32%|███▏      | 19/60 [00:00<00:00, 182.24it/s]\u001b[A\u001b[A\n",
            "\n",
            " 62%|██████▏   | 37/60 [00:00<00:00, 179.40it/s]\u001b[A\u001b[A\n",
            "\n",
            "100%|██████████| 60/60 [00:00<00:00, 129.49it/s]\n"
          ],
          "name": "stderr"
        },
        {
          "output_type": "stream",
          "text": [
            "[MoviePy] Done.\n",
            "[MoviePy] >>>> Video ready: /content/clips/BYlSjcgZl7Y_time_100-102.mp4 \n",
            "\n",
            "###########################################################\n",
            "prediction: (1, 0.9996866)\n",
            "###########################################################\n",
            "[MoviePy] >>>> Building video /content/clips/BYlSjcgZl7Y_time_102-104.mp4\n",
            "[MoviePy] Writing audio in BYlSjcgZl7Y_time_102-104TEMP_MPY_wvf_snd.mp3\n"
          ],
          "name": "stdout"
        },
        {
          "output_type": "stream",
          "text": [
            "\n",
            "\n",
            "  0%|          | 0/45 [00:00<?, ?it/s]\u001b[A\u001b[A\n",
            "\n",
            "100%|██████████| 45/45 [00:00<00:00, 292.57it/s]"
          ],
          "name": "stderr"
        },
        {
          "output_type": "stream",
          "text": [
            "[MoviePy] Done.\n",
            "[MoviePy] Writing video /content/clips/BYlSjcgZl7Y_time_102-104.mp4\n"
          ],
          "name": "stdout"
        },
        {
          "output_type": "stream",
          "text": [
            "\n",
            "\n",
            "\n",
            "  0%|          | 0/60 [00:00<?, ?it/s]\u001b[A\u001b[A\n",
            "\n",
            " 25%|██▌       | 15/60 [00:00<00:00, 147.28it/s]\u001b[A\u001b[A\n",
            "\n",
            " 53%|█████▎    | 32/60 [00:00<00:00, 152.73it/s]\u001b[A\u001b[A\n",
            "\n",
            " 80%|████████  | 48/60 [00:00<00:00, 153.40it/s]\u001b[A\u001b[A\n",
            "\n",
            "100%|██████████| 60/60 [00:00<00:00, 121.91it/s]\n"
          ],
          "name": "stderr"
        },
        {
          "output_type": "stream",
          "text": [
            "[MoviePy] Done.\n",
            "[MoviePy] >>>> Video ready: /content/clips/BYlSjcgZl7Y_time_102-104.mp4 \n",
            "\n",
            "###########################################################\n",
            "prediction: (1, 0.99954104)\n",
            "###########################################################\n",
            "[MoviePy] >>>> Building video /content/clips/BYlSjcgZl7Y_time_104-106.mp4\n",
            "[MoviePy] Writing audio in BYlSjcgZl7Y_time_104-106TEMP_MPY_wvf_snd.mp3\n"
          ],
          "name": "stdout"
        },
        {
          "output_type": "stream",
          "text": [
            "\n",
            "\n",
            "  0%|          | 0/45 [00:00<?, ?it/s]\u001b[A\u001b[A\n",
            "\n",
            "100%|██████████| 45/45 [00:00<00:00, 298.79it/s]"
          ],
          "name": "stderr"
        },
        {
          "output_type": "stream",
          "text": [
            "[MoviePy] Done.\n",
            "[MoviePy] Writing video /content/clips/BYlSjcgZl7Y_time_104-106.mp4\n"
          ],
          "name": "stdout"
        },
        {
          "output_type": "stream",
          "text": [
            "\n",
            "\n",
            "\n",
            "  0%|          | 0/60 [00:00<?, ?it/s]\u001b[A\u001b[A\n",
            "\n",
            " 28%|██▊       | 17/60 [00:00<00:00, 167.20it/s]\u001b[A\u001b[A\n",
            "\n",
            " 57%|█████▋    | 34/60 [00:00<00:00, 166.44it/s]\u001b[A\u001b[A\n",
            "\n",
            "100%|██████████| 60/60 [00:00<00:00, 132.89it/s]\n"
          ],
          "name": "stderr"
        },
        {
          "output_type": "stream",
          "text": [
            "[MoviePy] Done.\n",
            "[MoviePy] >>>> Video ready: /content/clips/BYlSjcgZl7Y_time_104-106.mp4 \n",
            "\n",
            "###########################################################\n",
            "prediction: (1, 0.99962306)\n",
            "###########################################################\n",
            "[MoviePy] >>>> Building video /content/clips/BYlSjcgZl7Y_time_106-108.mp4\n",
            "[MoviePy] Writing audio in BYlSjcgZl7Y_time_106-108TEMP_MPY_wvf_snd.mp3\n"
          ],
          "name": "stdout"
        },
        {
          "output_type": "stream",
          "text": [
            "\n",
            "\n",
            "  0%|          | 0/45 [00:00<?, ?it/s]\u001b[A\u001b[A\n",
            "\n",
            "100%|██████████| 45/45 [00:00<00:00, 274.38it/s]"
          ],
          "name": "stderr"
        },
        {
          "output_type": "stream",
          "text": [
            "[MoviePy] Done.\n",
            "[MoviePy] Writing video /content/clips/BYlSjcgZl7Y_time_106-108.mp4\n"
          ],
          "name": "stdout"
        },
        {
          "output_type": "stream",
          "text": [
            "\n",
            "\n",
            "\n",
            "  0%|          | 0/60 [00:00<?, ?it/s]\u001b[A\u001b[A\n",
            "\n",
            " 30%|███       | 18/60 [00:00<00:00, 175.78it/s]\u001b[A\u001b[A\n",
            "\n",
            " 58%|█████▊    | 35/60 [00:00<00:00, 173.25it/s]\u001b[A\u001b[A\n",
            "\n",
            "100%|██████████| 60/60 [00:00<00:00, 132.45it/s]\n"
          ],
          "name": "stderr"
        },
        {
          "output_type": "stream",
          "text": [
            "[MoviePy] Done.\n",
            "[MoviePy] >>>> Video ready: /content/clips/BYlSjcgZl7Y_time_106-108.mp4 \n",
            "\n",
            "###########################################################\n",
            "prediction: (1, 0.9995759)\n",
            "###########################################################\n",
            "[MoviePy] >>>> Building video /content/clips/BYlSjcgZl7Y_time_108-110.mp4\n",
            "[MoviePy] Writing audio in BYlSjcgZl7Y_time_108-110TEMP_MPY_wvf_snd.mp3\n"
          ],
          "name": "stdout"
        },
        {
          "output_type": "stream",
          "text": [
            "\n",
            "\n",
            "  0%|          | 0/45 [00:00<?, ?it/s]\u001b[A\u001b[A\n",
            "\n",
            "100%|██████████| 45/45 [00:00<00:00, 287.21it/s]"
          ],
          "name": "stderr"
        },
        {
          "output_type": "stream",
          "text": [
            "[MoviePy] Done.\n",
            "[MoviePy] Writing video /content/clips/BYlSjcgZl7Y_time_108-110.mp4\n"
          ],
          "name": "stdout"
        },
        {
          "output_type": "stream",
          "text": [
            "\n",
            "\n",
            "\n",
            "  0%|          | 0/60 [00:00<?, ?it/s]\u001b[A\u001b[A\n",
            "\n",
            " 28%|██▊       | 17/60 [00:00<00:00, 156.84it/s]\u001b[A\u001b[A\n",
            "\n",
            " 57%|█████▋    | 34/60 [00:00<00:00, 159.72it/s]\u001b[A\u001b[A\n",
            "\n",
            "100%|██████████| 60/60 [00:00<00:00, 134.25it/s]\n"
          ],
          "name": "stderr"
        },
        {
          "output_type": "stream",
          "text": [
            "[MoviePy] Done.\n",
            "[MoviePy] >>>> Video ready: /content/clips/BYlSjcgZl7Y_time_108-110.mp4 \n",
            "\n",
            "###########################################################\n",
            "prediction: (1, 0.99964833)\n",
            "###########################################################\n",
            "[MoviePy] >>>> Building video /content/clips/BYlSjcgZl7Y_time_110-112.mp4\n",
            "[MoviePy] Writing audio in BYlSjcgZl7Y_time_110-112TEMP_MPY_wvf_snd.mp3\n"
          ],
          "name": "stdout"
        },
        {
          "output_type": "stream",
          "text": [
            "\n",
            "\n",
            "  0%|          | 0/45 [00:00<?, ?it/s]\u001b[A\u001b[A\n",
            "\n",
            "100%|██████████| 45/45 [00:00<00:00, 281.84it/s]"
          ],
          "name": "stderr"
        },
        {
          "output_type": "stream",
          "text": [
            "[MoviePy] Done.\n",
            "[MoviePy] Writing video /content/clips/BYlSjcgZl7Y_time_110-112.mp4\n"
          ],
          "name": "stdout"
        },
        {
          "output_type": "stream",
          "text": [
            "\n",
            "\n",
            "\n",
            "  0%|          | 0/60 [00:00<?, ?it/s]\u001b[A\u001b[A\n",
            "\n",
            " 27%|██▋       | 16/60 [00:00<00:00, 159.57it/s]\u001b[A\u001b[A\n",
            "\n",
            " 57%|█████▋    | 34/60 [00:00<00:00, 164.63it/s]\u001b[A\u001b[A\n",
            "\n",
            "100%|██████████| 60/60 [00:00<00:00, 134.10it/s]\n"
          ],
          "name": "stderr"
        },
        {
          "output_type": "stream",
          "text": [
            "[MoviePy] Done.\n",
            "[MoviePy] >>>> Video ready: /content/clips/BYlSjcgZl7Y_time_110-112.mp4 \n",
            "\n",
            "###########################################################\n",
            "prediction: (1, 0.99971443)\n",
            "###########################################################\n",
            "[MoviePy] >>>> Building video /content/clips/BYlSjcgZl7Y_time_112-114.mp4\n",
            "[MoviePy] Writing audio in BYlSjcgZl7Y_time_112-114TEMP_MPY_wvf_snd.mp3\n"
          ],
          "name": "stdout"
        },
        {
          "output_type": "stream",
          "text": [
            "\n",
            "\n",
            "  0%|          | 0/45 [00:00<?, ?it/s]\u001b[A\u001b[A\n",
            "\n",
            "100%|██████████| 45/45 [00:00<00:00, 284.34it/s]"
          ],
          "name": "stderr"
        },
        {
          "output_type": "stream",
          "text": [
            "[MoviePy] Done.\n",
            "[MoviePy] Writing video /content/clips/BYlSjcgZl7Y_time_112-114.mp4\n"
          ],
          "name": "stdout"
        },
        {
          "output_type": "stream",
          "text": [
            "\n",
            "\n",
            "\n",
            "  0%|          | 0/60 [00:00<?, ?it/s]\u001b[A\u001b[A\n",
            "\n",
            " 28%|██▊       | 17/60 [00:00<00:00, 166.40it/s]\u001b[A\u001b[A\n",
            "\n",
            " 58%|█████▊    | 35/60 [00:00<00:00, 168.14it/s]\u001b[A\u001b[A\n",
            "\n",
            " 80%|████████  | 48/60 [00:00<00:00, 151.16it/s]\u001b[A\u001b[A\n",
            "\n",
            "100%|██████████| 60/60 [00:00<00:00, 117.74it/s]\n"
          ],
          "name": "stderr"
        },
        {
          "output_type": "stream",
          "text": [
            "[MoviePy] Done.\n",
            "[MoviePy] >>>> Video ready: /content/clips/BYlSjcgZl7Y_time_112-114.mp4 \n",
            "\n",
            "###########################################################\n",
            "prediction: (1, 0.9997019)\n",
            "###########################################################\n",
            "[MoviePy] >>>> Building video /content/clips/BYlSjcgZl7Y_time_114-116.mp4\n",
            "[MoviePy] Writing audio in BYlSjcgZl7Y_time_114-116TEMP_MPY_wvf_snd.mp3\n"
          ],
          "name": "stdout"
        },
        {
          "output_type": "stream",
          "text": [
            "\n",
            "\n",
            "  0%|          | 0/45 [00:00<?, ?it/s]\u001b[A\u001b[A\n",
            "\n",
            "100%|██████████| 45/45 [00:00<00:00, 272.23it/s]"
          ],
          "name": "stderr"
        },
        {
          "output_type": "stream",
          "text": [
            "[MoviePy] Done.\n",
            "[MoviePy] Writing video /content/clips/BYlSjcgZl7Y_time_114-116.mp4\n"
          ],
          "name": "stdout"
        },
        {
          "output_type": "stream",
          "text": [
            "\n",
            "\n",
            "\n",
            "  0%|          | 0/60 [00:00<?, ?it/s]\u001b[A\u001b[A\n",
            "\n",
            " 30%|███       | 18/60 [00:00<00:00, 172.62it/s]\u001b[A\u001b[A\n",
            "\n",
            " 58%|█████▊    | 35/60 [00:00<00:00, 170.14it/s]\u001b[A\u001b[A\n",
            "\n",
            " 82%|████████▏ | 49/60 [00:00<00:00, 158.94it/s]\u001b[A\u001b[A\n",
            "\n",
            "100%|██████████| 60/60 [00:00<00:00, 126.11it/s]\n"
          ],
          "name": "stderr"
        },
        {
          "output_type": "stream",
          "text": [
            "[MoviePy] Done.\n",
            "[MoviePy] >>>> Video ready: /content/clips/BYlSjcgZl7Y_time_114-116.mp4 \n",
            "\n",
            "###########################################################\n",
            "prediction: (1, 0.9997708)\n",
            "###########################################################\n",
            "[MoviePy] >>>> Building video /content/clips/BYlSjcgZl7Y_time_116-118.mp4\n",
            "[MoviePy] Writing audio in BYlSjcgZl7Y_time_116-118TEMP_MPY_wvf_snd.mp3\n"
          ],
          "name": "stdout"
        },
        {
          "output_type": "stream",
          "text": [
            "\n",
            "\n",
            "  0%|          | 0/45 [00:00<?, ?it/s]\u001b[A\u001b[A\n",
            "\n",
            "100%|██████████| 45/45 [00:00<00:00, 291.68it/s]"
          ],
          "name": "stderr"
        },
        {
          "output_type": "stream",
          "text": [
            "[MoviePy] Done.\n",
            "[MoviePy] Writing video /content/clips/BYlSjcgZl7Y_time_116-118.mp4\n"
          ],
          "name": "stdout"
        },
        {
          "output_type": "stream",
          "text": [
            "\n",
            "\n",
            "\n",
            "  0%|          | 0/60 [00:00<?, ?it/s]\u001b[A\u001b[A\n",
            "\n",
            " 28%|██▊       | 17/60 [00:00<00:00, 160.27it/s]\u001b[A\u001b[A\n",
            "\n",
            " 58%|█████▊    | 35/60 [00:00<00:00, 164.79it/s]\u001b[A\u001b[A\n",
            "\n",
            "100%|██████████| 60/60 [00:00<00:00, 123.69it/s]\n"
          ],
          "name": "stderr"
        },
        {
          "output_type": "stream",
          "text": [
            "[MoviePy] Done.\n",
            "[MoviePy] >>>> Video ready: /content/clips/BYlSjcgZl7Y_time_116-118.mp4 \n",
            "\n",
            "###########################################################\n",
            "prediction: (1, 0.99954337)\n",
            "###########################################################\n",
            "[MoviePy] >>>> Building video /content/clips/BYlSjcgZl7Y_time_118-120.mp4\n",
            "[MoviePy] Writing audio in BYlSjcgZl7Y_time_118-120TEMP_MPY_wvf_snd.mp3\n"
          ],
          "name": "stdout"
        },
        {
          "output_type": "stream",
          "text": [
            "\n",
            "\n",
            "  0%|          | 0/45 [00:00<?, ?it/s]\u001b[A\u001b[A\n",
            "\n",
            "100%|██████████| 45/45 [00:00<00:00, 288.56it/s]"
          ],
          "name": "stderr"
        },
        {
          "output_type": "stream",
          "text": [
            "[MoviePy] Done.\n",
            "[MoviePy] Writing video /content/clips/BYlSjcgZl7Y_time_118-120.mp4\n"
          ],
          "name": "stdout"
        },
        {
          "output_type": "stream",
          "text": [
            "\n",
            "\n",
            "\n",
            "  0%|          | 0/60 [00:00<?, ?it/s]\u001b[A\u001b[A\n",
            "\n",
            " 27%|██▋       | 16/60 [00:00<00:00, 155.12it/s]\u001b[A\u001b[A\n",
            "\n",
            " 57%|█████▋    | 34/60 [00:00<00:00, 161.44it/s]\u001b[A\u001b[A\n",
            "\n",
            "100%|██████████| 60/60 [00:00<00:00, 132.64it/s]\n"
          ],
          "name": "stderr"
        },
        {
          "output_type": "stream",
          "text": [
            "[MoviePy] Done.\n",
            "[MoviePy] >>>> Video ready: /content/clips/BYlSjcgZl7Y_time_118-120.mp4 \n",
            "\n",
            "###########################################################\n",
            "prediction: (1, 0.9997999)\n",
            "###########################################################\n",
            "[MoviePy] >>>> Building video /content/clips/BYlSjcgZl7Y_time_120-122.mp4\n",
            "[MoviePy] Writing audio in BYlSjcgZl7Y_time_120-122TEMP_MPY_wvf_snd.mp3\n"
          ],
          "name": "stdout"
        },
        {
          "output_type": "stream",
          "text": [
            "\n",
            "\n",
            "  0%|          | 0/45 [00:00<?, ?it/s]\u001b[A\u001b[A\n",
            "\n",
            "100%|██████████| 45/45 [00:00<00:00, 292.14it/s]"
          ],
          "name": "stderr"
        },
        {
          "output_type": "stream",
          "text": [
            "[MoviePy] Done.\n",
            "[MoviePy] Writing video /content/clips/BYlSjcgZl7Y_time_120-122.mp4\n"
          ],
          "name": "stdout"
        },
        {
          "output_type": "stream",
          "text": [
            "\n",
            "\n",
            "\n",
            "  0%|          | 0/60 [00:00<?, ?it/s]\u001b[A\u001b[A\n",
            "\n",
            " 28%|██▊       | 17/60 [00:00<00:00, 168.94it/s]\u001b[A\u001b[A\n",
            "\n",
            " 62%|██████▏   | 37/60 [00:00<00:00, 174.83it/s]\u001b[A\u001b[A\n",
            "\n",
            "100%|██████████| 60/60 [00:00<00:00, 133.77it/s]\n"
          ],
          "name": "stderr"
        },
        {
          "output_type": "stream",
          "text": [
            "[MoviePy] Done.\n",
            "[MoviePy] >>>> Video ready: /content/clips/BYlSjcgZl7Y_time_120-122.mp4 \n",
            "\n",
            "###########################################################\n",
            "prediction: (1, 0.99929845)\n",
            "###########################################################\n",
            "[MoviePy] >>>> Building video /content/clips/BYlSjcgZl7Y_time_122-124.mp4\n",
            "[MoviePy] Writing audio in BYlSjcgZl7Y_time_122-124TEMP_MPY_wvf_snd.mp3\n"
          ],
          "name": "stdout"
        },
        {
          "output_type": "stream",
          "text": [
            "\n",
            "\n",
            "  0%|          | 0/45 [00:00<?, ?it/s]\u001b[A\u001b[A\n",
            "\n",
            "100%|██████████| 45/45 [00:00<00:00, 247.40it/s]"
          ],
          "name": "stderr"
        },
        {
          "output_type": "stream",
          "text": [
            "[MoviePy] Done.\n"
          ],
          "name": "stdout"
        },
        {
          "output_type": "stream",
          "text": [
            "\n"
          ],
          "name": "stderr"
        },
        {
          "output_type": "stream",
          "text": [
            "[MoviePy] Writing video /content/clips/BYlSjcgZl7Y_time_122-124.mp4\n"
          ],
          "name": "stdout"
        },
        {
          "output_type": "stream",
          "text": [
            "\n",
            "\n",
            "  0%|          | 0/60 [00:00<?, ?it/s]\u001b[A\u001b[A\n",
            "\n",
            " 30%|███       | 18/60 [00:00<00:00, 178.15it/s]\u001b[A\u001b[A\n",
            "\n",
            " 58%|█████▊    | 35/60 [00:00<00:00, 174.74it/s]\u001b[A\u001b[A\n",
            "\n",
            " 80%|████████  | 48/60 [00:00<00:00, 157.42it/s]\u001b[A\u001b[A\n",
            "\n",
            "100%|██████████| 60/60 [00:00<00:00, 127.20it/s]\n"
          ],
          "name": "stderr"
        },
        {
          "output_type": "stream",
          "text": [
            "[MoviePy] Done.\n",
            "[MoviePy] >>>> Video ready: /content/clips/BYlSjcgZl7Y_time_122-124.mp4 \n",
            "\n",
            "###########################################################\n",
            "prediction: (1, 0.99952936)\n",
            "###########################################################\n",
            "[MoviePy] >>>> Building video /content/clips/BYlSjcgZl7Y_time_124-126.mp4\n",
            "[MoviePy] Writing audio in BYlSjcgZl7Y_time_124-126TEMP_MPY_wvf_snd.mp3\n"
          ],
          "name": "stdout"
        },
        {
          "output_type": "stream",
          "text": [
            "\n",
            "\n",
            "  0%|          | 0/45 [00:00<?, ?it/s]\u001b[A\u001b[A\n",
            "\n",
            "100%|██████████| 45/45 [00:00<00:00, 266.55it/s]"
          ],
          "name": "stderr"
        },
        {
          "output_type": "stream",
          "text": [
            "[MoviePy] Done.\n",
            "[MoviePy] Writing video /content/clips/BYlSjcgZl7Y_time_124-126.mp4\n"
          ],
          "name": "stdout"
        },
        {
          "output_type": "stream",
          "text": [
            "\n",
            "\n",
            "\n",
            "  0%|          | 0/60 [00:00<?, ?it/s]\u001b[A\u001b[A\n",
            "\n",
            " 27%|██▋       | 16/60 [00:00<00:00, 156.42it/s]\u001b[A\u001b[A\n",
            "\n",
            " 53%|█████▎    | 32/60 [00:00<00:00, 157.41it/s]\u001b[A\u001b[A\n",
            "\n",
            " 80%|████████  | 48/60 [00:00<00:00, 157.55it/s]\u001b[A\u001b[A\n",
            "\n",
            "100%|██████████| 60/60 [00:00<00:00, 125.40it/s]\n"
          ],
          "name": "stderr"
        },
        {
          "output_type": "stream",
          "text": [
            "[MoviePy] Done.\n",
            "[MoviePy] >>>> Video ready: /content/clips/BYlSjcgZl7Y_time_124-126.mp4 \n",
            "\n",
            "###########################################################\n",
            "prediction: (1, 0.9996791)\n",
            "###########################################################\n",
            "[MoviePy] >>>> Building video /content/clips/BYlSjcgZl7Y_time_126-128.mp4\n",
            "[MoviePy] Writing audio in BYlSjcgZl7Y_time_126-128TEMP_MPY_wvf_snd.mp3\n"
          ],
          "name": "stdout"
        },
        {
          "output_type": "stream",
          "text": [
            "\n",
            "\n",
            "  0%|          | 0/45 [00:00<?, ?it/s]\u001b[A\u001b[A\n",
            "\n",
            "100%|██████████| 45/45 [00:00<00:00, 290.68it/s]"
          ],
          "name": "stderr"
        },
        {
          "output_type": "stream",
          "text": [
            "[MoviePy] Done.\n",
            "[MoviePy] Writing video /content/clips/BYlSjcgZl7Y_time_126-128.mp4\n"
          ],
          "name": "stdout"
        },
        {
          "output_type": "stream",
          "text": [
            "\n",
            "\n",
            "\n",
            "  0%|          | 0/60 [00:00<?, ?it/s]\u001b[A\u001b[A\n",
            "\n",
            " 32%|███▏      | 19/60 [00:00<00:00, 183.53it/s]\u001b[A\u001b[A\n",
            "\n",
            " 60%|██████    | 36/60 [00:00<00:00, 178.60it/s]\u001b[A\u001b[A\n",
            "\n",
            "100%|██████████| 60/60 [00:00<00:00, 131.51it/s]\n"
          ],
          "name": "stderr"
        },
        {
          "output_type": "stream",
          "text": [
            "[MoviePy] Done.\n",
            "[MoviePy] >>>> Video ready: /content/clips/BYlSjcgZl7Y_time_126-128.mp4 \n",
            "\n",
            "###########################################################\n",
            "prediction: (1, 0.9995066)\n",
            "###########################################################\n",
            "[MoviePy] >>>> Building video /content/clips/BYlSjcgZl7Y_time_128-130.mp4\n",
            "[MoviePy] Writing audio in BYlSjcgZl7Y_time_128-130TEMP_MPY_wvf_snd.mp3\n"
          ],
          "name": "stdout"
        },
        {
          "output_type": "stream",
          "text": [
            "\n",
            "\n",
            "  0%|          | 0/45 [00:00<?, ?it/s]\u001b[A\u001b[A\n",
            "\n",
            "100%|██████████| 45/45 [00:00<00:00, 280.47it/s]"
          ],
          "name": "stderr"
        },
        {
          "output_type": "stream",
          "text": [
            "[MoviePy] Done.\n",
            "[MoviePy] Writing video /content/clips/BYlSjcgZl7Y_time_128-130.mp4\n"
          ],
          "name": "stdout"
        },
        {
          "output_type": "stream",
          "text": [
            "\n",
            "\n",
            "\n",
            "  0%|          | 0/60 [00:00<?, ?it/s]\u001b[A\u001b[A\n",
            "\n",
            " 25%|██▌       | 15/60 [00:00<00:00, 145.81it/s]\u001b[A\u001b[A\n",
            "\n",
            " 53%|█████▎    | 32/60 [00:00<00:00, 152.11it/s]\u001b[A\u001b[A\n",
            "\n",
            " 80%|████████  | 48/60 [00:00<00:00, 154.02it/s]\u001b[A\u001b[A\n",
            "\n",
            "100%|██████████| 60/60 [00:00<00:00, 128.16it/s]\n"
          ],
          "name": "stderr"
        },
        {
          "output_type": "stream",
          "text": [
            "[MoviePy] Done.\n",
            "[MoviePy] >>>> Video ready: /content/clips/BYlSjcgZl7Y_time_128-130.mp4 \n",
            "\n",
            "###########################################################\n",
            "prediction: (1, 0.99936694)\n",
            "###########################################################\n",
            "[MoviePy] >>>> Building video /content/clips/BYlSjcgZl7Y_time_130-132.mp4\n",
            "[MoviePy] Writing audio in BYlSjcgZl7Y_time_130-132TEMP_MPY_wvf_snd.mp3\n"
          ],
          "name": "stdout"
        },
        {
          "output_type": "stream",
          "text": [
            "\n",
            "\n",
            "  0%|          | 0/45 [00:00<?, ?it/s]\u001b[A\u001b[A\n",
            "\n",
            "100%|██████████| 45/45 [00:00<00:00, 281.99it/s]"
          ],
          "name": "stderr"
        },
        {
          "output_type": "stream",
          "text": [
            "[MoviePy] Done.\n",
            "[MoviePy] Writing video /content/clips/BYlSjcgZl7Y_time_130-132.mp4\n"
          ],
          "name": "stdout"
        },
        {
          "output_type": "stream",
          "text": [
            "\n",
            "\n",
            "\n",
            "  0%|          | 0/60 [00:00<?, ?it/s]\u001b[A\u001b[A\n",
            "\n",
            " 28%|██▊       | 17/60 [00:00<00:00, 163.27it/s]\u001b[A\u001b[A\n",
            "\n",
            " 55%|█████▌    | 33/60 [00:00<00:00, 161.30it/s]\u001b[A\u001b[A\n",
            "\n",
            " 82%|████████▏ | 49/60 [00:00<00:00, 160.47it/s]\u001b[A\u001b[A\n",
            "\n",
            "100%|██████████| 60/60 [00:00<00:00, 119.43it/s]\n"
          ],
          "name": "stderr"
        },
        {
          "output_type": "stream",
          "text": [
            "[MoviePy] Done.\n",
            "[MoviePy] >>>> Video ready: /content/clips/BYlSjcgZl7Y_time_130-132.mp4 \n",
            "\n",
            "###########################################################\n",
            "prediction: (1, 0.9993309)\n",
            "###########################################################\n",
            "[MoviePy] >>>> Building video /content/clips/BYlSjcgZl7Y_time_132-134.mp4\n",
            "[MoviePy] Writing audio in BYlSjcgZl7Y_time_132-134TEMP_MPY_wvf_snd.mp3\n"
          ],
          "name": "stdout"
        },
        {
          "output_type": "stream",
          "text": [
            "\n",
            "\n",
            "  0%|          | 0/45 [00:00<?, ?it/s]\u001b[A\u001b[A\n",
            "\n",
            "100%|██████████| 45/45 [00:00<00:00, 279.58it/s]"
          ],
          "name": "stderr"
        },
        {
          "output_type": "stream",
          "text": [
            "[MoviePy] Done.\n",
            "[MoviePy] Writing video /content/clips/BYlSjcgZl7Y_time_132-134.mp4\n"
          ],
          "name": "stdout"
        },
        {
          "output_type": "stream",
          "text": [
            "\n",
            "\n",
            "\n",
            "  0%|          | 0/60 [00:00<?, ?it/s]\u001b[A\u001b[A\n",
            "\n",
            " 30%|███       | 18/60 [00:00<00:00, 178.02it/s]\u001b[A\u001b[A\n",
            "\n",
            " 58%|█████▊    | 35/60 [00:00<00:00, 173.72it/s]\u001b[A\u001b[A\n",
            "\n",
            " 82%|████████▏ | 49/60 [00:00<00:00, 159.72it/s]\u001b[A\u001b[A\n",
            "\n",
            "100%|██████████| 60/60 [00:00<00:00, 128.03it/s]\n"
          ],
          "name": "stderr"
        },
        {
          "output_type": "stream",
          "text": [
            "[MoviePy] Done.\n",
            "[MoviePy] >>>> Video ready: /content/clips/BYlSjcgZl7Y_time_132-134.mp4 \n",
            "\n",
            "###########################################################\n",
            "prediction: (1, 0.99966276)\n",
            "###########################################################\n",
            "[MoviePy] >>>> Building video /content/clips/BYlSjcgZl7Y_time_134-136.mp4\n",
            "[MoviePy] Writing audio in BYlSjcgZl7Y_time_134-136TEMP_MPY_wvf_snd.mp3\n"
          ],
          "name": "stdout"
        },
        {
          "output_type": "stream",
          "text": [
            "\n",
            "\n",
            "  0%|          | 0/45 [00:00<?, ?it/s]\u001b[A\u001b[A\n",
            "\n",
            "100%|██████████| 45/45 [00:00<00:00, 273.77it/s]"
          ],
          "name": "stderr"
        },
        {
          "output_type": "stream",
          "text": [
            "[MoviePy] Done.\n",
            "[MoviePy] Writing video /content/clips/BYlSjcgZl7Y_time_134-136.mp4\n"
          ],
          "name": "stdout"
        },
        {
          "output_type": "stream",
          "text": [
            "\n",
            "\n",
            "\n",
            "  0%|          | 0/60 [00:00<?, ?it/s]\u001b[A\u001b[A\n",
            "\n",
            " 30%|███       | 18/60 [00:00<00:00, 175.15it/s]\u001b[A\u001b[A\n",
            "\n",
            " 57%|█████▋    | 34/60 [00:00<00:00, 169.09it/s]\u001b[A\u001b[A\n",
            "\n",
            "100%|██████████| 60/60 [00:00<00:00, 131.52it/s]\n"
          ],
          "name": "stderr"
        },
        {
          "output_type": "stream",
          "text": [
            "[MoviePy] Done.\n",
            "[MoviePy] >>>> Video ready: /content/clips/BYlSjcgZl7Y_time_134-136.mp4 \n",
            "\n",
            "###########################################################\n",
            "prediction: (1, 0.99962914)\n",
            "###########################################################\n",
            "[MoviePy] >>>> Building video /content/clips/BYlSjcgZl7Y_time_136-138.mp4\n",
            "[MoviePy] Writing audio in BYlSjcgZl7Y_time_136-138TEMP_MPY_wvf_snd.mp3\n"
          ],
          "name": "stdout"
        },
        {
          "output_type": "stream",
          "text": [
            "\n",
            "\n",
            "  0%|          | 0/45 [00:00<?, ?it/s]\u001b[A\u001b[A\n",
            "\n",
            "100%|██████████| 45/45 [00:00<00:00, 286.45it/s]"
          ],
          "name": "stderr"
        },
        {
          "output_type": "stream",
          "text": [
            "[MoviePy] Done.\n",
            "[MoviePy] Writing video /content/clips/BYlSjcgZl7Y_time_136-138.mp4\n"
          ],
          "name": "stdout"
        },
        {
          "output_type": "stream",
          "text": [
            "\n",
            "\n",
            "\n",
            "  0%|          | 0/60 [00:00<?, ?it/s]\u001b[A\u001b[A\n",
            "\n",
            " 28%|██▊       | 17/60 [00:00<00:00, 162.26it/s]\u001b[A\u001b[A\n",
            "\n",
            " 55%|█████▌    | 33/60 [00:00<00:00, 159.87it/s]\u001b[A\u001b[A\n",
            "\n",
            " 82%|████████▏ | 49/60 [00:00<00:00, 158.16it/s]\u001b[A\u001b[A\n",
            "\n",
            "100%|██████████| 60/60 [00:00<00:00, 129.26it/s]\n"
          ],
          "name": "stderr"
        },
        {
          "output_type": "stream",
          "text": [
            "[MoviePy] Done.\n",
            "[MoviePy] >>>> Video ready: /content/clips/BYlSjcgZl7Y_time_136-138.mp4 \n",
            "\n",
            "###########################################################\n",
            "prediction: (1, 0.9994968)\n",
            "###########################################################\n",
            "[MoviePy] >>>> Building video /content/clips/BYlSjcgZl7Y_time_138-140.mp4\n",
            "[MoviePy] Writing audio in BYlSjcgZl7Y_time_138-140TEMP_MPY_wvf_snd.mp3\n"
          ],
          "name": "stdout"
        },
        {
          "output_type": "stream",
          "text": [
            "\n",
            "\n",
            "  0%|          | 0/45 [00:00<?, ?it/s]\u001b[A\u001b[A\n",
            "\n",
            "100%|██████████| 45/45 [00:00<00:00, 265.78it/s]"
          ],
          "name": "stderr"
        },
        {
          "output_type": "stream",
          "text": [
            "[MoviePy] Done.\n",
            "[MoviePy] Writing video /content/clips/BYlSjcgZl7Y_time_138-140.mp4\n"
          ],
          "name": "stdout"
        },
        {
          "output_type": "stream",
          "text": [
            "\n",
            "\n",
            "\n",
            "  0%|          | 0/60 [00:00<?, ?it/s]\u001b[A\u001b[A\n",
            "\n",
            " 30%|███       | 18/60 [00:00<00:00, 173.60it/s]\u001b[A\u001b[A\n",
            "\n",
            " 60%|██████    | 36/60 [00:00<00:00, 174.14it/s]\u001b[A\u001b[A\n",
            "\n",
            "100%|██████████| 60/60 [00:00<00:00, 132.18it/s]\n"
          ],
          "name": "stderr"
        },
        {
          "output_type": "stream",
          "text": [
            "[MoviePy] Done.\n",
            "[MoviePy] >>>> Video ready: /content/clips/BYlSjcgZl7Y_time_138-140.mp4 \n",
            "\n",
            "###########################################################\n",
            "prediction: (1, 0.99947137)\n",
            "###########################################################\n",
            "[MoviePy] >>>> Building video /content/clips/BYlSjcgZl7Y_time_140-142.mp4\n",
            "[MoviePy] Writing audio in BYlSjcgZl7Y_time_140-142TEMP_MPY_wvf_snd.mp3\n"
          ],
          "name": "stdout"
        },
        {
          "output_type": "stream",
          "text": [
            "\n",
            "\n",
            "  0%|          | 0/45 [00:00<?, ?it/s]\u001b[A\u001b[A\n",
            "\n",
            "100%|██████████| 45/45 [00:00<00:00, 263.14it/s]"
          ],
          "name": "stderr"
        },
        {
          "output_type": "stream",
          "text": [
            "[MoviePy] Done.\n",
            "[MoviePy] Writing video /content/clips/BYlSjcgZl7Y_time_140-142.mp4\n"
          ],
          "name": "stdout"
        },
        {
          "output_type": "stream",
          "text": [
            "\n",
            "\n",
            "\n",
            "  0%|          | 0/60 [00:00<?, ?it/s]\u001b[A\u001b[A\n",
            "\n",
            " 30%|███       | 18/60 [00:00<00:00, 175.29it/s]\u001b[A\u001b[A\n",
            "\n",
            " 60%|██████    | 36/60 [00:00<00:00, 175.27it/s]\u001b[A\u001b[A\n",
            "\n",
            "100%|██████████| 60/60 [00:00<00:00, 131.20it/s]\n"
          ],
          "name": "stderr"
        },
        {
          "output_type": "stream",
          "text": [
            "[MoviePy] Done.\n",
            "[MoviePy] >>>> Video ready: /content/clips/BYlSjcgZl7Y_time_140-142.mp4 \n",
            "\n",
            "###########################################################\n",
            "prediction: (1, 0.999539)\n",
            "###########################################################\n",
            "[MoviePy] >>>> Building video /content/clips/BYlSjcgZl7Y_time_142-144.mp4\n",
            "[MoviePy] Writing audio in BYlSjcgZl7Y_time_142-144TEMP_MPY_wvf_snd.mp3\n"
          ],
          "name": "stdout"
        },
        {
          "output_type": "stream",
          "text": [
            "\n",
            "\n",
            "  0%|          | 0/45 [00:00<?, ?it/s]\u001b[A\u001b[A\n",
            "\n",
            "100%|██████████| 45/45 [00:00<00:00, 261.63it/s]"
          ],
          "name": "stderr"
        },
        {
          "output_type": "stream",
          "text": [
            "[MoviePy] Done.\n",
            "[MoviePy] Writing video /content/clips/BYlSjcgZl7Y_time_142-144.mp4\n"
          ],
          "name": "stdout"
        },
        {
          "output_type": "stream",
          "text": [
            "\n",
            "\n",
            "\n",
            "  0%|          | 0/60 [00:00<?, ?it/s]\u001b[A\u001b[A\n",
            "\n",
            " 30%|███       | 18/60 [00:00<00:00, 178.78it/s]\u001b[A\u001b[A\n",
            "\n",
            " 60%|██████    | 36/60 [00:00<00:00, 178.61it/s]\u001b[A\u001b[A\n",
            "\n",
            "100%|██████████| 60/60 [00:00<00:00, 129.00it/s]\n"
          ],
          "name": "stderr"
        },
        {
          "output_type": "stream",
          "text": [
            "[MoviePy] Done.\n",
            "[MoviePy] >>>> Video ready: /content/clips/BYlSjcgZl7Y_time_142-144.mp4 \n",
            "\n",
            "###########################################################\n",
            "prediction: (1, 0.9995845)\n",
            "###########################################################\n",
            "[MoviePy] >>>> Building video /content/clips/BYlSjcgZl7Y_time_144-146.mp4\n",
            "[MoviePy] Writing audio in BYlSjcgZl7Y_time_144-146TEMP_MPY_wvf_snd.mp3\n"
          ],
          "name": "stdout"
        },
        {
          "output_type": "stream",
          "text": [
            "\n",
            "\n",
            "  0%|          | 0/45 [00:00<?, ?it/s]\u001b[A\u001b[A\n",
            "\n",
            "100%|██████████| 45/45 [00:00<00:00, 294.60it/s]"
          ],
          "name": "stderr"
        },
        {
          "output_type": "stream",
          "text": [
            "[MoviePy] Done.\n",
            "[MoviePy] Writing video /content/clips/BYlSjcgZl7Y_time_144-146.mp4\n"
          ],
          "name": "stdout"
        },
        {
          "output_type": "stream",
          "text": [
            "\n",
            "\n",
            "\n",
            "  0%|          | 0/60 [00:00<?, ?it/s]\u001b[A\u001b[A\n",
            "\n",
            " 33%|███▎      | 20/60 [00:00<00:00, 194.80it/s]\u001b[A\u001b[A\n",
            "\n",
            " 63%|██████▎   | 38/60 [00:00<00:00, 189.76it/s]\u001b[A\u001b[A\n",
            "\n",
            "100%|██████████| 60/60 [00:00<00:00, 134.93it/s]\n"
          ],
          "name": "stderr"
        },
        {
          "output_type": "stream",
          "text": [
            "[MoviePy] Done.\n",
            "[MoviePy] >>>> Video ready: /content/clips/BYlSjcgZl7Y_time_144-146.mp4 \n",
            "\n",
            "###########################################################\n",
            "prediction: (1, 0.9996172)\n",
            "###########################################################\n",
            "[MoviePy] >>>> Building video /content/clips/BYlSjcgZl7Y_time_146-148.mp4\n",
            "[MoviePy] Writing audio in BYlSjcgZl7Y_time_146-148TEMP_MPY_wvf_snd.mp3\n"
          ],
          "name": "stdout"
        },
        {
          "output_type": "stream",
          "text": [
            "\n",
            "\n",
            "  0%|          | 0/45 [00:00<?, ?it/s]\u001b[A\u001b[A\n",
            "\n",
            "100%|██████████| 45/45 [00:00<00:00, 256.60it/s]"
          ],
          "name": "stderr"
        },
        {
          "output_type": "stream",
          "text": [
            "[MoviePy] Done.\n",
            "[MoviePy] Writing video /content/clips/BYlSjcgZl7Y_time_146-148.mp4\n"
          ],
          "name": "stdout"
        },
        {
          "output_type": "stream",
          "text": [
            "\n",
            "\n",
            "\n",
            "  0%|          | 0/60 [00:00<?, ?it/s]\u001b[A\u001b[A\n",
            "\n",
            " 32%|███▏      | 19/60 [00:00<00:00, 187.99it/s]\u001b[A\u001b[A\n",
            "\n",
            " 62%|██████▏   | 37/60 [00:00<00:00, 183.81it/s]\u001b[A\u001b[A\n",
            "\n",
            "100%|██████████| 60/60 [00:00<00:00, 131.77it/s]\n"
          ],
          "name": "stderr"
        },
        {
          "output_type": "stream",
          "text": [
            "[MoviePy] Done.\n",
            "[MoviePy] >>>> Video ready: /content/clips/BYlSjcgZl7Y_time_146-148.mp4 \n",
            "\n",
            "###########################################################\n",
            "prediction: (1, 0.9995085)\n",
            "###########################################################\n",
            "[MoviePy] >>>> Building video /content/clips/BYlSjcgZl7Y_time_148-150.mp4\n",
            "[MoviePy] Writing audio in BYlSjcgZl7Y_time_148-150TEMP_MPY_wvf_snd.mp3\n"
          ],
          "name": "stdout"
        },
        {
          "output_type": "stream",
          "text": [
            "\n",
            "\n",
            "  0%|          | 0/45 [00:00<?, ?it/s]\u001b[A\u001b[A\n",
            "\n",
            "100%|██████████| 45/45 [00:00<00:00, 279.91it/s]"
          ],
          "name": "stderr"
        },
        {
          "output_type": "stream",
          "text": [
            "[MoviePy] Done.\n",
            "[MoviePy] Writing video /content/clips/BYlSjcgZl7Y_time_148-150.mp4\n"
          ],
          "name": "stdout"
        },
        {
          "output_type": "stream",
          "text": [
            "\n",
            "\n",
            "\n",
            "  0%|          | 0/60 [00:00<?, ?it/s]\u001b[A\u001b[A\n",
            "\n",
            " 30%|███       | 18/60 [00:00<00:00, 174.99it/s]\u001b[A\u001b[A\n",
            "\n",
            " 58%|█████▊    | 35/60 [00:00<00:00, 172.39it/s]\u001b[A\u001b[A\n",
            "\n",
            "100%|██████████| 60/60 [00:00<00:00, 120.48it/s]\n"
          ],
          "name": "stderr"
        },
        {
          "output_type": "stream",
          "text": [
            "[MoviePy] Done.\n",
            "[MoviePy] >>>> Video ready: /content/clips/BYlSjcgZl7Y_time_148-150.mp4 \n",
            "\n",
            "###########################################################\n",
            "prediction: (1, 0.99936384)\n",
            "###########################################################\n",
            "[MoviePy] >>>> Building video /content/clips/BYlSjcgZl7Y_time_150-152.mp4\n",
            "[MoviePy] Writing audio in BYlSjcgZl7Y_time_150-152TEMP_MPY_wvf_snd.mp3\n"
          ],
          "name": "stdout"
        },
        {
          "output_type": "stream",
          "text": [
            "\n",
            "\n",
            "  0%|          | 0/45 [00:00<?, ?it/s]\u001b[A\u001b[A\n",
            "\n",
            "100%|██████████| 45/45 [00:00<00:00, 285.49it/s]"
          ],
          "name": "stderr"
        },
        {
          "output_type": "stream",
          "text": [
            "[MoviePy] Done.\n",
            "[MoviePy] Writing video /content/clips/BYlSjcgZl7Y_time_150-152.mp4\n"
          ],
          "name": "stdout"
        },
        {
          "output_type": "stream",
          "text": [
            "\n",
            "\n",
            "\n",
            "  0%|          | 0/60 [00:00<?, ?it/s]\u001b[A\u001b[A\n",
            "\n",
            " 30%|███       | 18/60 [00:00<00:00, 179.06it/s]\u001b[A\u001b[A\n",
            "\n",
            " 55%|█████▌    | 33/60 [00:00<00:00, 168.87it/s]\u001b[A\u001b[A\n",
            "\n",
            "100%|██████████| 60/60 [00:00<00:00, 123.00it/s]\n"
          ],
          "name": "stderr"
        },
        {
          "output_type": "stream",
          "text": [
            "[MoviePy] Done.\n",
            "[MoviePy] >>>> Video ready: /content/clips/BYlSjcgZl7Y_time_150-152.mp4 \n",
            "\n",
            "###########################################################\n",
            "prediction: (1, 0.9995876)\n",
            "###########################################################\n",
            "[MoviePy] >>>> Building video /content/clips/BYlSjcgZl7Y_time_152-154.mp4\n",
            "[MoviePy] Writing audio in BYlSjcgZl7Y_time_152-154TEMP_MPY_wvf_snd.mp3\n"
          ],
          "name": "stdout"
        },
        {
          "output_type": "stream",
          "text": [
            "\n",
            "\n",
            "  0%|          | 0/45 [00:00<?, ?it/s]\u001b[A\u001b[A\n",
            "\n",
            "100%|██████████| 45/45 [00:00<00:00, 283.35it/s]"
          ],
          "name": "stderr"
        },
        {
          "output_type": "stream",
          "text": [
            "[MoviePy] Done.\n",
            "[MoviePy] Writing video /content/clips/BYlSjcgZl7Y_time_152-154.mp4\n"
          ],
          "name": "stdout"
        },
        {
          "output_type": "stream",
          "text": [
            "\n",
            "\n",
            "\n",
            "  0%|          | 0/60 [00:00<?, ?it/s]\u001b[A\u001b[A\n",
            "\n",
            " 30%|███       | 18/60 [00:00<00:00, 175.92it/s]\u001b[A\u001b[A\n",
            "\n",
            " 58%|█████▊    | 35/60 [00:00<00:00, 172.29it/s]\u001b[A\u001b[A\n",
            "\n",
            " 80%|████████  | 48/60 [00:00<00:00, 155.98it/s]\u001b[A\u001b[A\n",
            "\n",
            "100%|██████████| 60/60 [00:00<00:00, 127.50it/s]\n"
          ],
          "name": "stderr"
        },
        {
          "output_type": "stream",
          "text": [
            "[MoviePy] Done.\n",
            "[MoviePy] >>>> Video ready: /content/clips/BYlSjcgZl7Y_time_152-154.mp4 \n",
            "\n",
            "###########################################################\n",
            "prediction: (1, 0.999236)\n",
            "###########################################################\n",
            "[MoviePy] >>>> Building video /content/clips/BYlSjcgZl7Y_time_154-156.mp4\n",
            "[MoviePy] Writing audio in BYlSjcgZl7Y_time_154-156TEMP_MPY_wvf_snd.mp3\n"
          ],
          "name": "stdout"
        },
        {
          "output_type": "stream",
          "text": [
            "\n",
            "\n",
            "  0%|          | 0/45 [00:00<?, ?it/s]\u001b[A\u001b[A\n",
            "\n",
            "100%|██████████| 45/45 [00:00<00:00, 254.43it/s]"
          ],
          "name": "stderr"
        },
        {
          "output_type": "stream",
          "text": [
            "[MoviePy] Done.\n",
            "[MoviePy] Writing video /content/clips/BYlSjcgZl7Y_time_154-156.mp4\n"
          ],
          "name": "stdout"
        },
        {
          "output_type": "stream",
          "text": [
            "\n",
            "\n",
            "\n",
            "  0%|          | 0/60 [00:00<?, ?it/s]\u001b[A\u001b[A\n",
            "\n",
            " 30%|███       | 18/60 [00:00<00:00, 175.15it/s]\u001b[A\u001b[A\n",
            "\n",
            " 57%|█████▋    | 34/60 [00:00<00:00, 169.21it/s]\u001b[A\u001b[A\n",
            "\n",
            " 82%|████████▏ | 49/60 [00:00<00:00, 162.23it/s]\u001b[A\u001b[A\n",
            "\n",
            "100%|██████████| 60/60 [00:00<00:00, 127.30it/s]\n"
          ],
          "name": "stderr"
        },
        {
          "output_type": "stream",
          "text": [
            "[MoviePy] Done.\n",
            "[MoviePy] >>>> Video ready: /content/clips/BYlSjcgZl7Y_time_154-156.mp4 \n",
            "\n",
            "###########################################################\n",
            "prediction: (1, 0.99929035)\n",
            "###########################################################\n",
            "[MoviePy] >>>> Building video /content/clips/BYlSjcgZl7Y_time_156-158.mp4\n",
            "[MoviePy] Writing audio in BYlSjcgZl7Y_time_156-158TEMP_MPY_wvf_snd.mp3\n"
          ],
          "name": "stdout"
        },
        {
          "output_type": "stream",
          "text": [
            "\n",
            "\n",
            "  0%|          | 0/45 [00:00<?, ?it/s]\u001b[A\u001b[A\n",
            "\n",
            "100%|██████████| 45/45 [00:00<00:00, 281.26it/s]"
          ],
          "name": "stderr"
        },
        {
          "output_type": "stream",
          "text": [
            "[MoviePy] Done.\n",
            "[MoviePy] Writing video /content/clips/BYlSjcgZl7Y_time_156-158.mp4\n"
          ],
          "name": "stdout"
        },
        {
          "output_type": "stream",
          "text": [
            "\n",
            "\n",
            "\n",
            "  0%|          | 0/60 [00:00<?, ?it/s]\u001b[A\u001b[A\n",
            "\n",
            " 28%|██▊       | 17/60 [00:00<00:00, 165.48it/s]\u001b[A\u001b[A\n",
            "\n",
            " 55%|█████▌    | 33/60 [00:00<00:00, 162.38it/s]\u001b[A\u001b[A\n",
            "\n",
            "100%|██████████| 60/60 [00:00<00:00, 129.76it/s]\n"
          ],
          "name": "stderr"
        },
        {
          "output_type": "stream",
          "text": [
            "[MoviePy] Done.\n",
            "[MoviePy] >>>> Video ready: /content/clips/BYlSjcgZl7Y_time_156-158.mp4 \n",
            "\n",
            "###########################################################\n",
            "prediction: (1, 0.99949026)\n",
            "###########################################################\n",
            "[MoviePy] >>>> Building video /content/clips/BYlSjcgZl7Y_time_158-160.mp4\n",
            "[MoviePy] Writing audio in BYlSjcgZl7Y_time_158-160TEMP_MPY_wvf_snd.mp3\n"
          ],
          "name": "stdout"
        },
        {
          "output_type": "stream",
          "text": [
            "\n",
            "\n",
            "  0%|          | 0/45 [00:00<?, ?it/s]\u001b[A\u001b[A\n",
            "\n",
            "100%|██████████| 45/45 [00:00<00:00, 286.00it/s]"
          ],
          "name": "stderr"
        },
        {
          "output_type": "stream",
          "text": [
            "[MoviePy] Done.\n",
            "[MoviePy] Writing video /content/clips/BYlSjcgZl7Y_time_158-160.mp4\n"
          ],
          "name": "stdout"
        },
        {
          "output_type": "stream",
          "text": [
            "\n",
            "\n",
            "\n",
            "  0%|          | 0/60 [00:00<?, ?it/s]\u001b[A\u001b[A\n",
            "\n",
            " 27%|██▋       | 16/60 [00:00<00:00, 156.14it/s]\u001b[A\u001b[A\n",
            "\n",
            " 58%|█████▊    | 35/60 [00:00<00:00, 163.60it/s]\u001b[A\u001b[A\n",
            "\n",
            "100%|██████████| 60/60 [00:00<00:00, 125.59it/s]\n"
          ],
          "name": "stderr"
        },
        {
          "output_type": "stream",
          "text": [
            "[MoviePy] Done.\n",
            "[MoviePy] >>>> Video ready: /content/clips/BYlSjcgZl7Y_time_158-160.mp4 \n",
            "\n",
            "###########################################################\n",
            "prediction: (1, 0.9996208)\n",
            "###########################################################\n",
            "[MoviePy] >>>> Building video /content/clips/BYlSjcgZl7Y_time_160-162.mp4\n",
            "[MoviePy] Writing audio in BYlSjcgZl7Y_time_160-162TEMP_MPY_wvf_snd.mp3\n"
          ],
          "name": "stdout"
        },
        {
          "output_type": "stream",
          "text": [
            "\n",
            "\n",
            "  0%|          | 0/45 [00:00<?, ?it/s]\u001b[A\u001b[A\n",
            "\n",
            "100%|██████████| 45/45 [00:00<00:00, 285.81it/s]"
          ],
          "name": "stderr"
        },
        {
          "output_type": "stream",
          "text": [
            "[MoviePy] Done.\n",
            "[MoviePy] Writing video /content/clips/BYlSjcgZl7Y_time_160-162.mp4\n"
          ],
          "name": "stdout"
        },
        {
          "output_type": "stream",
          "text": [
            "\n",
            "\n",
            "\n",
            "  0%|          | 0/60 [00:00<?, ?it/s]\u001b[A\u001b[A\n",
            "\n",
            " 32%|███▏      | 19/60 [00:00<00:00, 187.63it/s]\u001b[A\u001b[A\n",
            "\n",
            " 60%|██████    | 36/60 [00:00<00:00, 181.55it/s]\u001b[A\u001b[A\n",
            "\n",
            "100%|██████████| 60/60 [00:00<00:00, 133.95it/s]\n"
          ],
          "name": "stderr"
        },
        {
          "output_type": "stream",
          "text": [
            "[MoviePy] Done.\n",
            "[MoviePy] >>>> Video ready: /content/clips/BYlSjcgZl7Y_time_160-162.mp4 \n",
            "\n",
            "###########################################################\n",
            "prediction: (1, 0.99947757)\n",
            "###########################################################\n",
            "[MoviePy] >>>> Building video /content/clips/BYlSjcgZl7Y_time_162-164.mp4\n",
            "[MoviePy] Writing audio in BYlSjcgZl7Y_time_162-164TEMP_MPY_wvf_snd.mp3\n"
          ],
          "name": "stdout"
        },
        {
          "output_type": "stream",
          "text": [
            "\n",
            "\n",
            "  0%|          | 0/45 [00:00<?, ?it/s]\u001b[A\u001b[A\n",
            "\n",
            "100%|██████████| 45/45 [00:00<00:00, 283.61it/s]"
          ],
          "name": "stderr"
        },
        {
          "output_type": "stream",
          "text": [
            "[MoviePy] Done.\n",
            "[MoviePy] Writing video /content/clips/BYlSjcgZl7Y_time_162-164.mp4\n"
          ],
          "name": "stdout"
        },
        {
          "output_type": "stream",
          "text": [
            "\n",
            "\n",
            "\n",
            "  0%|          | 0/60 [00:00<?, ?it/s]\u001b[A\u001b[A\n",
            "\n",
            " 30%|███       | 18/60 [00:00<00:00, 175.12it/s]\u001b[A\u001b[A\n",
            "\n",
            " 58%|█████▊    | 35/60 [00:00<00:00, 172.35it/s]\u001b[A\u001b[A\n",
            "\n",
            "100%|██████████| 60/60 [00:00<00:00, 124.98it/s]\n"
          ],
          "name": "stderr"
        },
        {
          "output_type": "stream",
          "text": [
            "[MoviePy] Done.\n",
            "[MoviePy] >>>> Video ready: /content/clips/BYlSjcgZl7Y_time_162-164.mp4 \n",
            "\n",
            "###########################################################\n",
            "prediction: (1, 0.9995153)\n",
            "###########################################################\n",
            "[MoviePy] >>>> Building video /content/clips/BYlSjcgZl7Y_time_164-166.mp4\n",
            "[MoviePy] Writing audio in BYlSjcgZl7Y_time_164-166TEMP_MPY_wvf_snd.mp3\n"
          ],
          "name": "stdout"
        },
        {
          "output_type": "stream",
          "text": [
            "\n",
            "\n",
            "  0%|          | 0/45 [00:00<?, ?it/s]\u001b[A\u001b[A\n",
            "\n",
            "100%|██████████| 45/45 [00:00<00:00, 276.87it/s]"
          ],
          "name": "stderr"
        },
        {
          "output_type": "stream",
          "text": [
            "[MoviePy] Done.\n",
            "[MoviePy] Writing video /content/clips/BYlSjcgZl7Y_time_164-166.mp4\n"
          ],
          "name": "stdout"
        },
        {
          "output_type": "stream",
          "text": [
            "\n",
            "\n",
            "\n",
            "  0%|          | 0/60 [00:00<?, ?it/s]\u001b[A\u001b[A\n",
            "\n",
            " 27%|██▋       | 16/60 [00:00<00:00, 154.65it/s]\u001b[A\u001b[A\n",
            "\n",
            " 58%|█████▊    | 35/60 [00:00<00:00, 163.15it/s]\u001b[A\u001b[A\n",
            "\n",
            "100%|██████████| 60/60 [00:00<00:00, 129.01it/s]\n"
          ],
          "name": "stderr"
        },
        {
          "output_type": "stream",
          "text": [
            "[MoviePy] Done.\n",
            "[MoviePy] >>>> Video ready: /content/clips/BYlSjcgZl7Y_time_164-166.mp4 \n",
            "\n",
            "###########################################################\n",
            "prediction: (1, 0.9994149)\n",
            "###########################################################\n",
            "[MoviePy] >>>> Building video /content/clips/BYlSjcgZl7Y_time_166-168.mp4\n",
            "[MoviePy] Writing audio in BYlSjcgZl7Y_time_166-168TEMP_MPY_wvf_snd.mp3\n"
          ],
          "name": "stdout"
        },
        {
          "output_type": "stream",
          "text": [
            "\n",
            "\n",
            "  0%|          | 0/45 [00:00<?, ?it/s]\u001b[A\u001b[A\n",
            "\n",
            "100%|██████████| 45/45 [00:00<00:00, 270.51it/s]"
          ],
          "name": "stderr"
        },
        {
          "output_type": "stream",
          "text": [
            "[MoviePy] Done.\n",
            "[MoviePy] Writing video /content/clips/BYlSjcgZl7Y_time_166-168.mp4\n"
          ],
          "name": "stdout"
        },
        {
          "output_type": "stream",
          "text": [
            "\n",
            "\n",
            "\n",
            "  0%|          | 0/60 [00:00<?, ?it/s]\u001b[A\u001b[A\n",
            "\n",
            " 30%|███       | 18/60 [00:00<00:00, 172.57it/s]\u001b[A\u001b[A\n",
            "\n",
            " 57%|█████▋    | 34/60 [00:00<00:00, 167.01it/s]\u001b[A\u001b[A\n",
            "\n",
            "100%|██████████| 60/60 [00:00<00:00, 124.85it/s]\n"
          ],
          "name": "stderr"
        },
        {
          "output_type": "stream",
          "text": [
            "[MoviePy] Done.\n",
            "[MoviePy] >>>> Video ready: /content/clips/BYlSjcgZl7Y_time_166-168.mp4 \n",
            "\n",
            "###########################################################\n",
            "prediction: (1, 0.9996793)\n",
            "###########################################################\n",
            "[MoviePy] >>>> Building video /content/clips/BYlSjcgZl7Y_time_168-170.mp4\n",
            "[MoviePy] Writing audio in BYlSjcgZl7Y_time_168-170TEMP_MPY_wvf_snd.mp3\n"
          ],
          "name": "stdout"
        },
        {
          "output_type": "stream",
          "text": [
            "\n",
            "\n",
            "  0%|          | 0/45 [00:00<?, ?it/s]\u001b[A\u001b[A\n",
            "\n",
            "100%|██████████| 45/45 [00:00<00:00, 274.89it/s]"
          ],
          "name": "stderr"
        },
        {
          "output_type": "stream",
          "text": [
            "[MoviePy] Done.\n",
            "[MoviePy] Writing video /content/clips/BYlSjcgZl7Y_time_168-170.mp4\n"
          ],
          "name": "stdout"
        },
        {
          "output_type": "stream",
          "text": [
            "\n",
            "\n",
            "\n",
            "  0%|          | 0/60 [00:00<?, ?it/s]\u001b[A\u001b[A\n",
            "\n",
            " 27%|██▋       | 16/60 [00:00<00:00, 152.90it/s]\u001b[A\u001b[A\n",
            "\n",
            " 57%|█████▋    | 34/60 [00:00<00:00, 158.47it/s]\u001b[A\u001b[A\n",
            "\n",
            "100%|██████████| 60/60 [00:00<00:00, 128.85it/s]\n"
          ],
          "name": "stderr"
        },
        {
          "output_type": "stream",
          "text": [
            "[MoviePy] Done.\n",
            "[MoviePy] >>>> Video ready: /content/clips/BYlSjcgZl7Y_time_168-170.mp4 \n",
            "\n",
            "###########################################################\n",
            "prediction: (1, 0.9996674)\n",
            "###########################################################\n",
            "[MoviePy] >>>> Building video /content/clips/BYlSjcgZl7Y_time_170-172.mp4\n",
            "[MoviePy] Writing audio in BYlSjcgZl7Y_time_170-172TEMP_MPY_wvf_snd.mp3\n"
          ],
          "name": "stdout"
        },
        {
          "output_type": "stream",
          "text": [
            "\n",
            "\n",
            "  0%|          | 0/45 [00:00<?, ?it/s]\u001b[A\u001b[A\n",
            "\n",
            "100%|██████████| 45/45 [00:00<00:00, 282.25it/s]"
          ],
          "name": "stderr"
        },
        {
          "output_type": "stream",
          "text": [
            "[MoviePy] Done.\n",
            "[MoviePy] Writing video /content/clips/BYlSjcgZl7Y_time_170-172.mp4\n"
          ],
          "name": "stdout"
        },
        {
          "output_type": "stream",
          "text": [
            "\n",
            "\n",
            "\n",
            "  0%|          | 0/60 [00:00<?, ?it/s]\u001b[A\u001b[A\n",
            "\n",
            " 32%|███▏      | 19/60 [00:00<00:00, 179.82it/s]\u001b[A\u001b[A\n",
            "\n",
            " 62%|██████▏   | 37/60 [00:00<00:00, 178.12it/s]\u001b[A\u001b[A\n",
            "\n",
            "100%|██████████| 60/60 [00:00<00:00, 129.65it/s]\n"
          ],
          "name": "stderr"
        },
        {
          "output_type": "stream",
          "text": [
            "[MoviePy] Done.\n",
            "[MoviePy] >>>> Video ready: /content/clips/BYlSjcgZl7Y_time_170-172.mp4 \n",
            "\n",
            "###########################################################\n",
            "prediction: (1, 0.99957913)\n",
            "###########################################################\n",
            "[MoviePy] >>>> Building video /content/clips/BYlSjcgZl7Y_time_172-174.mp4\n",
            "[MoviePy] Writing audio in BYlSjcgZl7Y_time_172-174TEMP_MPY_wvf_snd.mp3\n"
          ],
          "name": "stdout"
        },
        {
          "output_type": "stream",
          "text": [
            "\n",
            "\n",
            "  0%|          | 0/45 [00:00<?, ?it/s]\u001b[A\u001b[A\n",
            "\n",
            "100%|██████████| 45/45 [00:00<00:00, 291.51it/s]"
          ],
          "name": "stderr"
        },
        {
          "output_type": "stream",
          "text": [
            "[MoviePy] Done.\n",
            "[MoviePy] Writing video /content/clips/BYlSjcgZl7Y_time_172-174.mp4\n"
          ],
          "name": "stdout"
        },
        {
          "output_type": "stream",
          "text": [
            "\n",
            "\n",
            "\n",
            "  0%|          | 0/60 [00:00<?, ?it/s]\u001b[A\u001b[A\n",
            "\n",
            " 25%|██▌       | 15/60 [00:00<00:00, 144.86it/s]\u001b[A\u001b[A\n",
            "\n",
            " 55%|█████▌    | 33/60 [00:00<00:00, 152.04it/s]\u001b[A\u001b[A\n",
            "\n",
            " 80%|████████  | 48/60 [00:00<00:00, 150.78it/s]\u001b[A\u001b[A\n",
            "\n",
            "100%|██████████| 60/60 [00:00<00:00, 123.36it/s]\n"
          ],
          "name": "stderr"
        },
        {
          "output_type": "stream",
          "text": [
            "[MoviePy] Done.\n",
            "[MoviePy] >>>> Video ready: /content/clips/BYlSjcgZl7Y_time_172-174.mp4 \n",
            "\n",
            "###########################################################\n",
            "prediction: (1, 0.9996948)\n",
            "###########################################################\n",
            "[MoviePy] >>>> Building video /content/clips/BYlSjcgZl7Y_time_174-176.mp4\n",
            "[MoviePy] Writing audio in BYlSjcgZl7Y_time_174-176TEMP_MPY_wvf_snd.mp3\n"
          ],
          "name": "stdout"
        },
        {
          "output_type": "stream",
          "text": [
            "\n",
            "\n",
            "  0%|          | 0/45 [00:00<?, ?it/s]\u001b[A\u001b[A\n",
            "\n",
            "100%|██████████| 45/45 [00:00<00:00, 278.95it/s]"
          ],
          "name": "stderr"
        },
        {
          "output_type": "stream",
          "text": [
            "[MoviePy] Done.\n",
            "[MoviePy] Writing video /content/clips/BYlSjcgZl7Y_time_174-176.mp4\n"
          ],
          "name": "stdout"
        },
        {
          "output_type": "stream",
          "text": [
            "\n",
            "\n",
            "\n",
            "  0%|          | 0/60 [00:00<?, ?it/s]\u001b[A\u001b[A\n",
            "\n",
            " 28%|██▊       | 17/60 [00:00<00:00, 167.32it/s]\u001b[A\u001b[A\n",
            "\n",
            " 55%|█████▌    | 33/60 [00:00<00:00, 163.01it/s]\u001b[A\u001b[A\n",
            "\n",
            "100%|██████████| 60/60 [00:00<00:00, 127.28it/s]\n"
          ],
          "name": "stderr"
        },
        {
          "output_type": "stream",
          "text": [
            "[MoviePy] Done.\n",
            "[MoviePy] >>>> Video ready: /content/clips/BYlSjcgZl7Y_time_174-176.mp4 \n",
            "\n",
            "###########################################################\n",
            "prediction: (1, 0.99962366)\n",
            "###########################################################\n",
            "[MoviePy] >>>> Building video /content/clips/BYlSjcgZl7Y_time_176-178.mp4\n",
            "[MoviePy] Writing audio in BYlSjcgZl7Y_time_176-178TEMP_MPY_wvf_snd.mp3\n"
          ],
          "name": "stdout"
        },
        {
          "output_type": "stream",
          "text": [
            "\n",
            "\n",
            "  0%|          | 0/45 [00:00<?, ?it/s]\u001b[A\u001b[A\n",
            "\n",
            "100%|██████████| 45/45 [00:00<00:00, 290.61it/s]"
          ],
          "name": "stderr"
        },
        {
          "output_type": "stream",
          "text": [
            "[MoviePy] Done.\n",
            "[MoviePy] Writing video /content/clips/BYlSjcgZl7Y_time_176-178.mp4\n"
          ],
          "name": "stdout"
        },
        {
          "output_type": "stream",
          "text": [
            "\n",
            "\n",
            "\n",
            "  0%|          | 0/60 [00:00<?, ?it/s]\u001b[A\u001b[A\n",
            "\n",
            " 35%|███▌      | 21/60 [00:00<00:00, 201.50it/s]\u001b[A\u001b[A\n",
            "\n",
            " 62%|██████▏   | 37/60 [00:00<00:00, 184.81it/s]\u001b[A\u001b[A\n",
            "\n",
            "100%|██████████| 60/60 [00:00<00:00, 133.61it/s]\n"
          ],
          "name": "stderr"
        },
        {
          "output_type": "stream",
          "text": [
            "[MoviePy] Done.\n",
            "[MoviePy] >>>> Video ready: /content/clips/BYlSjcgZl7Y_time_176-178.mp4 \n",
            "\n",
            "###########################################################\n",
            "prediction: (1, 0.9996153)\n",
            "###########################################################\n",
            "[MoviePy] >>>> Building video /content/clips/BYlSjcgZl7Y_time_178-180.mp4\n",
            "[MoviePy] Writing audio in BYlSjcgZl7Y_time_178-180TEMP_MPY_wvf_snd.mp3\n"
          ],
          "name": "stdout"
        },
        {
          "output_type": "stream",
          "text": [
            "\n",
            "\n",
            "  0%|          | 0/45 [00:00<?, ?it/s]\u001b[A\u001b[A\n",
            "\n",
            "100%|██████████| 45/45 [00:00<00:00, 274.84it/s]"
          ],
          "name": "stderr"
        },
        {
          "output_type": "stream",
          "text": [
            "[MoviePy] Done.\n",
            "[MoviePy] Writing video /content/clips/BYlSjcgZl7Y_time_178-180.mp4\n"
          ],
          "name": "stdout"
        },
        {
          "output_type": "stream",
          "text": [
            "\n",
            "\n",
            "\n",
            "  0%|          | 0/60 [00:00<?, ?it/s]\u001b[A\u001b[A\n",
            "\n",
            " 30%|███       | 18/60 [00:00<00:00, 176.38it/s]\u001b[A\u001b[A\n",
            "\n",
            " 58%|█████▊    | 35/60 [00:00<00:00, 174.24it/s]\u001b[A\u001b[A\n",
            "\n",
            "100%|██████████| 60/60 [00:00<00:00, 132.10it/s]\n"
          ],
          "name": "stderr"
        },
        {
          "output_type": "stream",
          "text": [
            "[MoviePy] Done.\n",
            "[MoviePy] >>>> Video ready: /content/clips/BYlSjcgZl7Y_time_178-180.mp4 \n",
            "\n",
            "###########################################################\n",
            "prediction: (1, 0.9996301)\n",
            "###########################################################\n",
            "[MoviePy] >>>> Building video /content/clips/BYlSjcgZl7Y_time_180-182.mp4\n",
            "[MoviePy] Writing audio in BYlSjcgZl7Y_time_180-182TEMP_MPY_wvf_snd.mp3\n"
          ],
          "name": "stdout"
        },
        {
          "output_type": "stream",
          "text": [
            "\n",
            "\n",
            "  0%|          | 0/45 [00:00<?, ?it/s]\u001b[A\u001b[A\n",
            "\n",
            "100%|██████████| 45/45 [00:00<00:00, 284.71it/s]"
          ],
          "name": "stderr"
        },
        {
          "output_type": "stream",
          "text": [
            "[MoviePy] Done.\n",
            "[MoviePy] Writing video /content/clips/BYlSjcgZl7Y_time_180-182.mp4\n"
          ],
          "name": "stdout"
        },
        {
          "output_type": "stream",
          "text": [
            "\n",
            "\n",
            "\n",
            "  0%|          | 0/60 [00:00<?, ?it/s]\u001b[A\u001b[A\n",
            "\n",
            " 27%|██▋       | 16/60 [00:00<00:00, 159.01it/s]\u001b[A\u001b[A\n",
            "\n",
            " 53%|█████▎    | 32/60 [00:00<00:00, 158.57it/s]\u001b[A\u001b[A\n",
            "\n",
            " 78%|███████▊  | 47/60 [00:00<00:00, 155.52it/s]\u001b[A\u001b[A\n",
            "\n",
            "100%|██████████| 60/60 [00:00<00:00, 125.64it/s]\n"
          ],
          "name": "stderr"
        },
        {
          "output_type": "stream",
          "text": [
            "[MoviePy] Done.\n",
            "[MoviePy] >>>> Video ready: /content/clips/BYlSjcgZl7Y_time_180-182.mp4 \n",
            "\n",
            "###########################################################\n",
            "prediction: (1, 0.9996978)\n",
            "###########################################################\n",
            "[MoviePy] >>>> Building video /content/clips/BYlSjcgZl7Y_time_182-184.mp4\n",
            "[MoviePy] Writing audio in BYlSjcgZl7Y_time_182-184TEMP_MPY_wvf_snd.mp3\n"
          ],
          "name": "stdout"
        },
        {
          "output_type": "stream",
          "text": [
            "\n",
            "\n",
            "  0%|          | 0/45 [00:00<?, ?it/s]\u001b[A\u001b[A\n",
            "\n",
            "100%|██████████| 45/45 [00:00<00:00, 256.09it/s]"
          ],
          "name": "stderr"
        },
        {
          "output_type": "stream",
          "text": [
            "[MoviePy] Done.\n",
            "[MoviePy] Writing video /content/clips/BYlSjcgZl7Y_time_182-184.mp4\n"
          ],
          "name": "stdout"
        },
        {
          "output_type": "stream",
          "text": [
            "\n",
            "\n",
            "\n",
            "  0%|          | 0/60 [00:00<?, ?it/s]\u001b[A\u001b[A\n",
            "\n",
            " 27%|██▋       | 16/60 [00:00<00:00, 158.77it/s]\u001b[A\u001b[A\n",
            "\n",
            " 53%|█████▎    | 32/60 [00:00<00:00, 158.41it/s]\u001b[A\u001b[A\n",
            "\n",
            " 82%|████████▏ | 49/60 [00:00<00:00, 161.28it/s]\u001b[A\u001b[A\n",
            "\n",
            "100%|██████████| 60/60 [00:00<00:00, 126.73it/s]\n"
          ],
          "name": "stderr"
        },
        {
          "output_type": "stream",
          "text": [
            "[MoviePy] Done.\n",
            "[MoviePy] >>>> Video ready: /content/clips/BYlSjcgZl7Y_time_182-184.mp4 \n",
            "\n",
            "###########################################################\n",
            "prediction: (1, 0.99952424)\n",
            "###########################################################\n",
            "[MoviePy] >>>> Building video /content/clips/BYlSjcgZl7Y_time_184-186.mp4\n",
            "[MoviePy] Writing audio in BYlSjcgZl7Y_time_184-186TEMP_MPY_wvf_snd.mp3\n"
          ],
          "name": "stdout"
        },
        {
          "output_type": "stream",
          "text": [
            "\n",
            "\n",
            "  0%|          | 0/45 [00:00<?, ?it/s]\u001b[A\u001b[A\n",
            "\n",
            "100%|██████████| 45/45 [00:00<00:00, 272.15it/s]"
          ],
          "name": "stderr"
        },
        {
          "output_type": "stream",
          "text": [
            "[MoviePy] Done.\n",
            "[MoviePy] Writing video /content/clips/BYlSjcgZl7Y_time_184-186.mp4\n"
          ],
          "name": "stdout"
        },
        {
          "output_type": "stream",
          "text": [
            "\n",
            "\n",
            "\n",
            "  0%|          | 0/60 [00:00<?, ?it/s]\u001b[A\u001b[A\n",
            "\n",
            " 28%|██▊       | 17/60 [00:00<00:00, 162.67it/s]\u001b[A\u001b[A\n",
            "\n",
            " 57%|█████▋    | 34/60 [00:00<00:00, 163.14it/s]\u001b[A\u001b[A\n",
            "\n",
            " 82%|████████▏ | 49/60 [00:00<00:00, 156.67it/s]\u001b[A\u001b[A\n",
            "\n",
            "100%|██████████| 60/60 [00:00<00:00, 124.62it/s]\n"
          ],
          "name": "stderr"
        },
        {
          "output_type": "stream",
          "text": [
            "[MoviePy] Done.\n",
            "[MoviePy] >>>> Video ready: /content/clips/BYlSjcgZl7Y_time_184-186.mp4 \n",
            "\n",
            "###########################################################\n",
            "prediction: (1, 0.9996123)\n",
            "###########################################################\n",
            "[MoviePy] >>>> Building video /content/clips/BYlSjcgZl7Y_time_186-188.mp4\n",
            "[MoviePy] Writing audio in BYlSjcgZl7Y_time_186-188TEMP_MPY_wvf_snd.mp3\n"
          ],
          "name": "stdout"
        },
        {
          "output_type": "stream",
          "text": [
            "\n",
            "\n",
            "  0%|          | 0/45 [00:00<?, ?it/s]\u001b[A\u001b[A\n",
            "\n",
            "100%|██████████| 45/45 [00:00<00:00, 257.19it/s]"
          ],
          "name": "stderr"
        },
        {
          "output_type": "stream",
          "text": [
            "[MoviePy] Done.\n",
            "[MoviePy] Writing video /content/clips/BYlSjcgZl7Y_time_186-188.mp4\n"
          ],
          "name": "stdout"
        },
        {
          "output_type": "stream",
          "text": [
            "\n",
            "\n",
            "\n",
            "  0%|          | 0/60 [00:00<?, ?it/s]\u001b[A\u001b[A\n",
            "\n",
            " 25%|██▌       | 15/60 [00:00<00:00, 149.09it/s]\u001b[A\u001b[A\n",
            "\n",
            " 53%|█████▎    | 32/60 [00:00<00:00, 153.54it/s]\u001b[A\u001b[A\n",
            "\n",
            "100%|██████████| 60/60 [00:00<00:00, 131.00it/s]\n"
          ],
          "name": "stderr"
        },
        {
          "output_type": "stream",
          "text": [
            "[MoviePy] Done.\n",
            "[MoviePy] >>>> Video ready: /content/clips/BYlSjcgZl7Y_time_186-188.mp4 \n",
            "\n",
            "###########################################################\n",
            "prediction: (1, 0.9993672)\n",
            "###########################################################\n",
            "[MoviePy] >>>> Building video /content/clips/BYlSjcgZl7Y_time_188-190.mp4\n",
            "[MoviePy] Writing audio in BYlSjcgZl7Y_time_188-190TEMP_MPY_wvf_snd.mp3\n"
          ],
          "name": "stdout"
        },
        {
          "output_type": "stream",
          "text": [
            "\n",
            "\n",
            "  0%|          | 0/45 [00:00<?, ?it/s]\u001b[A\u001b[A\n",
            "\n",
            "100%|██████████| 45/45 [00:00<00:00, 282.82it/s]"
          ],
          "name": "stderr"
        },
        {
          "output_type": "stream",
          "text": [
            "[MoviePy] Done.\n",
            "[MoviePy] Writing video /content/clips/BYlSjcgZl7Y_time_188-190.mp4\n"
          ],
          "name": "stdout"
        },
        {
          "output_type": "stream",
          "text": [
            "\n",
            "\n",
            "\n",
            "  0%|          | 0/60 [00:00<?, ?it/s]\u001b[A\u001b[A\n",
            "\n",
            " 30%|███       | 18/60 [00:00<00:00, 172.43it/s]\u001b[A\u001b[A\n",
            "\n",
            " 57%|█████▋    | 34/60 [00:00<00:00, 166.77it/s]\u001b[A\u001b[A\n",
            "\n",
            "100%|██████████| 60/60 [00:00<00:00, 128.40it/s]\n"
          ],
          "name": "stderr"
        },
        {
          "output_type": "stream",
          "text": [
            "[MoviePy] Done.\n",
            "[MoviePy] >>>> Video ready: /content/clips/BYlSjcgZl7Y_time_188-190.mp4 \n",
            "\n",
            "###########################################################\n",
            "prediction: (1, 0.99956745)\n",
            "###########################################################\n",
            "[MoviePy] >>>> Building video /content/clips/BYlSjcgZl7Y_time_190-192.mp4\n",
            "[MoviePy] Writing audio in BYlSjcgZl7Y_time_190-192TEMP_MPY_wvf_snd.mp3\n"
          ],
          "name": "stdout"
        },
        {
          "output_type": "stream",
          "text": [
            "\n",
            "\n",
            "  0%|          | 0/45 [00:00<?, ?it/s]\u001b[A\u001b[A\n",
            "\n",
            "100%|██████████| 45/45 [00:00<00:00, 252.69it/s]"
          ],
          "name": "stderr"
        },
        {
          "output_type": "stream",
          "text": [
            "[MoviePy] Done.\n",
            "[MoviePy] Writing video /content/clips/BYlSjcgZl7Y_time_190-192.mp4\n"
          ],
          "name": "stdout"
        },
        {
          "output_type": "stream",
          "text": [
            "\n",
            "\n",
            "\n",
            "  0%|          | 0/60 [00:00<?, ?it/s]\u001b[A\u001b[A\n",
            "\n",
            " 22%|██▏       | 13/60 [00:00<00:00, 128.82it/s]\u001b[A\u001b[A\n",
            "\n",
            " 45%|████▌     | 27/60 [00:00<00:00, 131.43it/s]\u001b[A\u001b[A\n",
            "\n",
            " 68%|██████▊   | 41/60 [00:00<00:00, 133.42it/s]\u001b[A\u001b[A\n",
            "\n",
            "100%|██████████| 60/60 [00:00<00:00, 112.85it/s]\n"
          ],
          "name": "stderr"
        },
        {
          "output_type": "stream",
          "text": [
            "[MoviePy] Done.\n",
            "[MoviePy] >>>> Video ready: /content/clips/BYlSjcgZl7Y_time_190-192.mp4 \n",
            "\n",
            "###########################################################\n",
            "prediction: (1, 0.99929047)\n",
            "###########################################################\n",
            "[MoviePy] >>>> Building video /content/clips/BYlSjcgZl7Y_time_192-194.mp4\n",
            "[MoviePy] Writing audio in BYlSjcgZl7Y_time_192-194TEMP_MPY_wvf_snd.mp3\n"
          ],
          "name": "stdout"
        },
        {
          "output_type": "stream",
          "text": [
            "\n",
            "\n",
            "  0%|          | 0/45 [00:00<?, ?it/s]\u001b[A\u001b[A\n",
            "\n",
            "100%|██████████| 45/45 [00:00<00:00, 289.48it/s]"
          ],
          "name": "stderr"
        },
        {
          "output_type": "stream",
          "text": [
            "[MoviePy] Done.\n",
            "[MoviePy] Writing video /content/clips/BYlSjcgZl7Y_time_192-194.mp4\n"
          ],
          "name": "stdout"
        },
        {
          "output_type": "stream",
          "text": [
            "\n",
            "\n",
            "\n",
            "  0%|          | 0/60 [00:00<?, ?it/s]\u001b[A\u001b[A\n",
            "\n",
            " 23%|██▎       | 14/60 [00:00<00:00, 135.03it/s]\u001b[A\u001b[A\n",
            "\n",
            " 47%|████▋     | 28/60 [00:00<00:00, 135.67it/s]\u001b[A\u001b[A\n",
            "\n",
            " 75%|███████▌  | 45/60 [00:00<00:00, 142.44it/s]\u001b[A\u001b[A\n",
            "\n",
            "100%|██████████| 60/60 [00:00<00:00, 115.75it/s]\n"
          ],
          "name": "stderr"
        },
        {
          "output_type": "stream",
          "text": [
            "[MoviePy] Done.\n",
            "[MoviePy] >>>> Video ready: /content/clips/BYlSjcgZl7Y_time_192-194.mp4 \n",
            "\n",
            "###########################################################\n",
            "prediction: (1, 0.99965274)\n",
            "###########################################################\n",
            "[MoviePy] >>>> Building video /content/clips/BYlSjcgZl7Y_time_194-196.mp4\n",
            "[MoviePy] Writing audio in BYlSjcgZl7Y_time_194-196TEMP_MPY_wvf_snd.mp3\n"
          ],
          "name": "stdout"
        },
        {
          "output_type": "stream",
          "text": [
            "\n",
            "\n",
            "  0%|          | 0/45 [00:00<?, ?it/s]\u001b[A\u001b[A\n",
            "\n",
            "100%|██████████| 45/45 [00:00<00:00, 295.47it/s]"
          ],
          "name": "stderr"
        },
        {
          "output_type": "stream",
          "text": [
            "[MoviePy] Done.\n",
            "[MoviePy] Writing video /content/clips/BYlSjcgZl7Y_time_194-196.mp4\n"
          ],
          "name": "stdout"
        },
        {
          "output_type": "stream",
          "text": [
            "\n",
            "\n",
            "\n",
            "  0%|          | 0/60 [00:00<?, ?it/s]\u001b[A\u001b[A\n",
            "\n",
            " 27%|██▋       | 16/60 [00:00<00:00, 155.29it/s]\u001b[A\u001b[A\n",
            "\n",
            " 55%|█████▌    | 33/60 [00:00<00:00, 158.67it/s]\u001b[A\u001b[A\n",
            "\n",
            " 80%|████████  | 48/60 [00:00<00:00, 154.31it/s]\u001b[A\u001b[A\n",
            "\n",
            "100%|██████████| 60/60 [00:00<00:00, 124.76it/s]\n"
          ],
          "name": "stderr"
        },
        {
          "output_type": "stream",
          "text": [
            "[MoviePy] Done.\n",
            "[MoviePy] >>>> Video ready: /content/clips/BYlSjcgZl7Y_time_194-196.mp4 \n",
            "\n",
            "###########################################################\n",
            "prediction: (1, 0.9990145)\n",
            "###########################################################\n",
            "[MoviePy] >>>> Building video /content/clips/BYlSjcgZl7Y_time_196-198.mp4\n",
            "[MoviePy] Writing audio in BYlSjcgZl7Y_time_196-198TEMP_MPY_wvf_snd.mp3\n"
          ],
          "name": "stdout"
        },
        {
          "output_type": "stream",
          "text": [
            "\n",
            "\n",
            "  0%|          | 0/45 [00:00<?, ?it/s]\u001b[A\u001b[A\n",
            "\n",
            "100%|██████████| 45/45 [00:00<00:00, 297.15it/s]"
          ],
          "name": "stderr"
        },
        {
          "output_type": "stream",
          "text": [
            "[MoviePy] Done.\n",
            "[MoviePy] Writing video /content/clips/BYlSjcgZl7Y_time_196-198.mp4\n"
          ],
          "name": "stdout"
        },
        {
          "output_type": "stream",
          "text": [
            "\n",
            "\n",
            "\n",
            "  0%|          | 0/60 [00:00<?, ?it/s]\u001b[A\u001b[A\n",
            "\n",
            " 30%|███       | 18/60 [00:00<00:00, 174.27it/s]\u001b[A\u001b[A\n",
            "\n",
            " 58%|█████▊    | 35/60 [00:00<00:00, 171.32it/s]\u001b[A\u001b[A\n",
            "\n",
            "100%|██████████| 60/60 [00:00<00:00, 132.32it/s]\n"
          ],
          "name": "stderr"
        },
        {
          "output_type": "stream",
          "text": [
            "[MoviePy] Done.\n",
            "[MoviePy] >>>> Video ready: /content/clips/BYlSjcgZl7Y_time_196-198.mp4 \n",
            "\n",
            "###########################################################\n",
            "prediction: (1, 0.9983126)\n",
            "###########################################################\n",
            "[MoviePy] >>>> Building video /content/clips/BYlSjcgZl7Y_time_198-200.mp4\n",
            "[MoviePy] Writing audio in BYlSjcgZl7Y_time_198-200TEMP_MPY_wvf_snd.mp3\n"
          ],
          "name": "stdout"
        },
        {
          "output_type": "stream",
          "text": [
            "\n",
            "\n",
            "  0%|          | 0/45 [00:00<?, ?it/s]\u001b[A\u001b[A\n",
            "\n",
            "100%|██████████| 45/45 [00:00<00:00, 276.07it/s]"
          ],
          "name": "stderr"
        },
        {
          "output_type": "stream",
          "text": [
            "[MoviePy] Done.\n",
            "[MoviePy] Writing video /content/clips/BYlSjcgZl7Y_time_198-200.mp4\n"
          ],
          "name": "stdout"
        },
        {
          "output_type": "stream",
          "text": [
            "\n",
            "\n",
            "\n",
            "  0%|          | 0/60 [00:00<?, ?it/s]\u001b[A\u001b[A\n",
            "\n",
            " 25%|██▌       | 15/60 [00:00<00:00, 145.48it/s]\u001b[A\u001b[A\n",
            "\n",
            " 52%|█████▏    | 31/60 [00:00<00:00, 148.99it/s]\u001b[A\u001b[A\n",
            "\n",
            " 78%|███████▊  | 47/60 [00:00<00:00, 151.82it/s]\u001b[A\u001b[A\n",
            "\n",
            "100%|██████████| 60/60 [00:00<00:00, 125.57it/s]\n"
          ],
          "name": "stderr"
        },
        {
          "output_type": "stream",
          "text": [
            "[MoviePy] Done.\n",
            "[MoviePy] >>>> Video ready: /content/clips/BYlSjcgZl7Y_time_198-200.mp4 \n",
            "\n",
            "###########################################################\n",
            "prediction: (1, 0.99935895)\n",
            "###########################################################\n",
            "[MoviePy] >>>> Building video /content/clips/BYlSjcgZl7Y_time_200-202.mp4\n",
            "[MoviePy] Writing audio in BYlSjcgZl7Y_time_200-202TEMP_MPY_wvf_snd.mp3\n"
          ],
          "name": "stdout"
        },
        {
          "output_type": "stream",
          "text": [
            "\n",
            "\n",
            "  0%|          | 0/45 [00:00<?, ?it/s]\u001b[A\u001b[A\n",
            "\n",
            "100%|██████████| 45/45 [00:00<00:00, 275.36it/s]"
          ],
          "name": "stderr"
        },
        {
          "output_type": "stream",
          "text": [
            "[MoviePy] Done.\n",
            "[MoviePy] Writing video /content/clips/BYlSjcgZl7Y_time_200-202.mp4\n"
          ],
          "name": "stdout"
        },
        {
          "output_type": "stream",
          "text": [
            "\n",
            "\n",
            "\n",
            "  0%|          | 0/60 [00:00<?, ?it/s]\u001b[A\u001b[A\n",
            "\n",
            " 30%|███       | 18/60 [00:00<00:00, 178.06it/s]\u001b[A\u001b[A\n",
            "\n",
            " 58%|█████▊    | 35/60 [00:00<00:00, 173.89it/s]\u001b[A\u001b[A\n",
            "\n",
            "100%|██████████| 60/60 [00:00<00:00, 133.43it/s]\n"
          ],
          "name": "stderr"
        },
        {
          "output_type": "stream",
          "text": [
            "[MoviePy] Done.\n",
            "[MoviePy] >>>> Video ready: /content/clips/BYlSjcgZl7Y_time_200-202.mp4 \n",
            "\n",
            "###########################################################\n",
            "prediction: (1, 0.9989542)\n",
            "###########################################################\n",
            "[MoviePy] >>>> Building video /content/clips/BYlSjcgZl7Y_time_202-204.mp4\n",
            "[MoviePy] Writing audio in BYlSjcgZl7Y_time_202-204TEMP_MPY_wvf_snd.mp3\n"
          ],
          "name": "stdout"
        },
        {
          "output_type": "stream",
          "text": [
            "\n",
            "\n",
            "  0%|          | 0/45 [00:00<?, ?it/s]\u001b[A\u001b[A\n",
            "\n",
            "100%|██████████| 45/45 [00:00<00:00, 258.36it/s]"
          ],
          "name": "stderr"
        },
        {
          "output_type": "stream",
          "text": [
            "[MoviePy] Done.\n",
            "[MoviePy] Writing video /content/clips/BYlSjcgZl7Y_time_202-204.mp4\n"
          ],
          "name": "stdout"
        },
        {
          "output_type": "stream",
          "text": [
            "\n",
            "\n",
            "\n",
            "  0%|          | 0/60 [00:00<?, ?it/s]\u001b[A\u001b[A\n",
            "\n",
            " 30%|███       | 18/60 [00:00<00:00, 176.35it/s]\u001b[A\u001b[A\n",
            "\n",
            " 58%|█████▊    | 35/60 [00:00<00:00, 172.93it/s]\u001b[A\u001b[A\n",
            "\n",
            " 78%|███████▊  | 47/60 [00:00<00:00, 149.41it/s]\u001b[A\u001b[A\n",
            "\n",
            "100%|██████████| 60/60 [00:00<00:00, 123.06it/s]\n"
          ],
          "name": "stderr"
        },
        {
          "output_type": "stream",
          "text": [
            "[MoviePy] Done.\n",
            "[MoviePy] >>>> Video ready: /content/clips/BYlSjcgZl7Y_time_202-204.mp4 \n",
            "\n",
            "###########################################################\n",
            "prediction: (1, 0.9995272)\n",
            "###########################################################\n",
            "[MoviePy] >>>> Building video /content/clips/BYlSjcgZl7Y_time_204-206.mp4\n",
            "[MoviePy] Writing audio in BYlSjcgZl7Y_time_204-206TEMP_MPY_wvf_snd.mp3\n"
          ],
          "name": "stdout"
        },
        {
          "output_type": "stream",
          "text": [
            "\n",
            "\n",
            "  0%|          | 0/45 [00:00<?, ?it/s]\u001b[A\u001b[A\n",
            "\n",
            "100%|██████████| 45/45 [00:00<00:00, 291.75it/s]"
          ],
          "name": "stderr"
        },
        {
          "output_type": "stream",
          "text": [
            "[MoviePy] Done.\n",
            "[MoviePy] Writing video /content/clips/BYlSjcgZl7Y_time_204-206.mp4\n"
          ],
          "name": "stdout"
        },
        {
          "output_type": "stream",
          "text": [
            "\n",
            "\n",
            "\n",
            "  0%|          | 0/60 [00:00<?, ?it/s]\u001b[A\u001b[A\n",
            "\n",
            " 30%|███       | 18/60 [00:00<00:00, 173.66it/s]\u001b[A\u001b[A\n",
            "\n",
            " 57%|█████▋    | 34/60 [00:00<00:00, 168.83it/s]\u001b[A\u001b[A\n",
            "\n",
            "100%|██████████| 60/60 [00:00<00:00, 121.80it/s]\n"
          ],
          "name": "stderr"
        },
        {
          "output_type": "stream",
          "text": [
            "[MoviePy] Done.\n",
            "[MoviePy] >>>> Video ready: /content/clips/BYlSjcgZl7Y_time_204-206.mp4 \n",
            "\n",
            "###########################################################\n",
            "prediction: (1, 0.99953353)\n",
            "###########################################################\n",
            "[MoviePy] >>>> Building video /content/clips/BYlSjcgZl7Y_time_206-208.mp4\n",
            "[MoviePy] Writing audio in BYlSjcgZl7Y_time_206-208TEMP_MPY_wvf_snd.mp3\n"
          ],
          "name": "stdout"
        },
        {
          "output_type": "stream",
          "text": [
            "\n",
            "\n",
            "  0%|          | 0/45 [00:00<?, ?it/s]\u001b[A\u001b[A\n",
            "\n",
            "100%|██████████| 45/45 [00:00<00:00, 283.26it/s]"
          ],
          "name": "stderr"
        },
        {
          "output_type": "stream",
          "text": [
            "[MoviePy] Done.\n",
            "[MoviePy] Writing video /content/clips/BYlSjcgZl7Y_time_206-208.mp4\n"
          ],
          "name": "stdout"
        },
        {
          "output_type": "stream",
          "text": [
            "\n",
            "\n",
            "\n",
            "  0%|          | 0/60 [00:00<?, ?it/s]\u001b[A\u001b[A\n",
            "\n",
            " 28%|██▊       | 17/60 [00:00<00:00, 145.55it/s]\u001b[A\u001b[A\n",
            "\n",
            " 55%|█████▌    | 33/60 [00:00<00:00, 149.03it/s]\u001b[A\u001b[A\n",
            "\n",
            " 77%|███████▋  | 46/60 [00:00<00:00, 140.83it/s]\u001b[A\u001b[A\n",
            "\n",
            "100%|██████████| 60/60 [00:00<00:00, 110.18it/s]\n"
          ],
          "name": "stderr"
        },
        {
          "output_type": "stream",
          "text": [
            "[MoviePy] Done.\n",
            "[MoviePy] >>>> Video ready: /content/clips/BYlSjcgZl7Y_time_206-208.mp4 \n",
            "\n",
            "###########################################################\n",
            "prediction: (1, 0.99952745)\n",
            "###########################################################\n",
            "[MoviePy] >>>> Building video /content/clips/BYlSjcgZl7Y_time_208-210.mp4\n",
            "[MoviePy] Writing audio in BYlSjcgZl7Y_time_208-210TEMP_MPY_wvf_snd.mp3\n"
          ],
          "name": "stdout"
        },
        {
          "output_type": "stream",
          "text": [
            "\n",
            "\n",
            "  0%|          | 0/45 [00:00<?, ?it/s]\u001b[A\u001b[A\n",
            "\n",
            "100%|██████████| 45/45 [00:00<00:00, 271.17it/s]"
          ],
          "name": "stderr"
        },
        {
          "output_type": "stream",
          "text": [
            "[MoviePy] Done.\n",
            "[MoviePy] Writing video /content/clips/BYlSjcgZl7Y_time_208-210.mp4\n"
          ],
          "name": "stdout"
        },
        {
          "output_type": "stream",
          "text": [
            "\n",
            "\n",
            "\n",
            "  0%|          | 0/60 [00:00<?, ?it/s]\u001b[A\u001b[A\n",
            "\n",
            " 30%|███       | 18/60 [00:00<00:00, 173.42it/s]\u001b[A\u001b[A\n",
            "\n",
            " 55%|█████▌    | 33/60 [00:00<00:00, 163.92it/s]\u001b[A\u001b[A\n",
            "\n",
            " 78%|███████▊  | 47/60 [00:00<00:00, 155.52it/s]\u001b[A\u001b[A\n",
            "\n",
            "100%|██████████| 60/60 [00:00<00:00, 124.13it/s]\n"
          ],
          "name": "stderr"
        },
        {
          "output_type": "stream",
          "text": [
            "[MoviePy] Done.\n",
            "[MoviePy] >>>> Video ready: /content/clips/BYlSjcgZl7Y_time_208-210.mp4 \n",
            "\n",
            "###########################################################\n",
            "prediction: (1, 0.999398)\n",
            "###########################################################\n",
            "[MoviePy] >>>> Building video /content/clips/BYlSjcgZl7Y_time_210-212.mp4\n",
            "[MoviePy] Writing audio in BYlSjcgZl7Y_time_210-212TEMP_MPY_wvf_snd.mp3\n"
          ],
          "name": "stdout"
        },
        {
          "output_type": "stream",
          "text": [
            "\n",
            "\n",
            "  0%|          | 0/45 [00:00<?, ?it/s]\u001b[A\u001b[A\n",
            "\n",
            "100%|██████████| 45/45 [00:00<00:00, 270.53it/s]"
          ],
          "name": "stderr"
        },
        {
          "output_type": "stream",
          "text": [
            "[MoviePy] Done.\n",
            "[MoviePy] Writing video /content/clips/BYlSjcgZl7Y_time_210-212.mp4\n"
          ],
          "name": "stdout"
        },
        {
          "output_type": "stream",
          "text": [
            "\n",
            "\n",
            "\n",
            "  0%|          | 0/60 [00:00<?, ?it/s]\u001b[A\u001b[A\n",
            "\n",
            " 28%|██▊       | 17/60 [00:00<00:00, 168.08it/s]\u001b[A\u001b[A\n",
            "\n",
            " 50%|█████     | 30/60 [00:00<00:00, 154.16it/s]\u001b[A\u001b[A\n",
            "\n",
            " 77%|███████▋  | 46/60 [00:00<00:00, 151.41it/s]\u001b[A\u001b[A\n",
            "\n",
            "100%|██████████| 60/60 [00:00<00:00, 119.85it/s]\n"
          ],
          "name": "stderr"
        },
        {
          "output_type": "stream",
          "text": [
            "[MoviePy] Done.\n",
            "[MoviePy] >>>> Video ready: /content/clips/BYlSjcgZl7Y_time_210-212.mp4 \n",
            "\n",
            "###########################################################\n",
            "prediction: (1, 0.9995958)\n",
            "###########################################################\n",
            "[MoviePy] >>>> Building video /content/clips/BYlSjcgZl7Y_time_212-214.mp4\n",
            "[MoviePy] Writing audio in BYlSjcgZl7Y_time_212-214TEMP_MPY_wvf_snd.mp3\n"
          ],
          "name": "stdout"
        },
        {
          "output_type": "stream",
          "text": [
            "\n",
            "\n",
            "  0%|          | 0/45 [00:00<?, ?it/s]\u001b[A\u001b[A\n",
            "\n",
            "100%|██████████| 45/45 [00:00<00:00, 257.49it/s]\n"
          ],
          "name": "stderr"
        },
        {
          "output_type": "stream",
          "text": [
            "[MoviePy] Done.\n",
            "[MoviePy] Writing video /content/clips/BYlSjcgZl7Y_time_212-214.mp4\n"
          ],
          "name": "stdout"
        },
        {
          "output_type": "stream",
          "text": [
            "\n",
            "\n",
            "  0%|          | 0/60 [00:00<?, ?it/s]\u001b[A\u001b[A\n",
            "\n",
            " 30%|███       | 18/60 [00:00<00:00, 171.69it/s]\u001b[A\u001b[A\n",
            "\n",
            " 60%|██████    | 36/60 [00:00<00:00, 169.50it/s]\u001b[A\u001b[A\n",
            "\n",
            "100%|██████████| 60/60 [00:00<00:00, 130.27it/s]\n"
          ],
          "name": "stderr"
        },
        {
          "output_type": "stream",
          "text": [
            "[MoviePy] Done.\n",
            "[MoviePy] >>>> Video ready: /content/clips/BYlSjcgZl7Y_time_212-214.mp4 \n",
            "\n",
            "###########################################################\n",
            "prediction: (1, 0.99961096)\n",
            "###########################################################\n",
            "[MoviePy] >>>> Building video /content/clips/BYlSjcgZl7Y_time_214-216.mp4\n",
            "[MoviePy] Writing audio in BYlSjcgZl7Y_time_214-216TEMP_MPY_wvf_snd.mp3\n"
          ],
          "name": "stdout"
        },
        {
          "output_type": "stream",
          "text": [
            "\n",
            "\n",
            "  0%|          | 0/45 [00:00<?, ?it/s]\u001b[A\u001b[A\n",
            "\n",
            "100%|██████████| 45/45 [00:00<00:00, 268.24it/s]"
          ],
          "name": "stderr"
        },
        {
          "output_type": "stream",
          "text": [
            "[MoviePy] Done.\n",
            "[MoviePy] Writing video /content/clips/BYlSjcgZl7Y_time_214-216.mp4\n"
          ],
          "name": "stdout"
        },
        {
          "output_type": "stream",
          "text": [
            "\n",
            "\n",
            "\n",
            "  0%|          | 0/60 [00:00<?, ?it/s]\u001b[A\u001b[A\n",
            "\n",
            " 27%|██▋       | 16/60 [00:00<00:00, 152.17it/s]\u001b[A\u001b[A\n",
            "\n",
            " 53%|█████▎    | 32/60 [00:00<00:00, 151.67it/s]\u001b[A\u001b[A\n",
            "\n",
            " 80%|████████  | 48/60 [00:00<00:00, 151.88it/s]\u001b[A\u001b[A\n",
            "\n",
            "100%|██████████| 60/60 [00:00<00:00, 119.85it/s]\n"
          ],
          "name": "stderr"
        },
        {
          "output_type": "stream",
          "text": [
            "[MoviePy] Done.\n",
            "[MoviePy] >>>> Video ready: /content/clips/BYlSjcgZl7Y_time_214-216.mp4 \n",
            "\n",
            "###########################################################\n",
            "prediction: (1, 0.9997081)\n",
            "###########################################################\n",
            "[MoviePy] >>>> Building video /content/clips/BYlSjcgZl7Y_time_216-218.mp4\n",
            "[MoviePy] Writing audio in BYlSjcgZl7Y_time_216-218TEMP_MPY_wvf_snd.mp3\n"
          ],
          "name": "stdout"
        },
        {
          "output_type": "stream",
          "text": [
            "\n",
            "\n",
            "  0%|          | 0/45 [00:00<?, ?it/s]\u001b[A\u001b[A\n",
            "\n",
            "100%|██████████| 45/45 [00:00<00:00, 259.66it/s]"
          ],
          "name": "stderr"
        },
        {
          "output_type": "stream",
          "text": [
            "[MoviePy] Done.\n",
            "[MoviePy] Writing video /content/clips/BYlSjcgZl7Y_time_216-218.mp4\n"
          ],
          "name": "stdout"
        },
        {
          "output_type": "stream",
          "text": [
            "\n",
            "\n",
            "\n",
            "  0%|          | 0/60 [00:00<?, ?it/s]\u001b[A\u001b[A\n",
            "\n",
            " 25%|██▌       | 15/60 [00:00<00:00, 147.06it/s]\u001b[A\u001b[A\n",
            "\n",
            " 50%|█████     | 30/60 [00:00<00:00, 145.96it/s]\u001b[A\u001b[A\n",
            "\n",
            " 73%|███████▎  | 44/60 [00:00<00:00, 143.96it/s]\u001b[A\u001b[A\n",
            "\n",
            "100%|██████████| 60/60 [00:00<00:00, 108.77it/s]\n"
          ],
          "name": "stderr"
        },
        {
          "output_type": "stream",
          "text": [
            "[MoviePy] Done.\n",
            "[MoviePy] >>>> Video ready: /content/clips/BYlSjcgZl7Y_time_216-218.mp4 \n",
            "\n",
            "###########################################################\n",
            "prediction: (1, 0.9994649)\n",
            "###########################################################\n",
            "[MoviePy] >>>> Building video /content/clips/BYlSjcgZl7Y_time_218-220.mp4\n",
            "[MoviePy] Writing audio in BYlSjcgZl7Y_time_218-220TEMP_MPY_wvf_snd.mp3\n"
          ],
          "name": "stdout"
        },
        {
          "output_type": "stream",
          "text": [
            "\n",
            "\n",
            "  0%|          | 0/45 [00:00<?, ?it/s]\u001b[A\u001b[A\n",
            "\n",
            "100%|██████████| 45/45 [00:00<00:00, 256.92it/s]"
          ],
          "name": "stderr"
        },
        {
          "output_type": "stream",
          "text": [
            "[MoviePy] Done.\n"
          ],
          "name": "stdout"
        },
        {
          "output_type": "stream",
          "text": [
            "\n"
          ],
          "name": "stderr"
        },
        {
          "output_type": "stream",
          "text": [
            "[MoviePy] Writing video /content/clips/BYlSjcgZl7Y_time_218-220.mp4\n"
          ],
          "name": "stdout"
        },
        {
          "output_type": "stream",
          "text": [
            "\n",
            "\n",
            "  0%|          | 0/60 [00:00<?, ?it/s]\u001b[A\u001b[A\n",
            "\n",
            " 30%|███       | 18/60 [00:00<00:00, 173.96it/s]\u001b[A\u001b[A\n",
            "\n",
            " 57%|█████▋    | 34/60 [00:00<00:00, 169.30it/s]\u001b[A\u001b[A\n",
            "\n",
            " 82%|████████▏ | 49/60 [00:00<00:00, 161.56it/s]\u001b[A\u001b[A\n",
            "\n",
            "100%|██████████| 60/60 [00:00<00:00, 122.68it/s]\n"
          ],
          "name": "stderr"
        },
        {
          "output_type": "stream",
          "text": [
            "[MoviePy] Done.\n",
            "[MoviePy] >>>> Video ready: /content/clips/BYlSjcgZl7Y_time_218-220.mp4 \n",
            "\n",
            "###########################################################\n",
            "prediction: (1, 0.99941254)\n",
            "###########################################################\n",
            "[MoviePy] >>>> Building video /content/clips/BYlSjcgZl7Y_time_220-222.mp4\n",
            "[MoviePy] Writing audio in BYlSjcgZl7Y_time_220-222TEMP_MPY_wvf_snd.mp3\n"
          ],
          "name": "stdout"
        },
        {
          "output_type": "stream",
          "text": [
            "\n",
            "\n",
            "  0%|          | 0/45 [00:00<?, ?it/s]\u001b[A\u001b[A\n",
            "\n",
            "100%|██████████| 45/45 [00:00<00:00, 272.54it/s]"
          ],
          "name": "stderr"
        },
        {
          "output_type": "stream",
          "text": [
            "[MoviePy] Done.\n",
            "[MoviePy] Writing video /content/clips/BYlSjcgZl7Y_time_220-222.mp4\n"
          ],
          "name": "stdout"
        },
        {
          "output_type": "stream",
          "text": [
            "\n",
            "\n",
            "\n",
            "  0%|          | 0/60 [00:00<?, ?it/s]\u001b[A\u001b[A\n",
            "\n",
            " 23%|██▎       | 14/60 [00:00<00:00, 134.19it/s]\u001b[A\u001b[A\n",
            "\n",
            " 48%|████▊     | 29/60 [00:00<00:00, 138.00it/s]\u001b[A\u001b[A\n",
            "\n",
            " 73%|███████▎  | 44/60 [00:00<00:00, 141.00it/s]\u001b[A\u001b[A\n",
            "\n",
            "100%|██████████| 60/60 [00:00<00:00, 116.66it/s]\n"
          ],
          "name": "stderr"
        },
        {
          "output_type": "stream",
          "text": [
            "[MoviePy] Done.\n",
            "[MoviePy] >>>> Video ready: /content/clips/BYlSjcgZl7Y_time_220-222.mp4 \n",
            "\n",
            "###########################################################\n",
            "prediction: (1, 0.99946576)\n",
            "###########################################################\n",
            "[MoviePy] >>>> Building video /content/clips/BYlSjcgZl7Y_time_222-224.mp4\n",
            "[MoviePy] Writing audio in BYlSjcgZl7Y_time_222-224TEMP_MPY_wvf_snd.mp3\n"
          ],
          "name": "stdout"
        },
        {
          "output_type": "stream",
          "text": [
            "\n",
            "\n",
            "  0%|          | 0/45 [00:00<?, ?it/s]\u001b[A\u001b[A\n",
            "\n",
            "100%|██████████| 45/45 [00:00<00:00, 241.71it/s]\n"
          ],
          "name": "stderr"
        },
        {
          "output_type": "stream",
          "text": [
            "[MoviePy] Done.\n",
            "[MoviePy] Writing video /content/clips/BYlSjcgZl7Y_time_222-224.mp4\n"
          ],
          "name": "stdout"
        },
        {
          "output_type": "stream",
          "text": [
            "\n",
            "\n",
            "  0%|          | 0/60 [00:00<?, ?it/s]\u001b[A\u001b[A\n",
            "\n",
            " 27%|██▋       | 16/60 [00:00<00:00, 159.65it/s]\u001b[A\u001b[A\n",
            "\n",
            " 53%|█████▎    | 32/60 [00:00<00:00, 157.66it/s]\u001b[A\u001b[A\n",
            "\n",
            " 78%|███████▊  | 47/60 [00:00<00:00, 153.97it/s]\u001b[A\u001b[A\n",
            "\n",
            "100%|██████████| 60/60 [00:00<00:00, 119.89it/s]\n"
          ],
          "name": "stderr"
        },
        {
          "output_type": "stream",
          "text": [
            "[MoviePy] Done.\n",
            "[MoviePy] >>>> Video ready: /content/clips/BYlSjcgZl7Y_time_222-224.mp4 \n",
            "\n",
            "###########################################################\n",
            "prediction: (1, 0.9987583)\n",
            "###########################################################\n"
          ],
          "name": "stdout"
        }
      ]
    },
    {
      "cell_type": "code",
      "metadata": {
        "id": "5YlIsSNwNhg-"
      },
      "source": [
        ""
      ],
      "execution_count": null,
      "outputs": []
    }
  ]
}