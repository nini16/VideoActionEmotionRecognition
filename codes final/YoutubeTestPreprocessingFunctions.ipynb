{
 "cells": [
  {
   "cell_type": "code",
   "execution_count": 1,
   "metadata": {},
   "outputs": [],
   "source": [
    "import os\n",
    "import numpy as np"
   ]
  },
  {
   "cell_type": "code",
   "execution_count": 2,
   "metadata": {},
   "outputs": [],
   "source": [
    "def ExtractFrames(file_path, pos=[0.1,0.3,0.5,0.7,0.9]):\n",
    "    # Extracts frames from file_path at the positions (relative between 0 and 1) in pos\n",
    "    \n",
    "    import os\n",
    "    \n",
    "    if not len(pos):\n",
    "        print(\"[ExtractFrames]: Invalid positions\")\n",
    "        return None\n",
    "    \n",
    "    if not os.path.isfile(file_path) :\n",
    "        print(\"[ExtractFrames]: Invalid file path\")\n",
    "        return None\n",
    "    \n",
    "    import cv2\n",
    "    \n",
    "    # container for frames\n",
    "    arr = np.empty((len(pos),224,224,3))\n",
    "    \n",
    "    cap = cv2.VideoCapture(file_path)\n",
    "    total_frames = cap.get(cv2.CAP_PROP_FRAME_COUNT)\n",
    "    \n",
    "    for k,i in enumerate(pos):\n",
    "        # get frame number\n",
    "        position = int(i * total_frames)\n",
    "        \n",
    "        # set frame pointer at i and extract frame\n",
    "        cap.set(cv2.CAP_PROP_POS_FRAMES, i)\n",
    "        ret, frame = cap.read()\n",
    "        \n",
    "        # preprocessing\n",
    "        frame = cv2.resize(frame, (224,224))\n",
    "        frame = frame * 1/255.\n",
    "        frame = np.float32(frame)\n",
    "        frame = cv2.cvtColor(frame, cv2.COLOR_BGR2RGB)\n",
    "        \n",
    "        # insert in container\n",
    "        arr[k] = frame\n",
    "        \n",
    "    # cleanup\n",
    "    cap.set(cv2.CAP_PROP_POS_FRAMES, 0)\n",
    "    cap.release()\n",
    "    \n",
    "    return arr"
   ]
  },
  {
   "cell_type": "code",
   "execution_count": 11,
   "metadata": {},
   "outputs": [],
   "source": [
    "def test_flow_from_directory(dir_path):\n",
    "    import numpy as np\n",
    "    import os\n",
    "    from tqdm import tqdm\n",
    "    \n",
    "    # 2 classes: \"brushing_teeth\", \"miscellaneous\"\n",
    "    posDIR = os.path.join(dir_path, \"brushing_teeth\")\n",
    "    negDIR = os.path.join(dir_path, \"miscellaneous\")\n",
    "    \n",
    "    pos_samples = os.listdir(posDIR)\n",
    "    neg_samples = os.listdir(negDIR)\n",
    "    \n",
    "    # Get all the videos in both classes\n",
    "    pos_samples = [os.path.join(posDIR, fname) for fname in pos_samples]\n",
    "    neg_samples = [os.path.join(negDIR, fname) for fname in neg_samples]\n",
    "    \n",
    "    sample_size = len(pos_samples) + len(neg_samples)\n",
    "    \n",
    "    # Array for data, labels and files \n",
    "    test_data   = np.empty( (sample_size, 5, 224, 224, 3) )\n",
    "    test_label  = np.empty( (sample_size, 1) )\n",
    "    test_files  = pos_samples+neg_samples\n",
    "    \n",
    "    # Extract frames from all videos using default positions\n",
    "    index = 0\n",
    "    print(\"Now extracting brushing_teeth videos\")\n",
    "    for vid in tqdm(pos_samples):\n",
    "        test_data[index] = ExtractFrames(str(vid))\n",
    "        test_label[index] = 1.\n",
    "        index += 1\n",
    "    \n",
    "    print(\"Now extracting miscellaneous videos\")\n",
    "    for vid in tqdm(neg_samples):\n",
    "        test_data[index] = ExtractFrames(vid)\n",
    "        test_label[index] = 0.\n",
    "        index += 1\n",
    "    \n",
    "    return test_data, test_label, test_files"
   ]
  },
  {
   "cell_type": "code",
   "execution_count": 13,
   "metadata": {},
   "outputs": [],
   "source": []
  },
  {
   "cell_type": "code",
   "execution_count": null,
   "metadata": {},
   "outputs": [],
   "source": []
  }
 ],
 "metadata": {
  "kernelspec": {
   "display_name": "Python 3",
   "language": "python",
   "name": "python3"
  },
  "language_info": {
   "codemirror_mode": {
    "name": "ipython",
    "version": 3
   },
   "file_extension": ".py",
   "mimetype": "text/x-python",
   "name": "python",
   "nbconvert_exporter": "python",
   "pygments_lexer": "ipython3",
   "version": "3.6.8"
  }
 },
 "nbformat": 4,
 "nbformat_minor": 4
}
