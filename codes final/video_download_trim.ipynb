{
 "cells": [
  {
   "cell_type": "markdown",
   "metadata": {},
   "source": [
    "## PLEASE ADJUST ALL FILE PATHS BEFORE RUNNING"
   ]
  },
  {
   "cell_type": "code",
   "execution_count": 8,
   "metadata": {},
   "outputs": [
    {
     "name": "stdout",
     "output_type": "stream",
     "text": [
      "Requirement already satisfied: moviepy in c:\\python36\\lib\\site-packages (1.0.3)\n",
      "Requirement already satisfied: proglog<=1.0.0 in c:\\python36\\lib\\site-packages (from moviepy) (0.1.9)\n",
      "Requirement already satisfied: imageio<3.0,>=2.5 in c:\\python36\\lib\\site-packages (from moviepy) (2.9.0)\n",
      "Requirement already satisfied: requests<3.0,>=2.8.1 in c:\\python36\\lib\\site-packages (from moviepy) (2.21.0)\n",
      "Requirement already satisfied: tqdm<5.0,>=4.11.2 in c:\\python36\\lib\\site-packages (from moviepy) (4.56.2)\n",
      "Requirement already satisfied: decorator<5.0,>=4.0.2 in c:\\python36\\lib\\site-packages (from moviepy) (4.4.2)\n",
      "Requirement already satisfied: numpy in c:\\python36\\lib\\site-packages (from moviepy) (1.19.5)\n",
      "Requirement already satisfied: imageio-ffmpeg>=0.2.0 in c:\\python36\\lib\\site-packages (from moviepy) (0.4.3)\n",
      "Requirement already satisfied: pillow in c:\\python36\\lib\\site-packages (from imageio<3.0,>=2.5->moviepy) (6.0.0)\n",
      "Requirement already satisfied: certifi>=2017.4.17 in c:\\python36\\lib\\site-packages (from requests<3.0,>=2.8.1->moviepy) (2019.3.9)\n",
      "Requirement already satisfied: urllib3<1.25,>=1.21.1 in c:\\python36\\lib\\site-packages (from requests<3.0,>=2.8.1->moviepy) (1.24.2)\n",
      "Requirement already satisfied: idna<2.9,>=2.5 in c:\\python36\\lib\\site-packages (from requests<3.0,>=2.8.1->moviepy) (2.8)\n",
      "Requirement already satisfied: chardet<3.1.0,>=3.0.2 in c:\\python36\\lib\\site-packages (from requests<3.0,>=2.8.1->moviepy) (3.0.4)\n"
     ]
    },
    {
     "name": "stderr",
     "output_type": "stream",
     "text": [
      "WARNING: You are using pip version 21.0.1; however, version 21.1 is available.\n",
      "You should consider upgrading via the 'c:\\python36\\python3.exe -m pip install --upgrade pip' command.\n"
     ]
    }
   ],
   "source": [
    "!pip install moviepy"
   ]
  },
  {
   "cell_type": "code",
   "execution_count": 9,
   "metadata": {},
   "outputs": [],
   "source": [
    "import os\n",
    "from moviepy.editor import VideoFileClip, CompositeVideoClip\n",
    "import json\n",
    "import numpy as np\n",
    "import matplotlib.pyplot as plt\n",
    "from tqdm import tqdm"
   ]
  },
  {
   "cell_type": "code",
   "execution_count": 10,
   "metadata": {},
   "outputs": [],
   "source": [
    "json_fname=\"videos_10.json\""
   ]
  },
  {
   "cell_type": "code",
   "execution_count": 11,
   "metadata": {},
   "outputs": [],
   "source": [
    "def addJSONEntry(vid, a, b, fname=json_fname):\n",
    "    # Adds new entry for 2 second clip to valid file\n",
    "    \n",
    "    if not os.path.isfile(fname) :\n",
    "        print(\"[addJSONEntry]: Invalid file path\")\n",
    "        return\n",
    "    \n",
    "    # hardcoded\n",
    "    entry = {\"videoId\": vid, \"type\": \"segment\", \"startTime\": a, \"endTime\": b, \"observer\": \"CSCE636Spring2021-nini16-10\", \"isHuman\": True, \"observation\": {\"label\": \"Arrange flowers or water plants etc\", \"labelConfidence\": 0.99}}\n",
    "    with open(fname, 'r') as f:\n",
    "        data = json.load(f)\n",
    "    data.append(entry)\n",
    "    with open(fname, 'w') as f:\n",
    "        json.dump(data, f, indent=2)"
   ]
  },
  {
   "cell_type": "code",
   "execution_count": 12,
   "metadata": {},
   "outputs": [],
   "source": [
    "def Make_Clip(vid, times, output, ext='webm', addEntry=False):\n",
    "    # extract a 2 second clip from video starting from each time in times\n",
    "    if output == \"\" or output==None:\n",
    "        print(\"[Make_Clip]: Please specify a file path\")\n",
    "        return\n",
    "    \n",
    "    for time in times:\n",
    "        a = time\n",
    "        b = a+2\n",
    "        clip = VideoFileClip(\"{}.{}\".format(vid, ext)).subclip(a,b) # mp4 or mkv\n",
    "        video = CompositeVideoClip([clip])\n",
    "        # Write the result to a file (many options available !)\n",
    "        pathto = os.path.join(output, \"{}_time_{}-{}.mp4\".format(vid, a, b))\n",
    "        video.write_videofile(pathto)\n",
    "        if addEntry:\n",
    "            addJSONEntry(vid, a, b)\n",
    "        clip.close()"
   ]
  },
  {
   "cell_type": "code",
   "execution_count": null,
   "metadata": {},
   "outputs": [],
   "source": []
  },
  {
   "cell_type": "code",
   "execution_count": 13,
   "metadata": {},
   "outputs": [],
   "source": [
    "# uncomment if reading from csv\n",
    "\n",
    "# import csv \n",
    "  \n",
    "# # csv file name \n",
    "# filename = \"filecheck.csv\"\n",
    "  \n",
    "# # initializing the titles and rows list \n",
    "# fields = [] \n",
    "# rows = [] \n",
    "  \n",
    "# # reading csv file \n",
    "# with open(filename, 'r') as csvfile: \n",
    "#     # creating a csv reader object \n",
    "#     csvreader = csv.reader(csvfile) \n",
    "      \n",
    "#     # extracting field names through first row \n",
    "#     fields = next(csvreader) \n",
    "  \n",
    "#     # extracting each data row one by one \n",
    "#     for row in csvreader: \n",
    "#         rows.append(row) \n",
    "  \n",
    "#     # get total number of rows \n",
    "#     print(\"Total no. of rows: %d\"%(csvreader.line_num))"
   ]
  },
  {
   "cell_type": "code",
   "execution_count": 14,
   "metadata": {},
   "outputs": [],
   "source": [
    "import re"
   ]
  },
  {
   "cell_type": "code",
   "execution_count": 15,
   "metadata": {},
   "outputs": [],
   "source": [
    "# count = 0\n",
    "# for i in tqdm( range(len(rows)) ):\n",
    "#     if rows[i][1] == '1':\n",
    "#         count += 1\n",
    "#         start = rows[i][0].find(\"brushing_teeth/\")+len(\"brushing_teeth/\")\n",
    "#         stop = rows[i][0].find(\".mp4\")\n",
    "#         temp = re.split('_|-', rows[i][0][start:stop])\n",
    "#         b = temp[-1]\n",
    "#         a = temp[-2]\n",
    "#         stop = rows[i][0].find(\"_time\")\n",
    "#         vid = rows[i][0][start:stop]\n",
    "#         if True:\n",
    "#             addJSONEntry(vid, float(a), float(b), fname='iLabUpload_submission2.json')\n",
    "#         else:\n",
    "#             addJSONEntry(vid, float(a), float(b), fname='iLabUpload_submission2_part2.json')"
   ]
  },
  {
   "cell_type": "code",
   "execution_count": 16,
   "metadata": {
    "scrolled": false
   },
   "outputs": [
    {
     "name": "stdout",
     "output_type": "stream",
     "text": [
      "C:\\Users\\INIMFONAKPABIO\\Desktop\\Current classes\\grad_firstyear_spring_semester\\CSCE 636\\Project\\Submission10\n",
      "\n",
      " Volume in drive C is Windows\n",
      " Volume Serial Number is 8862-7334\n",
      "\n",
      " Directory of C:\\Users\\INIMFONAKPABIO\\Desktop\\Current classes\\grad_firstyear_spring_semester\\CSCE 636\\Project\\Submission10\n",
      "\n",
      "04/26/2021  07:49 PM    <DIR>          .\n",
      "04/26/2021  07:49 PM    <DIR>          ..\n",
      "04/26/2021  07:44 PM    <DIR>          .ipynb_checkpoints\n",
      "04/26/2021  03:48 PM    <DIR>          dataset_v10\n",
      "04/26/2021  07:42 PM         5,726,504 HMDB51_dataset_proc.ipynb\n",
      "04/26/2021  07:49 PM             8,642 video_download_trim.ipynb\n",
      "               2 File(s)      5,735,146 bytes\n",
      "               4 Dir(s)  520,555,446,272 bytes free\n"
     ]
    }
   ],
   "source": [
    "print(os.getcwd())\n",
    "print()\n",
    "!dir"
   ]
  },
  {
   "cell_type": "code",
   "execution_count": null,
   "metadata": {},
   "outputs": [],
   "source": []
  },
  {
   "cell_type": "markdown",
   "metadata": {},
   "source": [
    "# Downloads video using \"youtube-dl\". MAKE SURE YOU HAVE \"youtube-dl\" installed BEFORE RUNNING!! "
   ]
  },
  {
   "cell_type": "code",
   "execution_count": 17,
   "metadata": {},
   "outputs": [],
   "source": [
    "# !youtube-dl --help"
   ]
  },
  {
   "cell_type": "code",
   "execution_count": 18,
   "metadata": {},
   "outputs": [],
   "source": [
    "output = \"\""
   ]
  },
  {
   "cell_type": "code",
   "execution_count": 19,
   "metadata": {},
   "outputs": [],
   "source": [
    "# !youtube-dl --id -q https://www.youtube.com/watch?v=lCxSV7zy0qc"
   ]
  },
  {
   "cell_type": "code",
   "execution_count": 20,
   "metadata": {},
   "outputs": [
    {
     "name": "stdout",
     "output_type": "stream",
     "text": [
      "[0, 2, 4, 6, 8, 10, 12, 14, 16, 18]\n"
     ]
    }
   ],
   "source": [
    "times = list(range(0,20,2))\n",
    "print(times)"
   ]
  },
  {
   "cell_type": "code",
   "execution_count": 21,
   "metadata": {},
   "outputs": [],
   "source": [
    "times=[9]"
   ]
  },
  {
   "cell_type": "code",
   "execution_count": 22,
   "metadata": {},
   "outputs": [
    {
     "data": {
      "text/plain": [
       "1"
      ]
     },
     "execution_count": 22,
     "metadata": {},
     "output_type": "execute_result"
    }
   ],
   "source": [
    "len(times)"
   ]
  },
  {
   "cell_type": "code",
   "execution_count": 23,
   "metadata": {},
   "outputs": [
    {
     "name": "stdout",
     "output_type": "stream",
     "text": [
      "[Make_Clip]: Please specify a file path\n"
     ]
    }
   ],
   "source": [
    "Make_Clip(\"lCxSV7zy0qc\", times=times, output=output, ext='mp4', addEntry=True)"
   ]
  },
  {
   "cell_type": "code",
   "execution_count": null,
   "metadata": {},
   "outputs": [],
   "source": []
  },
  {
   "cell_type": "code",
   "execution_count": null,
   "metadata": {},
   "outputs": [],
   "source": []
  }
 ],
 "metadata": {
  "kernelspec": {
   "display_name": "Python 3",
   "language": "python",
   "name": "python3"
  },
  "language_info": {
   "codemirror_mode": {
    "name": "ipython",
    "version": 3
   },
   "file_extension": ".py",
   "mimetype": "text/x-python",
   "name": "python",
   "nbconvert_exporter": "python",
   "pygments_lexer": "ipython3",
   "version": "3.6.8"
  }
 },
 "nbformat": 4,
 "nbformat_minor": 4
}
